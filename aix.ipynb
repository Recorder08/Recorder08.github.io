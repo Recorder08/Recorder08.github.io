{
  "nbformat": 4,
  "nbformat_minor": 0,
  "metadata": {
    "colab": {
      "name": "aix.ipynb",
      "provenance": [],
      "collapsed_sections": [],
      "toc_visible": true,
      "include_colab_link": true
    },
    "kernelspec": {
      "name": "python3",
      "display_name": "Python 3"
    },
    "accelerator": "GPU"
  },
  "cells": [
    {
      "cell_type": "markdown",
      "metadata": {
        "id": "view-in-github",
        "colab_type": "text"
      },
      "source": [
        "<a href=\"https://colab.research.google.com/github/Recorder08/Recorder08.github.io/blob/master/aix.ipynb\" target=\"_parent\"><img src=\"https://colab.research.google.com/assets/colab-badge.svg\" alt=\"Open In Colab\"/></a>"
      ]
    },
    {
      "cell_type": "code",
      "metadata": {
        "colab": {
          "base_uri": "https://localhost:8080/"
        },
        "id": "LoGQ8ECmhoGt",
        "outputId": "044b8fb4-128c-42c2-c62c-5effe575ab10"
      },
      "source": [
        "from google.colab import drive \n",
        "drive.mount('/content/gdrive/')"
      ],
      "execution_count": 2,
      "outputs": [
        {
          "output_type": "stream",
          "text": [
            "Mounted at /content/gdrive/\n"
          ],
          "name": "stdout"
        }
      ]
    },
    {
      "cell_type": "markdown",
      "metadata": {
        "id": "tQjk0CikZkPt"
      },
      "source": [
        "#데이터 준비 및 분석 단계"
      ]
    },
    {
      "cell_type": "code",
      "metadata": {
        "id": "zcJThY15iCkV"
      },
      "source": [
        "# 데이터 분석 준비 및 import\n",
        "\n",
        "import pandas as pd\n",
        "import numpy as np\n",
        "\n",
        "import matplotlib as mpl\n",
        "from matplotlib import pyplot as plt\n",
        "import matplotlib.font_manager as fm\n",
        "import seaborn as sns\n",
        "\n",
        "%matplotlib inline\n",
        "mpl.rcParams['axes.unicode_minus'] = False\n",
        "plt.style.use('seaborn-colorblind')\n",
        "\n",
        "from sklearn.pipeline import Pipeline\n",
        "from sklearn.model_selection import train_test_split\n",
        "from sklearn.preprocessing import StandardScaler\n",
        "from sklearn.linear_model import LogisticRegression\n",
        "from sklearn.metrics import classification_report"
      ],
      "execution_count": 6,
      "outputs": []
    },
    {
      "cell_type": "code",
      "metadata": {
        "id": "tEUjm-5piCmz"
      },
      "source": [
        "# 데이터 로딩\n",
        "challenger_df = pd.read_csv('/content/gdrive/MyDrive/Challenger_Ranked_Games.csv')"
      ],
      "execution_count": 7,
      "outputs": []
    },
    {
      "cell_type": "code",
      "metadata": {
        "colab": {
          "base_uri": "https://localhost:8080/"
        },
        "id": "EkInply-iCpM",
        "outputId": "790c2074-df0e-46d8-a929-58ea0fc057b1"
      },
      "source": [
        "print(challenger_df.columns.values)"
      ],
      "execution_count": null,
      "outputs": [
        {
          "output_type": "stream",
          "text": [
            "['gameId' 'gameDuraton' 'blueWins' 'blueFirstBlood' 'blueFirstTower'\n",
            " 'blueFirstBaron' 'blueFirstDragon' 'blueFirstInhibitor' 'blueDragonKills'\n",
            " 'blueBaronKills' 'blueTowerKills' 'blueInhibitorKills' 'blueWardPlaced'\n",
            " 'blueWardkills' 'blueKills' 'blueDeath' 'blueAssist'\n",
            " 'blueChampionDamageDealt' 'blueTotalGold' 'blueTotalMinionKills'\n",
            " 'blueTotalLevel' 'blueAvgLevel' 'blueJungleMinionKills'\n",
            " 'blueKillingSpree' 'blueTotalHeal' 'blueObjectDamageDealt' 'redWins'\n",
            " 'redFirstBlood' 'redFirstTower' 'redFirstBaron' 'redFirstDragon'\n",
            " 'redFirstInhibitor' 'redDragonKills' 'redBaronKills' 'redTowerKills'\n",
            " 'redInhibitorKills' 'redWardPlaced' 'redWardkills' 'redKills' 'redDeath'\n",
            " 'redAssist' 'redChampionDamageDealt' 'redTotalGold' 'redTotalMinionKills'\n",
            " 'redTotalLevel' 'redAvgLevel' 'redJungleMinionKills' 'redKillingSpree'\n",
            " 'redTotalHeal' 'redObjectDamageDealt']\n"
          ],
          "name": "stdout"
        }
      ]
    },
    {
      "cell_type": "code",
      "metadata": {
        "colab": {
          "base_uri": "https://localhost:8080/",
          "height": 217
        },
        "id": "hZK8MhEkiCrb",
        "outputId": "8ee79dcf-6a41-4192-d337-a229f7d1c595"
      },
      "source": [
        "# 데이터 미리보기\n",
        "challenger_df.head()"
      ],
      "execution_count": null,
      "outputs": [
        {
          "output_type": "execute_result",
          "data": {
            "text/html": [
              "<div>\n",
              "<style scoped>\n",
              "    .dataframe tbody tr th:only-of-type {\n",
              "        vertical-align: middle;\n",
              "    }\n",
              "\n",
              "    .dataframe tbody tr th {\n",
              "        vertical-align: top;\n",
              "    }\n",
              "\n",
              "    .dataframe thead th {\n",
              "        text-align: right;\n",
              "    }\n",
              "</style>\n",
              "<table border=\"1\" class=\"dataframe\">\n",
              "  <thead>\n",
              "    <tr style=\"text-align: right;\">\n",
              "      <th></th>\n",
              "      <th>gameId</th>\n",
              "      <th>gameDuraton</th>\n",
              "      <th>blueWins</th>\n",
              "      <th>blueFirstBlood</th>\n",
              "      <th>blueFirstTower</th>\n",
              "      <th>blueFirstBaron</th>\n",
              "      <th>blueFirstDragon</th>\n",
              "      <th>blueFirstInhibitor</th>\n",
              "      <th>blueDragonKills</th>\n",
              "      <th>blueBaronKills</th>\n",
              "      <th>blueTowerKills</th>\n",
              "      <th>blueInhibitorKills</th>\n",
              "      <th>blueWardPlaced</th>\n",
              "      <th>blueWardkills</th>\n",
              "      <th>blueKills</th>\n",
              "      <th>blueDeath</th>\n",
              "      <th>blueAssist</th>\n",
              "      <th>blueChampionDamageDealt</th>\n",
              "      <th>blueTotalGold</th>\n",
              "      <th>blueTotalMinionKills</th>\n",
              "      <th>blueTotalLevel</th>\n",
              "      <th>blueAvgLevel</th>\n",
              "      <th>blueJungleMinionKills</th>\n",
              "      <th>blueKillingSpree</th>\n",
              "      <th>blueTotalHeal</th>\n",
              "      <th>blueObjectDamageDealt</th>\n",
              "      <th>redWins</th>\n",
              "      <th>redFirstBlood</th>\n",
              "      <th>redFirstTower</th>\n",
              "      <th>redFirstBaron</th>\n",
              "      <th>redFirstDragon</th>\n",
              "      <th>redFirstInhibitor</th>\n",
              "      <th>redDragonKills</th>\n",
              "      <th>redBaronKills</th>\n",
              "      <th>redTowerKills</th>\n",
              "      <th>redInhibitorKills</th>\n",
              "      <th>redWardPlaced</th>\n",
              "      <th>redWardkills</th>\n",
              "      <th>redKills</th>\n",
              "      <th>redDeath</th>\n",
              "      <th>redAssist</th>\n",
              "      <th>redChampionDamageDealt</th>\n",
              "      <th>redTotalGold</th>\n",
              "      <th>redTotalMinionKills</th>\n",
              "      <th>redTotalLevel</th>\n",
              "      <th>redAvgLevel</th>\n",
              "      <th>redJungleMinionKills</th>\n",
              "      <th>redKillingSpree</th>\n",
              "      <th>redTotalHeal</th>\n",
              "      <th>redObjectDamageDealt</th>\n",
              "    </tr>\n",
              "  </thead>\n",
              "  <tbody>\n",
              "    <tr>\n",
              "      <th>0</th>\n",
              "      <td>4247263043</td>\n",
              "      <td>1323</td>\n",
              "      <td>0</td>\n",
              "      <td>1</td>\n",
              "      <td>0</td>\n",
              "      <td>0</td>\n",
              "      <td>0</td>\n",
              "      <td>0</td>\n",
              "      <td>0</td>\n",
              "      <td>0</td>\n",
              "      <td>0</td>\n",
              "      <td>0</td>\n",
              "      <td>38</td>\n",
              "      <td>13</td>\n",
              "      <td>15</td>\n",
              "      <td>31</td>\n",
              "      <td>22</td>\n",
              "      <td>56039</td>\n",
              "      <td>37001</td>\n",
              "      <td>440</td>\n",
              "      <td>56</td>\n",
              "      <td>11.2</td>\n",
              "      <td>105</td>\n",
              "      <td>4</td>\n",
              "      <td>31035</td>\n",
              "      <td>5675</td>\n",
              "      <td>1</td>\n",
              "      <td>0</td>\n",
              "      <td>1</td>\n",
              "      <td>0</td>\n",
              "      <td>1</td>\n",
              "      <td>1</td>\n",
              "      <td>3</td>\n",
              "      <td>0</td>\n",
              "      <td>9</td>\n",
              "      <td>1</td>\n",
              "      <td>50</td>\n",
              "      <td>17</td>\n",
              "      <td>31</td>\n",
              "      <td>15</td>\n",
              "      <td>68</td>\n",
              "      <td>73016</td>\n",
              "      <td>49832</td>\n",
              "      <td>533</td>\n",
              "      <td>64</td>\n",
              "      <td>12.8</td>\n",
              "      <td>138</td>\n",
              "      <td>8</td>\n",
              "      <td>38711</td>\n",
              "      <td>60463</td>\n",
              "    </tr>\n",
              "    <tr>\n",
              "      <th>1</th>\n",
              "      <td>4247155821</td>\n",
              "      <td>1317</td>\n",
              "      <td>1</td>\n",
              "      <td>0</td>\n",
              "      <td>0</td>\n",
              "      <td>0</td>\n",
              "      <td>1</td>\n",
              "      <td>0</td>\n",
              "      <td>2</td>\n",
              "      <td>0</td>\n",
              "      <td>4</td>\n",
              "      <td>0</td>\n",
              "      <td>57</td>\n",
              "      <td>18</td>\n",
              "      <td>19</td>\n",
              "      <td>8</td>\n",
              "      <td>31</td>\n",
              "      <td>60243</td>\n",
              "      <td>41072</td>\n",
              "      <td>531</td>\n",
              "      <td>63</td>\n",
              "      <td>12.6</td>\n",
              "      <td>111</td>\n",
              "      <td>3</td>\n",
              "      <td>26397</td>\n",
              "      <td>45303</td>\n",
              "      <td>0</td>\n",
              "      <td>1</td>\n",
              "      <td>1</td>\n",
              "      <td>0</td>\n",
              "      <td>0</td>\n",
              "      <td>0</td>\n",
              "      <td>0</td>\n",
              "      <td>0</td>\n",
              "      <td>2</td>\n",
              "      <td>0</td>\n",
              "      <td>46</td>\n",
              "      <td>18</td>\n",
              "      <td>8</td>\n",
              "      <td>19</td>\n",
              "      <td>8</td>\n",
              "      <td>44218</td>\n",
              "      <td>37136</td>\n",
              "      <td>571</td>\n",
              "      <td>59</td>\n",
              "      <td>11.8</td>\n",
              "      <td>134</td>\n",
              "      <td>3</td>\n",
              "      <td>24829</td>\n",
              "      <td>14105</td>\n",
              "    </tr>\n",
              "    <tr>\n",
              "      <th>2</th>\n",
              "      <td>4243963257</td>\n",
              "      <td>932</td>\n",
              "      <td>0</td>\n",
              "      <td>0</td>\n",
              "      <td>0</td>\n",
              "      <td>0</td>\n",
              "      <td>0</td>\n",
              "      <td>0</td>\n",
              "      <td>0</td>\n",
              "      <td>0</td>\n",
              "      <td>0</td>\n",
              "      <td>0</td>\n",
              "      <td>28</td>\n",
              "      <td>7</td>\n",
              "      <td>5</td>\n",
              "      <td>20</td>\n",
              "      <td>8</td>\n",
              "      <td>24014</td>\n",
              "      <td>22929</td>\n",
              "      <td>306</td>\n",
              "      <td>42</td>\n",
              "      <td>8.4</td>\n",
              "      <td>64</td>\n",
              "      <td>0</td>\n",
              "      <td>6567</td>\n",
              "      <td>5651</td>\n",
              "      <td>1</td>\n",
              "      <td>1</td>\n",
              "      <td>1</td>\n",
              "      <td>0</td>\n",
              "      <td>1</td>\n",
              "      <td>1</td>\n",
              "      <td>2</td>\n",
              "      <td>0</td>\n",
              "      <td>5</td>\n",
              "      <td>1</td>\n",
              "      <td>40</td>\n",
              "      <td>9</td>\n",
              "      <td>20</td>\n",
              "      <td>5</td>\n",
              "      <td>20</td>\n",
              "      <td>30797</td>\n",
              "      <td>35364</td>\n",
              "      <td>400</td>\n",
              "      <td>50</td>\n",
              "      <td>10.0</td>\n",
              "      <td>89</td>\n",
              "      <td>5</td>\n",
              "      <td>12589</td>\n",
              "      <td>45201</td>\n",
              "    </tr>\n",
              "    <tr>\n",
              "      <th>3</th>\n",
              "      <td>4241678498</td>\n",
              "      <td>2098</td>\n",
              "      <td>0</td>\n",
              "      <td>0</td>\n",
              "      <td>0</td>\n",
              "      <td>1</td>\n",
              "      <td>1</td>\n",
              "      <td>0</td>\n",
              "      <td>1</td>\n",
              "      <td>1</td>\n",
              "      <td>2</td>\n",
              "      <td>0</td>\n",
              "      <td>129</td>\n",
              "      <td>39</td>\n",
              "      <td>26</td>\n",
              "      <td>36</td>\n",
              "      <td>45</td>\n",
              "      <td>101607</td>\n",
              "      <td>63447</td>\n",
              "      <td>774</td>\n",
              "      <td>80</td>\n",
              "      <td>16.0</td>\n",
              "      <td>226</td>\n",
              "      <td>3</td>\n",
              "      <td>24718</td>\n",
              "      <td>31019</td>\n",
              "      <td>1</td>\n",
              "      <td>1</td>\n",
              "      <td>1</td>\n",
              "      <td>0</td>\n",
              "      <td>0</td>\n",
              "      <td>0</td>\n",
              "      <td>3</td>\n",
              "      <td>1</td>\n",
              "      <td>6</td>\n",
              "      <td>0</td>\n",
              "      <td>96</td>\n",
              "      <td>56</td>\n",
              "      <td>36</td>\n",
              "      <td>26</td>\n",
              "      <td>72</td>\n",
              "      <td>125866</td>\n",
              "      <td>70528</td>\n",
              "      <td>832</td>\n",
              "      <td>84</td>\n",
              "      <td>16.8</td>\n",
              "      <td>205</td>\n",
              "      <td>9</td>\n",
              "      <td>65312</td>\n",
              "      <td>88202</td>\n",
              "    </tr>\n",
              "    <tr>\n",
              "      <th>4</th>\n",
              "      <td>4241538868</td>\n",
              "      <td>2344</td>\n",
              "      <td>1</td>\n",
              "      <td>1</td>\n",
              "      <td>1</td>\n",
              "      <td>1</td>\n",
              "      <td>1</td>\n",
              "      <td>1</td>\n",
              "      <td>2</td>\n",
              "      <td>2</td>\n",
              "      <td>11</td>\n",
              "      <td>3</td>\n",
              "      <td>114</td>\n",
              "      <td>35</td>\n",
              "      <td>27</td>\n",
              "      <td>40</td>\n",
              "      <td>47</td>\n",
              "      <td>134826</td>\n",
              "      <td>74955</td>\n",
              "      <td>831</td>\n",
              "      <td>83</td>\n",
              "      <td>16.6</td>\n",
              "      <td>252</td>\n",
              "      <td>5</td>\n",
              "      <td>37161</td>\n",
              "      <td>95287</td>\n",
              "      <td>0</td>\n",
              "      <td>0</td>\n",
              "      <td>0</td>\n",
              "      <td>0</td>\n",
              "      <td>0</td>\n",
              "      <td>0</td>\n",
              "      <td>3</td>\n",
              "      <td>1</td>\n",
              "      <td>6</td>\n",
              "      <td>1</td>\n",
              "      <td>100</td>\n",
              "      <td>43</td>\n",
              "      <td>40</td>\n",
              "      <td>27</td>\n",
              "      <td>83</td>\n",
              "      <td>131536</td>\n",
              "      <td>74596</td>\n",
              "      <td>794</td>\n",
              "      <td>85</td>\n",
              "      <td>17.0</td>\n",
              "      <td>227</td>\n",
              "      <td>7</td>\n",
              "      <td>86431</td>\n",
              "      <td>64141</td>\n",
              "    </tr>\n",
              "  </tbody>\n",
              "</table>\n",
              "</div>"
            ],
            "text/plain": [
              "       gameId  gameDuraton  ...  redTotalHeal  redObjectDamageDealt\n",
              "0  4247263043         1323  ...         38711                 60463\n",
              "1  4247155821         1317  ...         24829                 14105\n",
              "2  4243963257          932  ...         12589                 45201\n",
              "3  4241678498         2098  ...         65312                 88202\n",
              "4  4241538868         2344  ...         86431                 64141\n",
              "\n",
              "[5 rows x 50 columns]"
            ]
          },
          "metadata": {
            "tags": []
          },
          "execution_count": 7
        }
      ]
    },
    {
      "cell_type": "code",
      "metadata": {
        "colab": {
          "base_uri": "https://localhost:8080/"
        },
        "id": "3_G163hviCth",
        "outputId": "57a48972-fdaa-4ce0-9047-fe67d2a0b10f"
      },
      "source": [
        "challenger_df.info() "
      ],
      "execution_count": null,
      "outputs": [
        {
          "output_type": "stream",
          "text": [
            "<class 'pandas.core.frame.DataFrame'>\n",
            "RangeIndex: 26904 entries, 0 to 26903\n",
            "Data columns (total 50 columns):\n",
            " #   Column                   Non-Null Count  Dtype  \n",
            "---  ------                   --------------  -----  \n",
            " 0   gameId                   26904 non-null  int64  \n",
            " 1   gameDuraton              26904 non-null  int64  \n",
            " 2   blueWins                 26904 non-null  int64  \n",
            " 3   blueFirstBlood           26904 non-null  int64  \n",
            " 4   blueFirstTower           26904 non-null  int64  \n",
            " 5   blueFirstBaron           26904 non-null  int64  \n",
            " 6   blueFirstDragon          26904 non-null  int64  \n",
            " 7   blueFirstInhibitor       26904 non-null  int64  \n",
            " 8   blueDragonKills          26904 non-null  int64  \n",
            " 9   blueBaronKills           26904 non-null  int64  \n",
            " 10  blueTowerKills           26904 non-null  int64  \n",
            " 11  blueInhibitorKills       26904 non-null  int64  \n",
            " 12  blueWardPlaced           26904 non-null  int64  \n",
            " 13  blueWardkills            26904 non-null  int64  \n",
            " 14  blueKills                26904 non-null  int64  \n",
            " 15  blueDeath                26904 non-null  int64  \n",
            " 16  blueAssist               26904 non-null  int64  \n",
            " 17  blueChampionDamageDealt  26904 non-null  int64  \n",
            " 18  blueTotalGold            26904 non-null  int64  \n",
            " 19  blueTotalMinionKills     26904 non-null  int64  \n",
            " 20  blueTotalLevel           26904 non-null  int64  \n",
            " 21  blueAvgLevel             26904 non-null  float64\n",
            " 22  blueJungleMinionKills    26904 non-null  int64  \n",
            " 23  blueKillingSpree         26904 non-null  int64  \n",
            " 24  blueTotalHeal            26904 non-null  int64  \n",
            " 25  blueObjectDamageDealt    26904 non-null  int64  \n",
            " 26  redWins                  26904 non-null  int64  \n",
            " 27  redFirstBlood            26904 non-null  int64  \n",
            " 28  redFirstTower            26904 non-null  int64  \n",
            " 29  redFirstBaron            26904 non-null  int64  \n",
            " 30  redFirstDragon           26904 non-null  int64  \n",
            " 31  redFirstInhibitor        26904 non-null  int64  \n",
            " 32  redDragonKills           26904 non-null  int64  \n",
            " 33  redBaronKills            26904 non-null  int64  \n",
            " 34  redTowerKills            26904 non-null  int64  \n",
            " 35  redInhibitorKills        26904 non-null  int64  \n",
            " 36  redWardPlaced            26904 non-null  int64  \n",
            " 37  redWardkills             26904 non-null  int64  \n",
            " 38  redKills                 26904 non-null  int64  \n",
            " 39  redDeath                 26904 non-null  int64  \n",
            " 40  redAssist                26904 non-null  int64  \n",
            " 41  redChampionDamageDealt   26904 non-null  int64  \n",
            " 42  redTotalGold             26904 non-null  int64  \n",
            " 43  redTotalMinionKills      26904 non-null  int64  \n",
            " 44  redTotalLevel            26904 non-null  int64  \n",
            " 45  redAvgLevel              26904 non-null  float64\n",
            " 46  redJungleMinionKills     26904 non-null  int64  \n",
            " 47  redKillingSpree          26904 non-null  int64  \n",
            " 48  redTotalHeal             26904 non-null  int64  \n",
            " 49  redObjectDamageDealt     26904 non-null  int64  \n",
            "dtypes: float64(2), int64(48)\n",
            "memory usage: 10.3 MB\n"
          ],
          "name": "stdout"
        }
      ]
    },
    {
      "cell_type": "code",
      "metadata": {
        "colab": {
          "base_uri": "https://localhost:8080/",
          "height": 307
        },
        "id": "HTW98PjUiCv9",
        "outputId": "322cc0b5-b04b-4142-c39a-894d37617c5f"
      },
      "source": [
        "challenger_df.describe()"
      ],
      "execution_count": null,
      "outputs": [
        {
          "output_type": "execute_result",
          "data": {
            "text/html": [
              "<div>\n",
              "<style scoped>\n",
              "    .dataframe tbody tr th:only-of-type {\n",
              "        vertical-align: middle;\n",
              "    }\n",
              "\n",
              "    .dataframe tbody tr th {\n",
              "        vertical-align: top;\n",
              "    }\n",
              "\n",
              "    .dataframe thead th {\n",
              "        text-align: right;\n",
              "    }\n",
              "</style>\n",
              "<table border=\"1\" class=\"dataframe\">\n",
              "  <thead>\n",
              "    <tr style=\"text-align: right;\">\n",
              "      <th></th>\n",
              "      <th>gameId</th>\n",
              "      <th>gameDuraton</th>\n",
              "      <th>blueWins</th>\n",
              "      <th>blueFirstBlood</th>\n",
              "      <th>blueFirstTower</th>\n",
              "      <th>blueFirstBaron</th>\n",
              "      <th>blueFirstDragon</th>\n",
              "      <th>blueFirstInhibitor</th>\n",
              "      <th>blueDragonKills</th>\n",
              "      <th>blueBaronKills</th>\n",
              "      <th>blueTowerKills</th>\n",
              "      <th>blueInhibitorKills</th>\n",
              "      <th>blueWardPlaced</th>\n",
              "      <th>blueWardkills</th>\n",
              "      <th>blueKills</th>\n",
              "      <th>blueDeath</th>\n",
              "      <th>blueAssist</th>\n",
              "      <th>blueChampionDamageDealt</th>\n",
              "      <th>blueTotalGold</th>\n",
              "      <th>blueTotalMinionKills</th>\n",
              "      <th>blueTotalLevel</th>\n",
              "      <th>blueAvgLevel</th>\n",
              "      <th>blueJungleMinionKills</th>\n",
              "      <th>blueKillingSpree</th>\n",
              "      <th>blueTotalHeal</th>\n",
              "      <th>blueObjectDamageDealt</th>\n",
              "      <th>redWins</th>\n",
              "      <th>redFirstBlood</th>\n",
              "      <th>redFirstTower</th>\n",
              "      <th>redFirstBaron</th>\n",
              "      <th>redFirstDragon</th>\n",
              "      <th>redFirstInhibitor</th>\n",
              "      <th>redDragonKills</th>\n",
              "      <th>redBaronKills</th>\n",
              "      <th>redTowerKills</th>\n",
              "      <th>redInhibitorKills</th>\n",
              "      <th>redWardPlaced</th>\n",
              "      <th>redWardkills</th>\n",
              "      <th>redKills</th>\n",
              "      <th>redDeath</th>\n",
              "      <th>redAssist</th>\n",
              "      <th>redChampionDamageDealt</th>\n",
              "      <th>redTotalGold</th>\n",
              "      <th>redTotalMinionKills</th>\n",
              "      <th>redTotalLevel</th>\n",
              "      <th>redAvgLevel</th>\n",
              "      <th>redJungleMinionKills</th>\n",
              "      <th>redKillingSpree</th>\n",
              "      <th>redTotalHeal</th>\n",
              "      <th>redObjectDamageDealt</th>\n",
              "    </tr>\n",
              "  </thead>\n",
              "  <tbody>\n",
              "    <tr>\n",
              "      <th>count</th>\n",
              "      <td>2.690400e+04</td>\n",
              "      <td>26904.000000</td>\n",
              "      <td>26904.000000</td>\n",
              "      <td>26904.000000</td>\n",
              "      <td>26904.000000</td>\n",
              "      <td>26904.000000</td>\n",
              "      <td>26904.000000</td>\n",
              "      <td>26904.000000</td>\n",
              "      <td>26904.000000</td>\n",
              "      <td>26904.000000</td>\n",
              "      <td>26904.000000</td>\n",
              "      <td>26904.000000</td>\n",
              "      <td>26904.000000</td>\n",
              "      <td>26904.000000</td>\n",
              "      <td>26904.000000</td>\n",
              "      <td>26904.000000</td>\n",
              "      <td>26904.000000</td>\n",
              "      <td>26904.000000</td>\n",
              "      <td>26904.000000</td>\n",
              "      <td>26904.000000</td>\n",
              "      <td>26904.000000</td>\n",
              "      <td>26904.000000</td>\n",
              "      <td>26904.000000</td>\n",
              "      <td>26904.000000</td>\n",
              "      <td>26904.000000</td>\n",
              "      <td>26904.000000</td>\n",
              "      <td>26904.000000</td>\n",
              "      <td>26904.000000</td>\n",
              "      <td>26904.000000</td>\n",
              "      <td>26904.000000</td>\n",
              "      <td>26904.000000</td>\n",
              "      <td>26904.000000</td>\n",
              "      <td>26904.000000</td>\n",
              "      <td>26904.000000</td>\n",
              "      <td>26904.000000</td>\n",
              "      <td>26904.000000</td>\n",
              "      <td>26904.000000</td>\n",
              "      <td>26904.000000</td>\n",
              "      <td>26904.000000</td>\n",
              "      <td>26904.000000</td>\n",
              "      <td>26904.000000</td>\n",
              "      <td>26904.000000</td>\n",
              "      <td>26904.000000</td>\n",
              "      <td>26904.000000</td>\n",
              "      <td>26904.000000</td>\n",
              "      <td>26904.000000</td>\n",
              "      <td>26904.000000</td>\n",
              "      <td>26904.000000</td>\n",
              "      <td>26904.000000</td>\n",
              "      <td>26904.000000</td>\n",
              "    </tr>\n",
              "    <tr>\n",
              "      <th>mean</th>\n",
              "      <td>4.171927e+09</td>\n",
              "      <td>1448.653657</td>\n",
              "      <td>0.500074</td>\n",
              "      <td>0.503531</td>\n",
              "      <td>0.525610</td>\n",
              "      <td>0.244090</td>\n",
              "      <td>0.406334</td>\n",
              "      <td>0.367120</td>\n",
              "      <td>1.389719</td>\n",
              "      <td>0.307018</td>\n",
              "      <td>4.397562</td>\n",
              "      <td>0.619871</td>\n",
              "      <td>58.640351</td>\n",
              "      <td>22.330137</td>\n",
              "      <td>24.189414</td>\n",
              "      <td>24.180568</td>\n",
              "      <td>39.986396</td>\n",
              "      <td>69746.341882</td>\n",
              "      <td>48169.129906</td>\n",
              "      <td>520.446588</td>\n",
              "      <td>65.024234</td>\n",
              "      <td>13.004847</td>\n",
              "      <td>129.586939</td>\n",
              "      <td>5.554193</td>\n",
              "      <td>25050.636225</td>\n",
              "      <td>38393.883066</td>\n",
              "      <td>0.499926</td>\n",
              "      <td>0.494462</td>\n",
              "      <td>0.462719</td>\n",
              "      <td>0.266615</td>\n",
              "      <td>0.503531</td>\n",
              "      <td>0.348536</td>\n",
              "      <td>1.563857</td>\n",
              "      <td>0.336307</td>\n",
              "      <td>4.255910</td>\n",
              "      <td>0.584932</td>\n",
              "      <td>58.832255</td>\n",
              "      <td>21.912095</td>\n",
              "      <td>24.101175</td>\n",
              "      <td>24.268585</td>\n",
              "      <td>39.800736</td>\n",
              "      <td>69528.259441</td>\n",
              "      <td>48207.976398</td>\n",
              "      <td>526.337682</td>\n",
              "      <td>65.213165</td>\n",
              "      <td>13.042633</td>\n",
              "      <td>130.468704</td>\n",
              "      <td>5.541704</td>\n",
              "      <td>25505.503085</td>\n",
              "      <td>37648.115336</td>\n",
              "    </tr>\n",
              "    <tr>\n",
              "      <th>std</th>\n",
              "      <td>7.479506e+07</td>\n",
              "      <td>422.577288</td>\n",
              "      <td>0.500009</td>\n",
              "      <td>0.499997</td>\n",
              "      <td>0.499353</td>\n",
              "      <td>0.429554</td>\n",
              "      <td>0.491157</td>\n",
              "      <td>0.482029</td>\n",
              "      <td>1.247393</td>\n",
              "      <td>0.537140</td>\n",
              "      <td>3.327761</td>\n",
              "      <td>0.901444</td>\n",
              "      <td>31.351606</td>\n",
              "      <td>15.502273</td>\n",
              "      <td>12.954288</td>\n",
              "      <td>13.042858</td>\n",
              "      <td>27.770103</td>\n",
              "      <td>35763.374883</td>\n",
              "      <td>15476.235577</td>\n",
              "      <td>175.971130</td>\n",
              "      <td>14.062380</td>\n",
              "      <td>2.812476</td>\n",
              "      <td>64.662998</td>\n",
              "      <td>3.493384</td>\n",
              "      <td>15112.644802</td>\n",
              "      <td>26335.664719</td>\n",
              "      <td>0.500009</td>\n",
              "      <td>0.499979</td>\n",
              "      <td>0.498617</td>\n",
              "      <td>0.442197</td>\n",
              "      <td>0.499997</td>\n",
              "      <td>0.476515</td>\n",
              "      <td>1.299117</td>\n",
              "      <td>0.559479</td>\n",
              "      <td>3.325612</td>\n",
              "      <td>0.870919</td>\n",
              "      <td>31.621680</td>\n",
              "      <td>15.275608</td>\n",
              "      <td>13.024843</td>\n",
              "      <td>12.972992</td>\n",
              "      <td>27.722135</td>\n",
              "      <td>35866.105905</td>\n",
              "      <td>15627.093121</td>\n",
              "      <td>178.994313</td>\n",
              "      <td>14.105689</td>\n",
              "      <td>2.821138</td>\n",
              "      <td>64.618529</td>\n",
              "      <td>3.494662</td>\n",
              "      <td>15330.689295</td>\n",
              "      <td>26509.187910</td>\n",
              "    </tr>\n",
              "    <tr>\n",
              "      <th>min</th>\n",
              "      <td>3.482433e+09</td>\n",
              "      <td>190.000000</td>\n",
              "      <td>0.000000</td>\n",
              "      <td>0.000000</td>\n",
              "      <td>0.000000</td>\n",
              "      <td>0.000000</td>\n",
              "      <td>0.000000</td>\n",
              "      <td>0.000000</td>\n",
              "      <td>0.000000</td>\n",
              "      <td>0.000000</td>\n",
              "      <td>0.000000</td>\n",
              "      <td>0.000000</td>\n",
              "      <td>0.000000</td>\n",
              "      <td>0.000000</td>\n",
              "      <td>0.000000</td>\n",
              "      <td>0.000000</td>\n",
              "      <td>0.000000</td>\n",
              "      <td>0.000000</td>\n",
              "      <td>3704.000000</td>\n",
              "      <td>0.000000</td>\n",
              "      <td>5.000000</td>\n",
              "      <td>1.000000</td>\n",
              "      <td>0.000000</td>\n",
              "      <td>0.000000</td>\n",
              "      <td>0.000000</td>\n",
              "      <td>0.000000</td>\n",
              "      <td>0.000000</td>\n",
              "      <td>0.000000</td>\n",
              "      <td>0.000000</td>\n",
              "      <td>0.000000</td>\n",
              "      <td>0.000000</td>\n",
              "      <td>0.000000</td>\n",
              "      <td>0.000000</td>\n",
              "      <td>0.000000</td>\n",
              "      <td>0.000000</td>\n",
              "      <td>0.000000</td>\n",
              "      <td>0.000000</td>\n",
              "      <td>0.000000</td>\n",
              "      <td>0.000000</td>\n",
              "      <td>0.000000</td>\n",
              "      <td>0.000000</td>\n",
              "      <td>0.000000</td>\n",
              "      <td>3340.000000</td>\n",
              "      <td>0.000000</td>\n",
              "      <td>5.000000</td>\n",
              "      <td>1.000000</td>\n",
              "      <td>0.000000</td>\n",
              "      <td>0.000000</td>\n",
              "      <td>0.000000</td>\n",
              "      <td>0.000000</td>\n",
              "    </tr>\n",
              "    <tr>\n",
              "      <th>25%</th>\n",
              "      <td>4.142427e+09</td>\n",
              "      <td>1152.000000</td>\n",
              "      <td>0.000000</td>\n",
              "      <td>0.000000</td>\n",
              "      <td>0.000000</td>\n",
              "      <td>0.000000</td>\n",
              "      <td>0.000000</td>\n",
              "      <td>0.000000</td>\n",
              "      <td>0.000000</td>\n",
              "      <td>0.000000</td>\n",
              "      <td>1.000000</td>\n",
              "      <td>0.000000</td>\n",
              "      <td>38.000000</td>\n",
              "      <td>11.000000</td>\n",
              "      <td>15.000000</td>\n",
              "      <td>15.000000</td>\n",
              "      <td>20.000000</td>\n",
              "      <td>43205.250000</td>\n",
              "      <td>37191.000000</td>\n",
              "      <td>409.000000</td>\n",
              "      <td>56.000000</td>\n",
              "      <td>11.200000</td>\n",
              "      <td>90.000000</td>\n",
              "      <td>3.000000</td>\n",
              "      <td>14105.500000</td>\n",
              "      <td>15608.000000</td>\n",
              "      <td>0.000000</td>\n",
              "      <td>0.000000</td>\n",
              "      <td>0.000000</td>\n",
              "      <td>0.000000</td>\n",
              "      <td>0.000000</td>\n",
              "      <td>0.000000</td>\n",
              "      <td>0.000000</td>\n",
              "      <td>0.000000</td>\n",
              "      <td>1.000000</td>\n",
              "      <td>0.000000</td>\n",
              "      <td>38.000000</td>\n",
              "      <td>10.000000</td>\n",
              "      <td>15.000000</td>\n",
              "      <td>15.000000</td>\n",
              "      <td>20.000000</td>\n",
              "      <td>43068.250000</td>\n",
              "      <td>37127.250000</td>\n",
              "      <td>412.000000</td>\n",
              "      <td>56.000000</td>\n",
              "      <td>11.200000</td>\n",
              "      <td>91.000000</td>\n",
              "      <td>3.000000</td>\n",
              "      <td>14499.750000</td>\n",
              "      <td>14454.000000</td>\n",
              "    </tr>\n",
              "    <tr>\n",
              "      <th>50%</th>\n",
              "      <td>4.190657e+09</td>\n",
              "      <td>1435.000000</td>\n",
              "      <td>1.000000</td>\n",
              "      <td>1.000000</td>\n",
              "      <td>1.000000</td>\n",
              "      <td>0.000000</td>\n",
              "      <td>0.000000</td>\n",
              "      <td>0.000000</td>\n",
              "      <td>1.000000</td>\n",
              "      <td>0.000000</td>\n",
              "      <td>4.000000</td>\n",
              "      <td>0.000000</td>\n",
              "      <td>58.000000</td>\n",
              "      <td>21.000000</td>\n",
              "      <td>23.000000</td>\n",
              "      <td>23.000000</td>\n",
              "      <td>36.000000</td>\n",
              "      <td>65013.000000</td>\n",
              "      <td>48104.000000</td>\n",
              "      <td>534.000000</td>\n",
              "      <td>66.000000</td>\n",
              "      <td>13.200000</td>\n",
              "      <td>131.000000</td>\n",
              "      <td>5.000000</td>\n",
              "      <td>21990.000000</td>\n",
              "      <td>34940.500000</td>\n",
              "      <td>0.000000</td>\n",
              "      <td>0.000000</td>\n",
              "      <td>0.000000</td>\n",
              "      <td>0.000000</td>\n",
              "      <td>1.000000</td>\n",
              "      <td>0.000000</td>\n",
              "      <td>1.000000</td>\n",
              "      <td>0.000000</td>\n",
              "      <td>4.000000</td>\n",
              "      <td>0.000000</td>\n",
              "      <td>58.000000</td>\n",
              "      <td>20.000000</td>\n",
              "      <td>23.000000</td>\n",
              "      <td>23.000000</td>\n",
              "      <td>35.000000</td>\n",
              "      <td>64655.000000</td>\n",
              "      <td>48037.000000</td>\n",
              "      <td>541.000000</td>\n",
              "      <td>66.000000</td>\n",
              "      <td>13.200000</td>\n",
              "      <td>132.000000</td>\n",
              "      <td>5.000000</td>\n",
              "      <td>22377.000000</td>\n",
              "      <td>33385.000000</td>\n",
              "    </tr>\n",
              "    <tr>\n",
              "      <th>75%</th>\n",
              "      <td>4.219650e+09</td>\n",
              "      <td>1738.000000</td>\n",
              "      <td>1.000000</td>\n",
              "      <td>1.000000</td>\n",
              "      <td>1.000000</td>\n",
              "      <td>0.000000</td>\n",
              "      <td>1.000000</td>\n",
              "      <td>1.000000</td>\n",
              "      <td>2.000000</td>\n",
              "      <td>1.000000</td>\n",
              "      <td>7.000000</td>\n",
              "      <td>1.000000</td>\n",
              "      <td>79.000000</td>\n",
              "      <td>32.000000</td>\n",
              "      <td>32.000000</td>\n",
              "      <td>32.000000</td>\n",
              "      <td>53.000000</td>\n",
              "      <td>90159.500000</td>\n",
              "      <td>58656.500000</td>\n",
              "      <td>639.000000</td>\n",
              "      <td>75.000000</td>\n",
              "      <td>15.000000</td>\n",
              "      <td>173.000000</td>\n",
              "      <td>7.000000</td>\n",
              "      <td>32725.750000</td>\n",
              "      <td>57829.250000</td>\n",
              "      <td>1.000000</td>\n",
              "      <td>1.000000</td>\n",
              "      <td>1.000000</td>\n",
              "      <td>1.000000</td>\n",
              "      <td>1.000000</td>\n",
              "      <td>1.000000</td>\n",
              "      <td>3.000000</td>\n",
              "      <td>1.000000</td>\n",
              "      <td>7.000000</td>\n",
              "      <td>1.000000</td>\n",
              "      <td>79.000000</td>\n",
              "      <td>31.000000</td>\n",
              "      <td>32.000000</td>\n",
              "      <td>32.000000</td>\n",
              "      <td>53.000000</td>\n",
              "      <td>89811.750000</td>\n",
              "      <td>58719.250000</td>\n",
              "      <td>648.000000</td>\n",
              "      <td>75.000000</td>\n",
              "      <td>15.000000</td>\n",
              "      <td>174.000000</td>\n",
              "      <td>7.000000</td>\n",
              "      <td>33217.250000</td>\n",
              "      <td>57690.000000</td>\n",
              "    </tr>\n",
              "    <tr>\n",
              "      <th>max</th>\n",
              "      <td>4.261026e+09</td>\n",
              "      <td>3301.000000</td>\n",
              "      <td>1.000000</td>\n",
              "      <td>1.000000</td>\n",
              "      <td>1.000000</td>\n",
              "      <td>1.000000</td>\n",
              "      <td>1.000000</td>\n",
              "      <td>1.000000</td>\n",
              "      <td>7.000000</td>\n",
              "      <td>4.000000</td>\n",
              "      <td>11.000000</td>\n",
              "      <td>9.000000</td>\n",
              "      <td>230.000000</td>\n",
              "      <td>109.000000</td>\n",
              "      <td>99.000000</td>\n",
              "      <td>102.000000</td>\n",
              "      <td>238.000000</td>\n",
              "      <td>333957.000000</td>\n",
              "      <td>121920.000000</td>\n",
              "      <td>1267.000000</td>\n",
              "      <td>132.000000</td>\n",
              "      <td>26.400000</td>\n",
              "      <td>402.000000</td>\n",
              "      <td>29.000000</td>\n",
              "      <td>162442.000000</td>\n",
              "      <td>167692.000000</td>\n",
              "      <td>1.000000</td>\n",
              "      <td>1.000000</td>\n",
              "      <td>1.000000</td>\n",
              "      <td>1.000000</td>\n",
              "      <td>1.000000</td>\n",
              "      <td>1.000000</td>\n",
              "      <td>6.000000</td>\n",
              "      <td>4.000000</td>\n",
              "      <td>11.000000</td>\n",
              "      <td>7.000000</td>\n",
              "      <td>202.000000</td>\n",
              "      <td>117.000000</td>\n",
              "      <td>102.000000</td>\n",
              "      <td>99.000000</td>\n",
              "      <td>229.000000</td>\n",
              "      <td>359184.000000</td>\n",
              "      <td>135299.000000</td>\n",
              "      <td>1443.000000</td>\n",
              "      <td>132.000000</td>\n",
              "      <td>26.400000</td>\n",
              "      <td>432.000000</td>\n",
              "      <td>29.000000</td>\n",
              "      <td>188603.000000</td>\n",
              "      <td>152319.000000</td>\n",
              "    </tr>\n",
              "  </tbody>\n",
              "</table>\n",
              "</div>"
            ],
            "text/plain": [
              "             gameId   gameDuraton  ...   redTotalHeal  redObjectDamageDealt\n",
              "count  2.690400e+04  26904.000000  ...   26904.000000          26904.000000\n",
              "mean   4.171927e+09   1448.653657  ...   25505.503085          37648.115336\n",
              "std    7.479506e+07    422.577288  ...   15330.689295          26509.187910\n",
              "min    3.482433e+09    190.000000  ...       0.000000              0.000000\n",
              "25%    4.142427e+09   1152.000000  ...   14499.750000          14454.000000\n",
              "50%    4.190657e+09   1435.000000  ...   22377.000000          33385.000000\n",
              "75%    4.219650e+09   1738.000000  ...   33217.250000          57690.000000\n",
              "max    4.261026e+09   3301.000000  ...  188603.000000         152319.000000\n",
              "\n",
              "[8 rows x 50 columns]"
            ]
          },
          "metadata": {
            "tags": []
          },
          "execution_count": 9
        }
      ]
    },
    {
      "cell_type": "code",
      "metadata": {
        "colab": {
          "base_uri": "https://localhost:8080/",
          "height": 1000
        },
        "id": "QIa923ydpWFn",
        "outputId": "35bac154-8d62-405c-b068-a81a33ffe16a"
      },
      "source": [
        "challenger_df.describe().T"
      ],
      "execution_count": null,
      "outputs": [
        {
          "output_type": "execute_result",
          "data": {
            "text/html": [
              "<div>\n",
              "<style scoped>\n",
              "    .dataframe tbody tr th:only-of-type {\n",
              "        vertical-align: middle;\n",
              "    }\n",
              "\n",
              "    .dataframe tbody tr th {\n",
              "        vertical-align: top;\n",
              "    }\n",
              "\n",
              "    .dataframe thead th {\n",
              "        text-align: right;\n",
              "    }\n",
              "</style>\n",
              "<table border=\"1\" class=\"dataframe\">\n",
              "  <thead>\n",
              "    <tr style=\"text-align: right;\">\n",
              "      <th></th>\n",
              "      <th>count</th>\n",
              "      <th>mean</th>\n",
              "      <th>std</th>\n",
              "      <th>min</th>\n",
              "      <th>25%</th>\n",
              "      <th>50%</th>\n",
              "      <th>75%</th>\n",
              "      <th>max</th>\n",
              "    </tr>\n",
              "  </thead>\n",
              "  <tbody>\n",
              "    <tr>\n",
              "      <th>gameId</th>\n",
              "      <td>26904.0</td>\n",
              "      <td>4.171927e+09</td>\n",
              "      <td>7.479506e+07</td>\n",
              "      <td>3.482433e+09</td>\n",
              "      <td>4.142427e+09</td>\n",
              "      <td>4.190657e+09</td>\n",
              "      <td>4.219650e+09</td>\n",
              "      <td>4.261026e+09</td>\n",
              "    </tr>\n",
              "    <tr>\n",
              "      <th>gameDuraton</th>\n",
              "      <td>26904.0</td>\n",
              "      <td>1.448654e+03</td>\n",
              "      <td>4.225773e+02</td>\n",
              "      <td>1.900000e+02</td>\n",
              "      <td>1.152000e+03</td>\n",
              "      <td>1.435000e+03</td>\n",
              "      <td>1.738000e+03</td>\n",
              "      <td>3.301000e+03</td>\n",
              "    </tr>\n",
              "    <tr>\n",
              "      <th>blueWins</th>\n",
              "      <td>26904.0</td>\n",
              "      <td>5.000743e-01</td>\n",
              "      <td>5.000093e-01</td>\n",
              "      <td>0.000000e+00</td>\n",
              "      <td>0.000000e+00</td>\n",
              "      <td>1.000000e+00</td>\n",
              "      <td>1.000000e+00</td>\n",
              "      <td>1.000000e+00</td>\n",
              "    </tr>\n",
              "    <tr>\n",
              "      <th>blueFirstBlood</th>\n",
              "      <td>26904.0</td>\n",
              "      <td>5.035311e-01</td>\n",
              "      <td>4.999968e-01</td>\n",
              "      <td>0.000000e+00</td>\n",
              "      <td>0.000000e+00</td>\n",
              "      <td>1.000000e+00</td>\n",
              "      <td>1.000000e+00</td>\n",
              "      <td>1.000000e+00</td>\n",
              "    </tr>\n",
              "    <tr>\n",
              "      <th>blueFirstTower</th>\n",
              "      <td>26904.0</td>\n",
              "      <td>5.256096e-01</td>\n",
              "      <td>4.993530e-01</td>\n",
              "      <td>0.000000e+00</td>\n",
              "      <td>0.000000e+00</td>\n",
              "      <td>1.000000e+00</td>\n",
              "      <td>1.000000e+00</td>\n",
              "      <td>1.000000e+00</td>\n",
              "    </tr>\n",
              "    <tr>\n",
              "      <th>blueFirstBaron</th>\n",
              "      <td>26904.0</td>\n",
              "      <td>2.440901e-01</td>\n",
              "      <td>4.295544e-01</td>\n",
              "      <td>0.000000e+00</td>\n",
              "      <td>0.000000e+00</td>\n",
              "      <td>0.000000e+00</td>\n",
              "      <td>0.000000e+00</td>\n",
              "      <td>1.000000e+00</td>\n",
              "    </tr>\n",
              "    <tr>\n",
              "      <th>blueFirstDragon</th>\n",
              "      <td>26904.0</td>\n",
              "      <td>4.063336e-01</td>\n",
              "      <td>4.911574e-01</td>\n",
              "      <td>0.000000e+00</td>\n",
              "      <td>0.000000e+00</td>\n",
              "      <td>0.000000e+00</td>\n",
              "      <td>1.000000e+00</td>\n",
              "      <td>1.000000e+00</td>\n",
              "    </tr>\n",
              "    <tr>\n",
              "      <th>blueFirstInhibitor</th>\n",
              "      <td>26904.0</td>\n",
              "      <td>3.671201e-01</td>\n",
              "      <td>4.820286e-01</td>\n",
              "      <td>0.000000e+00</td>\n",
              "      <td>0.000000e+00</td>\n",
              "      <td>0.000000e+00</td>\n",
              "      <td>1.000000e+00</td>\n",
              "      <td>1.000000e+00</td>\n",
              "    </tr>\n",
              "    <tr>\n",
              "      <th>blueDragonKills</th>\n",
              "      <td>26904.0</td>\n",
              "      <td>1.389719e+00</td>\n",
              "      <td>1.247393e+00</td>\n",
              "      <td>0.000000e+00</td>\n",
              "      <td>0.000000e+00</td>\n",
              "      <td>1.000000e+00</td>\n",
              "      <td>2.000000e+00</td>\n",
              "      <td>7.000000e+00</td>\n",
              "    </tr>\n",
              "    <tr>\n",
              "      <th>blueBaronKills</th>\n",
              "      <td>26904.0</td>\n",
              "      <td>3.070175e-01</td>\n",
              "      <td>5.371399e-01</td>\n",
              "      <td>0.000000e+00</td>\n",
              "      <td>0.000000e+00</td>\n",
              "      <td>0.000000e+00</td>\n",
              "      <td>1.000000e+00</td>\n",
              "      <td>4.000000e+00</td>\n",
              "    </tr>\n",
              "    <tr>\n",
              "      <th>blueTowerKills</th>\n",
              "      <td>26904.0</td>\n",
              "      <td>4.397562e+00</td>\n",
              "      <td>3.327761e+00</td>\n",
              "      <td>0.000000e+00</td>\n",
              "      <td>1.000000e+00</td>\n",
              "      <td>4.000000e+00</td>\n",
              "      <td>7.000000e+00</td>\n",
              "      <td>1.100000e+01</td>\n",
              "    </tr>\n",
              "    <tr>\n",
              "      <th>blueInhibitorKills</th>\n",
              "      <td>26904.0</td>\n",
              "      <td>6.198707e-01</td>\n",
              "      <td>9.014441e-01</td>\n",
              "      <td>0.000000e+00</td>\n",
              "      <td>0.000000e+00</td>\n",
              "      <td>0.000000e+00</td>\n",
              "      <td>1.000000e+00</td>\n",
              "      <td>9.000000e+00</td>\n",
              "    </tr>\n",
              "    <tr>\n",
              "      <th>blueWardPlaced</th>\n",
              "      <td>26904.0</td>\n",
              "      <td>5.864035e+01</td>\n",
              "      <td>3.135161e+01</td>\n",
              "      <td>0.000000e+00</td>\n",
              "      <td>3.800000e+01</td>\n",
              "      <td>5.800000e+01</td>\n",
              "      <td>7.900000e+01</td>\n",
              "      <td>2.300000e+02</td>\n",
              "    </tr>\n",
              "    <tr>\n",
              "      <th>blueWardkills</th>\n",
              "      <td>26904.0</td>\n",
              "      <td>2.233014e+01</td>\n",
              "      <td>1.550227e+01</td>\n",
              "      <td>0.000000e+00</td>\n",
              "      <td>1.100000e+01</td>\n",
              "      <td>2.100000e+01</td>\n",
              "      <td>3.200000e+01</td>\n",
              "      <td>1.090000e+02</td>\n",
              "    </tr>\n",
              "    <tr>\n",
              "      <th>blueKills</th>\n",
              "      <td>26904.0</td>\n",
              "      <td>2.418941e+01</td>\n",
              "      <td>1.295429e+01</td>\n",
              "      <td>0.000000e+00</td>\n",
              "      <td>1.500000e+01</td>\n",
              "      <td>2.300000e+01</td>\n",
              "      <td>3.200000e+01</td>\n",
              "      <td>9.900000e+01</td>\n",
              "    </tr>\n",
              "    <tr>\n",
              "      <th>blueDeath</th>\n",
              "      <td>26904.0</td>\n",
              "      <td>2.418057e+01</td>\n",
              "      <td>1.304286e+01</td>\n",
              "      <td>0.000000e+00</td>\n",
              "      <td>1.500000e+01</td>\n",
              "      <td>2.300000e+01</td>\n",
              "      <td>3.200000e+01</td>\n",
              "      <td>1.020000e+02</td>\n",
              "    </tr>\n",
              "    <tr>\n",
              "      <th>blueAssist</th>\n",
              "      <td>26904.0</td>\n",
              "      <td>3.998640e+01</td>\n",
              "      <td>2.777010e+01</td>\n",
              "      <td>0.000000e+00</td>\n",
              "      <td>2.000000e+01</td>\n",
              "      <td>3.600000e+01</td>\n",
              "      <td>5.300000e+01</td>\n",
              "      <td>2.380000e+02</td>\n",
              "    </tr>\n",
              "    <tr>\n",
              "      <th>blueChampionDamageDealt</th>\n",
              "      <td>26904.0</td>\n",
              "      <td>6.974634e+04</td>\n",
              "      <td>3.576337e+04</td>\n",
              "      <td>0.000000e+00</td>\n",
              "      <td>4.320525e+04</td>\n",
              "      <td>6.501300e+04</td>\n",
              "      <td>9.015950e+04</td>\n",
              "      <td>3.339570e+05</td>\n",
              "    </tr>\n",
              "    <tr>\n",
              "      <th>blueTotalGold</th>\n",
              "      <td>26904.0</td>\n",
              "      <td>4.816913e+04</td>\n",
              "      <td>1.547624e+04</td>\n",
              "      <td>3.704000e+03</td>\n",
              "      <td>3.719100e+04</td>\n",
              "      <td>4.810400e+04</td>\n",
              "      <td>5.865650e+04</td>\n",
              "      <td>1.219200e+05</td>\n",
              "    </tr>\n",
              "    <tr>\n",
              "      <th>blueTotalMinionKills</th>\n",
              "      <td>26904.0</td>\n",
              "      <td>5.204466e+02</td>\n",
              "      <td>1.759711e+02</td>\n",
              "      <td>0.000000e+00</td>\n",
              "      <td>4.090000e+02</td>\n",
              "      <td>5.340000e+02</td>\n",
              "      <td>6.390000e+02</td>\n",
              "      <td>1.267000e+03</td>\n",
              "    </tr>\n",
              "    <tr>\n",
              "      <th>blueTotalLevel</th>\n",
              "      <td>26904.0</td>\n",
              "      <td>6.502423e+01</td>\n",
              "      <td>1.406238e+01</td>\n",
              "      <td>5.000000e+00</td>\n",
              "      <td>5.600000e+01</td>\n",
              "      <td>6.600000e+01</td>\n",
              "      <td>7.500000e+01</td>\n",
              "      <td>1.320000e+02</td>\n",
              "    </tr>\n",
              "    <tr>\n",
              "      <th>blueAvgLevel</th>\n",
              "      <td>26904.0</td>\n",
              "      <td>1.300485e+01</td>\n",
              "      <td>2.812476e+00</td>\n",
              "      <td>1.000000e+00</td>\n",
              "      <td>1.120000e+01</td>\n",
              "      <td>1.320000e+01</td>\n",
              "      <td>1.500000e+01</td>\n",
              "      <td>2.640000e+01</td>\n",
              "    </tr>\n",
              "    <tr>\n",
              "      <th>blueJungleMinionKills</th>\n",
              "      <td>26904.0</td>\n",
              "      <td>1.295869e+02</td>\n",
              "      <td>6.466300e+01</td>\n",
              "      <td>0.000000e+00</td>\n",
              "      <td>9.000000e+01</td>\n",
              "      <td>1.310000e+02</td>\n",
              "      <td>1.730000e+02</td>\n",
              "      <td>4.020000e+02</td>\n",
              "    </tr>\n",
              "    <tr>\n",
              "      <th>blueKillingSpree</th>\n",
              "      <td>26904.0</td>\n",
              "      <td>5.554193e+00</td>\n",
              "      <td>3.493384e+00</td>\n",
              "      <td>0.000000e+00</td>\n",
              "      <td>3.000000e+00</td>\n",
              "      <td>5.000000e+00</td>\n",
              "      <td>7.000000e+00</td>\n",
              "      <td>2.900000e+01</td>\n",
              "    </tr>\n",
              "    <tr>\n",
              "      <th>blueTotalHeal</th>\n",
              "      <td>26904.0</td>\n",
              "      <td>2.505064e+04</td>\n",
              "      <td>1.511264e+04</td>\n",
              "      <td>0.000000e+00</td>\n",
              "      <td>1.410550e+04</td>\n",
              "      <td>2.199000e+04</td>\n",
              "      <td>3.272575e+04</td>\n",
              "      <td>1.624420e+05</td>\n",
              "    </tr>\n",
              "    <tr>\n",
              "      <th>blueObjectDamageDealt</th>\n",
              "      <td>26904.0</td>\n",
              "      <td>3.839388e+04</td>\n",
              "      <td>2.633566e+04</td>\n",
              "      <td>0.000000e+00</td>\n",
              "      <td>1.560800e+04</td>\n",
              "      <td>3.494050e+04</td>\n",
              "      <td>5.782925e+04</td>\n",
              "      <td>1.676920e+05</td>\n",
              "    </tr>\n",
              "    <tr>\n",
              "      <th>redWins</th>\n",
              "      <td>26904.0</td>\n",
              "      <td>4.999257e-01</td>\n",
              "      <td>5.000093e-01</td>\n",
              "      <td>0.000000e+00</td>\n",
              "      <td>0.000000e+00</td>\n",
              "      <td>0.000000e+00</td>\n",
              "      <td>1.000000e+00</td>\n",
              "      <td>1.000000e+00</td>\n",
              "    </tr>\n",
              "    <tr>\n",
              "      <th>redFirstBlood</th>\n",
              "      <td>26904.0</td>\n",
              "      <td>4.944618e-01</td>\n",
              "      <td>4.999786e-01</td>\n",
              "      <td>0.000000e+00</td>\n",
              "      <td>0.000000e+00</td>\n",
              "      <td>0.000000e+00</td>\n",
              "      <td>1.000000e+00</td>\n",
              "      <td>1.000000e+00</td>\n",
              "    </tr>\n",
              "    <tr>\n",
              "      <th>redFirstTower</th>\n",
              "      <td>26904.0</td>\n",
              "      <td>4.627193e-01</td>\n",
              "      <td>4.986175e-01</td>\n",
              "      <td>0.000000e+00</td>\n",
              "      <td>0.000000e+00</td>\n",
              "      <td>0.000000e+00</td>\n",
              "      <td>1.000000e+00</td>\n",
              "      <td>1.000000e+00</td>\n",
              "    </tr>\n",
              "    <tr>\n",
              "      <th>redFirstBaron</th>\n",
              "      <td>26904.0</td>\n",
              "      <td>2.666146e-01</td>\n",
              "      <td>4.421974e-01</td>\n",
              "      <td>0.000000e+00</td>\n",
              "      <td>0.000000e+00</td>\n",
              "      <td>0.000000e+00</td>\n",
              "      <td>1.000000e+00</td>\n",
              "      <td>1.000000e+00</td>\n",
              "    </tr>\n",
              "    <tr>\n",
              "      <th>redFirstDragon</th>\n",
              "      <td>26904.0</td>\n",
              "      <td>5.035311e-01</td>\n",
              "      <td>4.999968e-01</td>\n",
              "      <td>0.000000e+00</td>\n",
              "      <td>0.000000e+00</td>\n",
              "      <td>1.000000e+00</td>\n",
              "      <td>1.000000e+00</td>\n",
              "      <td>1.000000e+00</td>\n",
              "    </tr>\n",
              "    <tr>\n",
              "      <th>redFirstInhibitor</th>\n",
              "      <td>26904.0</td>\n",
              "      <td>3.485355e-01</td>\n",
              "      <td>4.765154e-01</td>\n",
              "      <td>0.000000e+00</td>\n",
              "      <td>0.000000e+00</td>\n",
              "      <td>0.000000e+00</td>\n",
              "      <td>1.000000e+00</td>\n",
              "      <td>1.000000e+00</td>\n",
              "    </tr>\n",
              "    <tr>\n",
              "      <th>redDragonKills</th>\n",
              "      <td>26904.0</td>\n",
              "      <td>1.563857e+00</td>\n",
              "      <td>1.299117e+00</td>\n",
              "      <td>0.000000e+00</td>\n",
              "      <td>0.000000e+00</td>\n",
              "      <td>1.000000e+00</td>\n",
              "      <td>3.000000e+00</td>\n",
              "      <td>6.000000e+00</td>\n",
              "    </tr>\n",
              "    <tr>\n",
              "      <th>redBaronKills</th>\n",
              "      <td>26904.0</td>\n",
              "      <td>3.363069e-01</td>\n",
              "      <td>5.594792e-01</td>\n",
              "      <td>0.000000e+00</td>\n",
              "      <td>0.000000e+00</td>\n",
              "      <td>0.000000e+00</td>\n",
              "      <td>1.000000e+00</td>\n",
              "      <td>4.000000e+00</td>\n",
              "    </tr>\n",
              "    <tr>\n",
              "      <th>redTowerKills</th>\n",
              "      <td>26904.0</td>\n",
              "      <td>4.255910e+00</td>\n",
              "      <td>3.325612e+00</td>\n",
              "      <td>0.000000e+00</td>\n",
              "      <td>1.000000e+00</td>\n",
              "      <td>4.000000e+00</td>\n",
              "      <td>7.000000e+00</td>\n",
              "      <td>1.100000e+01</td>\n",
              "    </tr>\n",
              "    <tr>\n",
              "      <th>redInhibitorKills</th>\n",
              "      <td>26904.0</td>\n",
              "      <td>5.849316e-01</td>\n",
              "      <td>8.709192e-01</td>\n",
              "      <td>0.000000e+00</td>\n",
              "      <td>0.000000e+00</td>\n",
              "      <td>0.000000e+00</td>\n",
              "      <td>1.000000e+00</td>\n",
              "      <td>7.000000e+00</td>\n",
              "    </tr>\n",
              "    <tr>\n",
              "      <th>redWardPlaced</th>\n",
              "      <td>26904.0</td>\n",
              "      <td>5.883226e+01</td>\n",
              "      <td>3.162168e+01</td>\n",
              "      <td>0.000000e+00</td>\n",
              "      <td>3.800000e+01</td>\n",
              "      <td>5.800000e+01</td>\n",
              "      <td>7.900000e+01</td>\n",
              "      <td>2.020000e+02</td>\n",
              "    </tr>\n",
              "    <tr>\n",
              "      <th>redWardkills</th>\n",
              "      <td>26904.0</td>\n",
              "      <td>2.191209e+01</td>\n",
              "      <td>1.527561e+01</td>\n",
              "      <td>0.000000e+00</td>\n",
              "      <td>1.000000e+01</td>\n",
              "      <td>2.000000e+01</td>\n",
              "      <td>3.100000e+01</td>\n",
              "      <td>1.170000e+02</td>\n",
              "    </tr>\n",
              "    <tr>\n",
              "      <th>redKills</th>\n",
              "      <td>26904.0</td>\n",
              "      <td>2.410117e+01</td>\n",
              "      <td>1.302484e+01</td>\n",
              "      <td>0.000000e+00</td>\n",
              "      <td>1.500000e+01</td>\n",
              "      <td>2.300000e+01</td>\n",
              "      <td>3.200000e+01</td>\n",
              "      <td>1.020000e+02</td>\n",
              "    </tr>\n",
              "    <tr>\n",
              "      <th>redDeath</th>\n",
              "      <td>26904.0</td>\n",
              "      <td>2.426858e+01</td>\n",
              "      <td>1.297299e+01</td>\n",
              "      <td>0.000000e+00</td>\n",
              "      <td>1.500000e+01</td>\n",
              "      <td>2.300000e+01</td>\n",
              "      <td>3.200000e+01</td>\n",
              "      <td>9.900000e+01</td>\n",
              "    </tr>\n",
              "    <tr>\n",
              "      <th>redAssist</th>\n",
              "      <td>26904.0</td>\n",
              "      <td>3.980074e+01</td>\n",
              "      <td>2.772214e+01</td>\n",
              "      <td>0.000000e+00</td>\n",
              "      <td>2.000000e+01</td>\n",
              "      <td>3.500000e+01</td>\n",
              "      <td>5.300000e+01</td>\n",
              "      <td>2.290000e+02</td>\n",
              "    </tr>\n",
              "    <tr>\n",
              "      <th>redChampionDamageDealt</th>\n",
              "      <td>26904.0</td>\n",
              "      <td>6.952826e+04</td>\n",
              "      <td>3.586611e+04</td>\n",
              "      <td>0.000000e+00</td>\n",
              "      <td>4.306825e+04</td>\n",
              "      <td>6.465500e+04</td>\n",
              "      <td>8.981175e+04</td>\n",
              "      <td>3.591840e+05</td>\n",
              "    </tr>\n",
              "    <tr>\n",
              "      <th>redTotalGold</th>\n",
              "      <td>26904.0</td>\n",
              "      <td>4.820798e+04</td>\n",
              "      <td>1.562709e+04</td>\n",
              "      <td>3.340000e+03</td>\n",
              "      <td>3.712725e+04</td>\n",
              "      <td>4.803700e+04</td>\n",
              "      <td>5.871925e+04</td>\n",
              "      <td>1.352990e+05</td>\n",
              "    </tr>\n",
              "    <tr>\n",
              "      <th>redTotalMinionKills</th>\n",
              "      <td>26904.0</td>\n",
              "      <td>5.263377e+02</td>\n",
              "      <td>1.789943e+02</td>\n",
              "      <td>0.000000e+00</td>\n",
              "      <td>4.120000e+02</td>\n",
              "      <td>5.410000e+02</td>\n",
              "      <td>6.480000e+02</td>\n",
              "      <td>1.443000e+03</td>\n",
              "    </tr>\n",
              "    <tr>\n",
              "      <th>redTotalLevel</th>\n",
              "      <td>26904.0</td>\n",
              "      <td>6.521317e+01</td>\n",
              "      <td>1.410569e+01</td>\n",
              "      <td>5.000000e+00</td>\n",
              "      <td>5.600000e+01</td>\n",
              "      <td>6.600000e+01</td>\n",
              "      <td>7.500000e+01</td>\n",
              "      <td>1.320000e+02</td>\n",
              "    </tr>\n",
              "    <tr>\n",
              "      <th>redAvgLevel</th>\n",
              "      <td>26904.0</td>\n",
              "      <td>1.304263e+01</td>\n",
              "      <td>2.821138e+00</td>\n",
              "      <td>1.000000e+00</td>\n",
              "      <td>1.120000e+01</td>\n",
              "      <td>1.320000e+01</td>\n",
              "      <td>1.500000e+01</td>\n",
              "      <td>2.640000e+01</td>\n",
              "    </tr>\n",
              "    <tr>\n",
              "      <th>redJungleMinionKills</th>\n",
              "      <td>26904.0</td>\n",
              "      <td>1.304687e+02</td>\n",
              "      <td>6.461853e+01</td>\n",
              "      <td>0.000000e+00</td>\n",
              "      <td>9.100000e+01</td>\n",
              "      <td>1.320000e+02</td>\n",
              "      <td>1.740000e+02</td>\n",
              "      <td>4.320000e+02</td>\n",
              "    </tr>\n",
              "    <tr>\n",
              "      <th>redKillingSpree</th>\n",
              "      <td>26904.0</td>\n",
              "      <td>5.541704e+00</td>\n",
              "      <td>3.494662e+00</td>\n",
              "      <td>0.000000e+00</td>\n",
              "      <td>3.000000e+00</td>\n",
              "      <td>5.000000e+00</td>\n",
              "      <td>7.000000e+00</td>\n",
              "      <td>2.900000e+01</td>\n",
              "    </tr>\n",
              "    <tr>\n",
              "      <th>redTotalHeal</th>\n",
              "      <td>26904.0</td>\n",
              "      <td>2.550550e+04</td>\n",
              "      <td>1.533069e+04</td>\n",
              "      <td>0.000000e+00</td>\n",
              "      <td>1.449975e+04</td>\n",
              "      <td>2.237700e+04</td>\n",
              "      <td>3.321725e+04</td>\n",
              "      <td>1.886030e+05</td>\n",
              "    </tr>\n",
              "    <tr>\n",
              "      <th>redObjectDamageDealt</th>\n",
              "      <td>26904.0</td>\n",
              "      <td>3.764812e+04</td>\n",
              "      <td>2.650919e+04</td>\n",
              "      <td>0.000000e+00</td>\n",
              "      <td>1.445400e+04</td>\n",
              "      <td>3.338500e+04</td>\n",
              "      <td>5.769000e+04</td>\n",
              "      <td>1.523190e+05</td>\n",
              "    </tr>\n",
              "  </tbody>\n",
              "</table>\n",
              "</div>"
            ],
            "text/plain": [
              "                           count          mean  ...           75%           max\n",
              "gameId                   26904.0  4.171927e+09  ...  4.219650e+09  4.261026e+09\n",
              "gameDuraton              26904.0  1.448654e+03  ...  1.738000e+03  3.301000e+03\n",
              "blueWins                 26904.0  5.000743e-01  ...  1.000000e+00  1.000000e+00\n",
              "blueFirstBlood           26904.0  5.035311e-01  ...  1.000000e+00  1.000000e+00\n",
              "blueFirstTower           26904.0  5.256096e-01  ...  1.000000e+00  1.000000e+00\n",
              "blueFirstBaron           26904.0  2.440901e-01  ...  0.000000e+00  1.000000e+00\n",
              "blueFirstDragon          26904.0  4.063336e-01  ...  1.000000e+00  1.000000e+00\n",
              "blueFirstInhibitor       26904.0  3.671201e-01  ...  1.000000e+00  1.000000e+00\n",
              "blueDragonKills          26904.0  1.389719e+00  ...  2.000000e+00  7.000000e+00\n",
              "blueBaronKills           26904.0  3.070175e-01  ...  1.000000e+00  4.000000e+00\n",
              "blueTowerKills           26904.0  4.397562e+00  ...  7.000000e+00  1.100000e+01\n",
              "blueInhibitorKills       26904.0  6.198707e-01  ...  1.000000e+00  9.000000e+00\n",
              "blueWardPlaced           26904.0  5.864035e+01  ...  7.900000e+01  2.300000e+02\n",
              "blueWardkills            26904.0  2.233014e+01  ...  3.200000e+01  1.090000e+02\n",
              "blueKills                26904.0  2.418941e+01  ...  3.200000e+01  9.900000e+01\n",
              "blueDeath                26904.0  2.418057e+01  ...  3.200000e+01  1.020000e+02\n",
              "blueAssist               26904.0  3.998640e+01  ...  5.300000e+01  2.380000e+02\n",
              "blueChampionDamageDealt  26904.0  6.974634e+04  ...  9.015950e+04  3.339570e+05\n",
              "blueTotalGold            26904.0  4.816913e+04  ...  5.865650e+04  1.219200e+05\n",
              "blueTotalMinionKills     26904.0  5.204466e+02  ...  6.390000e+02  1.267000e+03\n",
              "blueTotalLevel           26904.0  6.502423e+01  ...  7.500000e+01  1.320000e+02\n",
              "blueAvgLevel             26904.0  1.300485e+01  ...  1.500000e+01  2.640000e+01\n",
              "blueJungleMinionKills    26904.0  1.295869e+02  ...  1.730000e+02  4.020000e+02\n",
              "blueKillingSpree         26904.0  5.554193e+00  ...  7.000000e+00  2.900000e+01\n",
              "blueTotalHeal            26904.0  2.505064e+04  ...  3.272575e+04  1.624420e+05\n",
              "blueObjectDamageDealt    26904.0  3.839388e+04  ...  5.782925e+04  1.676920e+05\n",
              "redWins                  26904.0  4.999257e-01  ...  1.000000e+00  1.000000e+00\n",
              "redFirstBlood            26904.0  4.944618e-01  ...  1.000000e+00  1.000000e+00\n",
              "redFirstTower            26904.0  4.627193e-01  ...  1.000000e+00  1.000000e+00\n",
              "redFirstBaron            26904.0  2.666146e-01  ...  1.000000e+00  1.000000e+00\n",
              "redFirstDragon           26904.0  5.035311e-01  ...  1.000000e+00  1.000000e+00\n",
              "redFirstInhibitor        26904.0  3.485355e-01  ...  1.000000e+00  1.000000e+00\n",
              "redDragonKills           26904.0  1.563857e+00  ...  3.000000e+00  6.000000e+00\n",
              "redBaronKills            26904.0  3.363069e-01  ...  1.000000e+00  4.000000e+00\n",
              "redTowerKills            26904.0  4.255910e+00  ...  7.000000e+00  1.100000e+01\n",
              "redInhibitorKills        26904.0  5.849316e-01  ...  1.000000e+00  7.000000e+00\n",
              "redWardPlaced            26904.0  5.883226e+01  ...  7.900000e+01  2.020000e+02\n",
              "redWardkills             26904.0  2.191209e+01  ...  3.100000e+01  1.170000e+02\n",
              "redKills                 26904.0  2.410117e+01  ...  3.200000e+01  1.020000e+02\n",
              "redDeath                 26904.0  2.426858e+01  ...  3.200000e+01  9.900000e+01\n",
              "redAssist                26904.0  3.980074e+01  ...  5.300000e+01  2.290000e+02\n",
              "redChampionDamageDealt   26904.0  6.952826e+04  ...  8.981175e+04  3.591840e+05\n",
              "redTotalGold             26904.0  4.820798e+04  ...  5.871925e+04  1.352990e+05\n",
              "redTotalMinionKills      26904.0  5.263377e+02  ...  6.480000e+02  1.443000e+03\n",
              "redTotalLevel            26904.0  6.521317e+01  ...  7.500000e+01  1.320000e+02\n",
              "redAvgLevel              26904.0  1.304263e+01  ...  1.500000e+01  2.640000e+01\n",
              "redJungleMinionKills     26904.0  1.304687e+02  ...  1.740000e+02  4.320000e+02\n",
              "redKillingSpree          26904.0  5.541704e+00  ...  7.000000e+00  2.900000e+01\n",
              "redTotalHeal             26904.0  2.550550e+04  ...  3.321725e+04  1.886030e+05\n",
              "redObjectDamageDealt     26904.0  3.764812e+04  ...  5.769000e+04  1.523190e+05\n",
              "\n",
              "[50 rows x 8 columns]"
            ]
          },
          "metadata": {
            "tags": []
          },
          "execution_count": 10
        }
      ]
    },
    {
      "cell_type": "code",
      "metadata": {
        "colab": {
          "base_uri": "https://localhost:8080/"
        },
        "id": "7Gzs5rkPiCyl",
        "outputId": "88ec2755-d7b0-4d85-fff4-ff18fe75af3e"
      },
      "source": [
        "# missing value가 있는지 확인 \n",
        "# 확인결과 : 없음\n",
        "challenger_df.isnull().sum()"
      ],
      "execution_count": null,
      "outputs": [
        {
          "output_type": "execute_result",
          "data": {
            "text/plain": [
              "gameId                     0\n",
              "gameDuraton                0\n",
              "blueWins                   0\n",
              "blueFirstBlood             0\n",
              "blueFirstTower             0\n",
              "blueFirstBaron             0\n",
              "blueFirstDragon            0\n",
              "blueFirstInhibitor         0\n",
              "blueDragonKills            0\n",
              "blueBaronKills             0\n",
              "blueTowerKills             0\n",
              "blueInhibitorKills         0\n",
              "blueWardPlaced             0\n",
              "blueWardkills              0\n",
              "blueKills                  0\n",
              "blueDeath                  0\n",
              "blueAssist                 0\n",
              "blueChampionDamageDealt    0\n",
              "blueTotalGold              0\n",
              "blueTotalMinionKills       0\n",
              "blueTotalLevel             0\n",
              "blueAvgLevel               0\n",
              "blueJungleMinionKills      0\n",
              "blueKillingSpree           0\n",
              "blueTotalHeal              0\n",
              "blueObjectDamageDealt      0\n",
              "redWins                    0\n",
              "redFirstBlood              0\n",
              "redFirstTower              0\n",
              "redFirstBaron              0\n",
              "redFirstDragon             0\n",
              "redFirstInhibitor          0\n",
              "redDragonKills             0\n",
              "redBaronKills              0\n",
              "redTowerKills              0\n",
              "redInhibitorKills          0\n",
              "redWardPlaced              0\n",
              "redWardkills               0\n",
              "redKills                   0\n",
              "redDeath                   0\n",
              "redAssist                  0\n",
              "redChampionDamageDealt     0\n",
              "redTotalGold               0\n",
              "redTotalMinionKills        0\n",
              "redTotalLevel              0\n",
              "redAvgLevel                0\n",
              "redJungleMinionKills       0\n",
              "redKillingSpree            0\n",
              "redTotalHeal               0\n",
              "redObjectDamageDealt       0\n",
              "dtype: int64"
            ]
          },
          "metadata": {
            "tags": []
          },
          "execution_count": 11
        }
      ]
    },
    {
      "cell_type": "markdown",
      "metadata": {
        "id": "xQrPdi8tlM6n"
      },
      "source": [
        ""
      ]
    },
    {
      "cell_type": "markdown",
      "metadata": {
        "id": "_i8Qww9qlM8P"
      },
      "source": [
        "#feature 분포 확인"
      ]
    },
    {
      "cell_type": "code",
      "metadata": {
        "id": "KDDij4Q9lIg8"
      },
      "source": [
        "# 시각화 패키지 import\n",
        "import seaborn as sns\n",
        "import matplotlib.pyplot as plt\n",
        "%matplotlib inline"
      ],
      "execution_count": 3,
      "outputs": []
    },
    {
      "cell_type": "markdown",
      "metadata": {
        "id": "DZVnpDFErgCw"
      },
      "source": [
        "#블루팀이 이겼을때 블루팀과 레드팀 총 골드량"
      ]
    },
    {
      "cell_type": "code",
      "metadata": {
        "id": "sM_TMIHsmInv"
      },
      "source": [
        "features = ['blueTotalGold','redTotalGold']"
      ],
      "execution_count": null,
      "outputs": []
    },
    {
      "cell_type": "code",
      "metadata": {
        "colab": {
          "base_uri": "https://localhost:8080/"
        },
        "id": "EJfll6kGqPt7",
        "outputId": "a49f11fd-62d6-44a9-8de9-12abb480c737"
      },
      "source": [
        "list(challenger_df.loc[challenger_df['blueWins'] == 1, features])"
      ],
      "execution_count": null,
      "outputs": [
        {
          "output_type": "execute_result",
          "data": {
            "text/plain": [
              "['blueTotalGold', 'redTotalGold']"
            ]
          },
          "metadata": {
            "tags": []
          },
          "execution_count": 14
        }
      ]
    },
    {
      "cell_type": "code",
      "metadata": {
        "id": "yOIvnDNhq4lO"
      },
      "source": [
        "bluewin = challenger_df.loc[challenger_df['blueWins'] == 1, features].mean()"
      ],
      "execution_count": null,
      "outputs": []
    },
    {
      "cell_type": "code",
      "metadata": {
        "colab": {
          "base_uri": "https://localhost:8080/"
        },
        "id": "VOeV9-Xaq4oI",
        "outputId": "d2299091-ee17-4dd4-9161-156fda0467d1"
      },
      "source": [
        "bluewin"
      ],
      "execution_count": null,
      "outputs": [
        {
          "output_type": "execute_result",
          "data": {
            "text/plain": [
              "blueTotalGold    52447.299985\n",
              "redTotalGold     43977.909915\n",
              "dtype: float64"
            ]
          },
          "metadata": {
            "tags": []
          },
          "execution_count": 16
        }
      ]
    },
    {
      "cell_type": "code",
      "metadata": {
        "id": "Sf7b59paq4qX",
        "colab": {
          "base_uri": "https://localhost:8080/",
          "height": 264
        },
        "outputId": "57dc785f-8f04-495e-8e1c-319783ea8dd0"
      },
      "source": [
        "y = [bluewin[0],bluewin[1]]\n",
        "x = ['blueTotalGold', 'redTotalGold']\n",
        "plt.bar(x, y, width=0.7,color='r')\n",
        "plt.show()"
      ],
      "execution_count": null,
      "outputs": [
        {
          "output_type": "display_data",
          "data": {
            "image/png": "[encoded data removed]",
            "text/plain": [
              "<Figure size 432x288 with 1 Axes>"
            ]
          },
          "metadata": {
            "tags": [],
            "needs_background": "light"
          }
        }
      ]
    },
    {
      "cell_type": "markdown",
      "metadata": {
        "id": "WobfwKA-ksfb"
      },
      "source": [
        "#블루팀과 레드팀의 평균 드래곤 획득량\n"
      ]
    },
    {
      "cell_type": "code",
      "metadata": {
        "id": "9MTxpghlmEW3"
      },
      "source": [
        "features = ['blueDragonKills','redDragonKills']"
      ],
      "execution_count": null,
      "outputs": []
    },
    {
      "cell_type": "code",
      "metadata": {
        "colab": {
          "base_uri": "https://localhost:8080/"
        },
        "id": "qX_HskPpmEW3",
        "outputId": "4e288713-bdff-40d2-98d3-1fb48832a9c2"
      },
      "source": [
        "list(challenger_df.loc[challenger_df['blueWins'] == 1, features])"
      ],
      "execution_count": null,
      "outputs": [
        {
          "output_type": "execute_result",
          "data": {
            "text/plain": [
              "['blueDragonKills', 'redDragonKills']"
            ]
          },
          "metadata": {
            "tags": []
          },
          "execution_count": 19
        }
      ]
    },
    {
      "cell_type": "code",
      "metadata": {
        "id": "CkoVjr_QmEW4"
      },
      "source": [
        "bluewin = challenger_df.loc[challenger_df['blueWins'] == 1, features].mean()"
      ],
      "execution_count": null,
      "outputs": []
    },
    {
      "cell_type": "code",
      "metadata": {
        "colab": {
          "base_uri": "https://localhost:8080/"
        },
        "id": "bWIw53JHmEW4",
        "outputId": "1b5b8ae2-007d-4d7b-92c2-45bf6466228c"
      },
      "source": [
        "bluewin"
      ],
      "execution_count": null,
      "outputs": [
        {
          "output_type": "execute_result",
          "data": {
            "text/plain": [
              "blueDragonKills    1.971458\n",
              "redDragonKills     0.956741\n",
              "dtype: float64"
            ]
          },
          "metadata": {
            "tags": []
          },
          "execution_count": 21
        }
      ]
    },
    {
      "cell_type": "code",
      "metadata": {
        "id": "xJx_YPiEmEW4"
      },
      "source": [
        "redwin = challenger_df.loc[challenger_df['redWins'] == 1, features].mean()"
      ],
      "execution_count": null,
      "outputs": []
    },
    {
      "cell_type": "code",
      "metadata": {
        "colab": {
          "base_uri": "https://localhost:8080/"
        },
        "id": "-5InpzrPmieI",
        "outputId": "de49b1cb-42bd-4b19-ea43-e42c6f3ee5d9"
      },
      "source": [
        "redwin"
      ],
      "execution_count": null,
      "outputs": [
        {
          "output_type": "execute_result",
          "data": {
            "text/plain": [
              "blueDragonKills    0.807807\n",
              "redDragonKills     2.171152\n",
              "dtype: float64"
            ]
          },
          "metadata": {
            "tags": []
          },
          "execution_count": 23
        }
      ]
    },
    {
      "cell_type": "code",
      "metadata": {
        "colab": {
          "base_uri": "https://localhost:8080/"
        },
        "id": "oOLqzKi8nFPx",
        "outputId": "103cef16-dff4-47d6-e627-0f03f2d36f25"
      },
      "source": [
        "redwin[1]"
      ],
      "execution_count": null,
      "outputs": [
        {
          "output_type": "execute_result",
          "data": {
            "text/plain": [
              "2.171152416356877"
            ]
          },
          "metadata": {
            "tags": []
          },
          "execution_count": 24
        }
      ]
    },
    {
      "cell_type": "code",
      "metadata": {
        "colab": {
          "base_uri": "https://localhost:8080/",
          "height": 264
        },
        "id": "eld-K4_ampce",
        "outputId": "d4fe75c5-da4a-4b96-8d56-33704a564d20"
      },
      "source": [
        "x = np.arange(2)\n",
        "team = ['blueDragonKills', 'redDragonKills ']\n",
        "values = [bluewin[0], redwin[1]]\n",
        "\n",
        "plt.bar(x, values)\n",
        "plt.xticks(x, team)\n",
        "plt.show()"
      ],
      "execution_count": null,
      "outputs": [
        {
          "output_type": "display_data",
          "data": {
            "image/png": "[encoded data removed]",
            "text/plain": [
              "<Figure size 432x288 with 1 Axes>"
            ]
          },
          "metadata": {
            "tags": [],
            "needs_background": "light"
          }
        }
      ]
    },
    {
      "cell_type": "markdown",
      "metadata": {
        "id": "p7MBXI7anUlk"
      },
      "source": [
        "각 팀이 이겼을때의 평균 드래곤의 수는 red팀이 많았고 각팀이 졌을때의 드래곤 수 또한 red 팀이 많았다 따라서 승패에 상관없이 red 팀이 드래곤을 챙기기에 유리한 것으로 보인다."
      ]
    },
    {
      "cell_type": "markdown",
      "metadata": {
        "id": "DpWsRVlXhk1z"
      },
      "source": [
        "#블루팀의 킬수가 레드팀 킬수보다 높을때 블루팀이 이겼는지 졌는지 확인\n"
      ]
    },
    {
      "cell_type": "code",
      "metadata": {
        "id": "SOL572_Thu-t"
      },
      "source": [
        "features = ['blueWins','redWins']"
      ],
      "execution_count": 9,
      "outputs": []
    },
    {
      "cell_type": "code",
      "metadata": {
        "colab": {
          "base_uri": "https://localhost:8080/"
        },
        "id": "tVTj9Dg6hvBA",
        "outputId": "ff7e4a68-f728-4790-8c75-c0d314e4b56c"
      },
      "source": [
        "list(challenger_df.loc[challenger_df['blueKills'] > challenger_df['redKills'], features])"
      ],
      "execution_count": 10,
      "outputs": [
        {
          "output_type": "execute_result",
          "data": {
            "text/plain": [
              "['blueWins', 'redWins']"
            ]
          },
          "metadata": {
            "tags": []
          },
          "execution_count": 10
        }
      ]
    },
    {
      "cell_type": "code",
      "metadata": {
        "id": "_2_UQLtOhvDY"
      },
      "source": [
        "bluewin = challenger_df.loc[challenger_df['blueKills'] > challenger_df['redKills'], features].mean()"
      ],
      "execution_count": 13,
      "outputs": []
    },
    {
      "cell_type": "code",
      "metadata": {
        "colab": {
          "base_uri": "https://localhost:8080/"
        },
        "id": "eAlf7OpEjCi0",
        "outputId": "631355b2-4bb4-4628-d34b-861b40928693"
      },
      "source": [
        "bluewin"
      ],
      "execution_count": 14,
      "outputs": [
        {
          "output_type": "execute_result",
          "data": {
            "text/plain": [
              "blueWins    0.948803\n",
              "redWins     0.051197\n",
              "dtype: float64"
            ]
          },
          "metadata": {
            "tags": []
          },
          "execution_count": 14
        }
      ]
    },
    {
      "cell_type": "code",
      "metadata": {
        "colab": {
          "base_uri": "https://localhost:8080/",
          "height": 264
        },
        "id": "KCG1pK--jc9q",
        "outputId": "c919391a-d1d7-446a-9f55-cd7873369585"
      },
      "source": [
        "x = np.arange(2)\n",
        "team = ['blueWins', 'redWins ']\n",
        "values = [bluewin[0], bluewin[1]]\n",
        "\n",
        "plt.bar(x, values)\n",
        "plt.xticks(x, team)\n",
        "plt.show()"
      ],
      "execution_count": 15,
      "outputs": [
        {
          "output_type": "display_data",
          "data": {
            "image/png": "[encoded data removed]",
            "text/plain": [
              "<Figure size 432x288 with 1 Axes>"
            ]
          },
          "metadata": {
            "tags": [],
            "needs_background": "light"
          }
        }
      ]
    },
    {
      "cell_type": "markdown",
      "metadata": {
        "id": "VkxGmIm7jIeB"
      },
      "source": [
        "블루팀의 킬이 레드팀의 킬보다 많을때 블루팀이 이길 확률 약 94%"
      ]
    },
    {
      "cell_type": "markdown",
      "metadata": {
        "id": "m4Iet6GCoCfZ"
      },
      "source": [
        "산점도 그리기 킬과 승리가 산점도가 그려질까?"
      ]
    },
    {
      "cell_type": "code",
      "metadata": {
        "id": "l7fBh1kXoCkF"
      },
      "source": [
        "import pandas as pd\n",
        "\n",
        "blue_kill = challenger_df['blueKills']\n",
        "blue_win = challenger_df['blueWins']\n",
        "\n",
        "# DataFrame 만들기\n",
        "\n",
        "body = pd.DataFrame(\n",
        "    {'blue_kill': blue_kill, 'blue_win': blue_win}\n",
        ")"
      ],
      "execution_count": null,
      "outputs": []
    },
    {
      "cell_type": "code",
      "metadata": {
        "colab": {
          "base_uri": "https://localhost:8080/",
          "height": 280
        },
        "id": "ZqRqo8H0ok2n",
        "outputId": "7edbe320-2ab3-4490-be69-317d11326f48"
      },
      "source": [
        "import matplotlib.pylab as plt\n",
        "\n",
        "plt.scatter( body['blue_kill'], body['blue_win'], label = \"data\")\n",
        "\n",
        "plt.legend(loc = \"best\")\n",
        "plt.xlabel('blue_kill')\n",
        "plt.ylabel('blue_win')\n",
        "plt.show()"
      ],
      "execution_count": null,
      "outputs": [
        {
          "output_type": "display_data",
          "data": {
            "image/png": "[encoded data removed]",
            "text/plain": [
              "<Figure size 432x288 with 1 Axes>"
            ]
          },
          "metadata": {
            "tags": [],
            "needs_background": "light"
          }
        }
      ]
    },
    {
      "cell_type": "markdown",
      "metadata": {
        "id": "C-Bbi-uvo0Rc"
      },
      "source": [
        "킬과 승의 상관관계를 승 패 산점도로 보는건 불가 제가 이해 못한걸수도 있음"
      ]
    },
    {
      "cell_type": "markdown",
      "metadata": {
        "id": "DhayCX3co7Xw"
      },
      "source": [
        "총딜량 킬수 산점도"
      ]
    },
    {
      "cell_type": "code",
      "metadata": {
        "colab": {
          "base_uri": "https://localhost:8080/",
          "height": 284
        },
        "id": "uXTghzZOo9cI",
        "outputId": "2239da6e-1404-4311-91a8-b958ad04537e"
      },
      "source": [
        "blue_kill = challenger_df['blueKills']\n",
        "blue_deal = challenger_df['blueChampionDamageDealt']\n",
        "body = pd.DataFrame(\n",
        "    {'blue_kill': blue_kill, 'blue_deal': blue_deal}\n",
        ")\n",
        "plt.scatter( body['blue_kill'], body['blue_deal'], label = \"data\")\n",
        "\n",
        "plt.legend(loc = \"best\")\n",
        "plt.xlabel('blue_kill')\n",
        "plt.ylabel('blue_deal')\n",
        "plt.show()"
      ],
      "execution_count": null,
      "outputs": [
        {
          "output_type": "display_data",
          "data": {
            "image/png": "[encoded data removed]",
            "text/plain": [
              "<Figure size 432x288 with 1 Axes>"
            ]
          },
          "metadata": {
            "tags": [],
            "needs_background": "light"
          }
        }
      ]
    },
    {
      "cell_type": "markdown",
      "metadata": {
        "id": "z8-HxcPkpSDy"
      },
      "source": [
        "킬수가 늘어날 수록 딜량이 높아지는 상관관계"
      ]
    },
    {
      "cell_type": "markdown",
      "metadata": {
        "id": "w6tV2417ss1f"
      },
      "source": [
        "# 게임에 영향을 줄거로 생각되는 특정 feature를 뽑기\n",
        "gameDuration : 시간 별로 승패에 영향주는 요소가 달라질 수도 있음\n",
        "Red/Blue : 진영 별 유불리\n",
        "\n",
        "FirstBlood \n",
        "FirstBaron \n",
        "FirstDragon\n",
        "Firstinhibitor\n",
        "Kill/Death/Assist - KDA로 통합하여 한 feature로 만들기 \n",
        " \n",
        "Total gold\n",
        "Avglevel\n",
        "ChampionDamageDealt \n",
        "\n",
        "wardplaced-wardkills (시야) "
      ]
    },
    {
      "cell_type": "markdown",
      "metadata": {
        "id": "f8zvQdHvuD9m"
      },
      "source": [
        "골드량 킬 바론 정도만 볼 수 있도록 bluWins== 1  이면 블루승"
      ]
    },
    {
      "cell_type": "code",
      "metadata": {
        "id": "QkxbqXkCs2rX"
      },
      "source": [
        "# 승패에 높은 영향을 끼칠거라 생각되는 feature만 뽑아 새로운 df에 저장 \n",
        "test_df = challenger_df[[ 'blueTotalGold', 'blueKills', 'blueDragonKills', 'redTotalGold', 'redKills', 'redDragonKills','blueWins']]\n"
      ],
      "execution_count": 18,
      "outputs": []
    },
    {
      "cell_type": "code",
      "metadata": {
        "colab": {
          "base_uri": "https://localhost:8080/",
          "height": 406
        },
        "id": "ImXxGEj0t4PQ",
        "outputId": "238e5fed-c0a4-470f-d3bb-bf9bd511a039"
      },
      "source": [
        "test_df"
      ],
      "execution_count": 19,
      "outputs": [
        {
          "output_type": "execute_result",
          "data": {
            "text/html": [
              "<div>\n",
              "<style scoped>\n",
              "    .dataframe tbody tr th:only-of-type {\n",
              "        vertical-align: middle;\n",
              "    }\n",
              "\n",
              "    .dataframe tbody tr th {\n",
              "        vertical-align: top;\n",
              "    }\n",
              "\n",
              "    .dataframe thead th {\n",
              "        text-align: right;\n",
              "    }\n",
              "</style>\n",
              "<table border=\"1\" class=\"dataframe\">\n",
              "  <thead>\n",
              "    <tr style=\"text-align: right;\">\n",
              "      <th></th>\n",
              "      <th>blueTotalGold</th>\n",
              "      <th>blueKills</th>\n",
              "      <th>blueDragonKills</th>\n",
              "      <th>redTotalGold</th>\n",
              "      <th>redKills</th>\n",
              "      <th>redDragonKills</th>\n",
              "      <th>blueWins</th>\n",
              "    </tr>\n",
              "  </thead>\n",
              "  <tbody>\n",
              "    <tr>\n",
              "      <th>0</th>\n",
              "      <td>37001</td>\n",
              "      <td>15</td>\n",
              "      <td>0</td>\n",
              "      <td>49832</td>\n",
              "      <td>31</td>\n",
              "      <td>3</td>\n",
              "      <td>0</td>\n",
              "    </tr>\n",
              "    <tr>\n",
              "      <th>1</th>\n",
              "      <td>41072</td>\n",
              "      <td>19</td>\n",
              "      <td>2</td>\n",
              "      <td>37136</td>\n",
              "      <td>8</td>\n",
              "      <td>0</td>\n",
              "      <td>1</td>\n",
              "    </tr>\n",
              "    <tr>\n",
              "      <th>2</th>\n",
              "      <td>22929</td>\n",
              "      <td>5</td>\n",
              "      <td>0</td>\n",
              "      <td>35364</td>\n",
              "      <td>20</td>\n",
              "      <td>2</td>\n",
              "      <td>0</td>\n",
              "    </tr>\n",
              "    <tr>\n",
              "      <th>3</th>\n",
              "      <td>63447</td>\n",
              "      <td>26</td>\n",
              "      <td>1</td>\n",
              "      <td>70528</td>\n",
              "      <td>36</td>\n",
              "      <td>3</td>\n",
              "      <td>0</td>\n",
              "    </tr>\n",
              "    <tr>\n",
              "      <th>4</th>\n",
              "      <td>74955</td>\n",
              "      <td>27</td>\n",
              "      <td>2</td>\n",
              "      <td>74596</td>\n",
              "      <td>40</td>\n",
              "      <td>3</td>\n",
              "      <td>1</td>\n",
              "    </tr>\n",
              "    <tr>\n",
              "      <th>...</th>\n",
              "      <td>...</td>\n",
              "      <td>...</td>\n",
              "      <td>...</td>\n",
              "      <td>...</td>\n",
              "      <td>...</td>\n",
              "      <td>...</td>\n",
              "      <td>...</td>\n",
              "    </tr>\n",
              "    <tr>\n",
              "      <th>26899</th>\n",
              "      <td>41437</td>\n",
              "      <td>24</td>\n",
              "      <td>1</td>\n",
              "      <td>46558</td>\n",
              "      <td>27</td>\n",
              "      <td>2</td>\n",
              "      <td>0</td>\n",
              "    </tr>\n",
              "    <tr>\n",
              "      <th>26900</th>\n",
              "      <td>61221</td>\n",
              "      <td>29</td>\n",
              "      <td>3</td>\n",
              "      <td>70177</td>\n",
              "      <td>40</td>\n",
              "      <td>0</td>\n",
              "      <td>0</td>\n",
              "    </tr>\n",
              "    <tr>\n",
              "      <th>26901</th>\n",
              "      <td>45013</td>\n",
              "      <td>14</td>\n",
              "      <td>1</td>\n",
              "      <td>48849</td>\n",
              "      <td>20</td>\n",
              "      <td>1</td>\n",
              "      <td>0</td>\n",
              "    </tr>\n",
              "    <tr>\n",
              "      <th>26902</th>\n",
              "      <td>58160</td>\n",
              "      <td>32</td>\n",
              "      <td>3</td>\n",
              "      <td>52625</td>\n",
              "      <td>19</td>\n",
              "      <td>2</td>\n",
              "      <td>1</td>\n",
              "    </tr>\n",
              "    <tr>\n",
              "      <th>26903</th>\n",
              "      <td>30001</td>\n",
              "      <td>10</td>\n",
              "      <td>1</td>\n",
              "      <td>20972</td>\n",
              "      <td>2</td>\n",
              "      <td>1</td>\n",
              "      <td>1</td>\n",
              "    </tr>\n",
              "  </tbody>\n",
              "</table>\n",
              "<p>26904 rows × 7 columns</p>\n",
              "</div>"
            ],
            "text/plain": [
              "       blueTotalGold  blueKills  ...  redDragonKills  blueWins\n",
              "0              37001         15  ...               3         0\n",
              "1              41072         19  ...               0         1\n",
              "2              22929          5  ...               2         0\n",
              "3              63447         26  ...               3         0\n",
              "4              74955         27  ...               3         1\n",
              "...              ...        ...  ...             ...       ...\n",
              "26899          41437         24  ...               2         0\n",
              "26900          61221         29  ...               0         0\n",
              "26901          45013         14  ...               1         0\n",
              "26902          58160         32  ...               2         1\n",
              "26903          30001         10  ...               1         1\n",
              "\n",
              "[26904 rows x 7 columns]"
            ]
          },
          "metadata": {
            "tags": []
          },
          "execution_count": 19
        }
      ]
    },
    {
      "cell_type": "code",
      "metadata": {
        "id": "MFKiY2gF4P_M"
      },
      "source": [
        "bluewin_y = test_df['blueWins']"
      ],
      "execution_count": 24,
      "outputs": []
    },
    {
      "cell_type": "code",
      "metadata": {
        "colab": {
          "base_uri": "https://localhost:8080/"
        },
        "id": "CUOKP9PauLwF",
        "outputId": "6f25263c-daae-48b7-fec2-139f59ecb7e9"
      },
      "source": [
        "# 데이터 내에서 학습 데이터와 테스트 데이터를 (8:2) 비율로 분리한다.\n",
        "X_train, X_test, Y_train, Y_test = train_test_split(test_df, bluewin_y, test_size=.2,random_state=12)\n",
        "\n",
        "X_train.shape, Y_train.shape, X_test.shape, Y_test.shape"
      ],
      "execution_count": 25,
      "outputs": [
        {
          "output_type": "execute_result",
          "data": {
            "text/plain": [
              "((21523, 7), (21523,), (5381, 7), (5381,))"
            ]
          },
          "metadata": {
            "tags": []
          },
          "execution_count": 25
        }
      ]
    },
    {
      "cell_type": "code",
      "metadata": {
        "colab": {
          "base_uri": "https://localhost:8080/",
          "height": 406
        },
        "id": "OE80mssh5MFO",
        "outputId": "245de6af-887c-4bf0-8048-a1987fc85f73"
      },
      "source": [
        "X_train"
      ],
      "execution_count": null,
      "outputs": [
        {
          "output_type": "execute_result",
          "data": {
            "text/html": [
              "<div>\n",
              "<style scoped>\n",
              "    .dataframe tbody tr th:only-of-type {\n",
              "        vertical-align: middle;\n",
              "    }\n",
              "\n",
              "    .dataframe tbody tr th {\n",
              "        vertical-align: top;\n",
              "    }\n",
              "\n",
              "    .dataframe thead th {\n",
              "        text-align: right;\n",
              "    }\n",
              "</style>\n",
              "<table border=\"1\" class=\"dataframe\">\n",
              "  <thead>\n",
              "    <tr style=\"text-align: right;\">\n",
              "      <th></th>\n",
              "      <th>blueTotalGold</th>\n",
              "      <th>blueKills</th>\n",
              "      <th>blueDragonKills</th>\n",
              "      <th>redTotalGold</th>\n",
              "      <th>redKills</th>\n",
              "      <th>redDragonKills</th>\n",
              "      <th>blueWins</th>\n",
              "    </tr>\n",
              "  </thead>\n",
              "  <tbody>\n",
              "    <tr>\n",
              "      <th>25987</th>\n",
              "      <td>34361</td>\n",
              "      <td>14</td>\n",
              "      <td>1</td>\n",
              "      <td>43010</td>\n",
              "      <td>25</td>\n",
              "      <td>1</td>\n",
              "      <td>0</td>\n",
              "    </tr>\n",
              "    <tr>\n",
              "      <th>17601</th>\n",
              "      <td>41401</td>\n",
              "      <td>26</td>\n",
              "      <td>1</td>\n",
              "      <td>36058</td>\n",
              "      <td>18</td>\n",
              "      <td>0</td>\n",
              "      <td>1</td>\n",
              "    </tr>\n",
              "    <tr>\n",
              "      <th>6993</th>\n",
              "      <td>70961</td>\n",
              "      <td>54</td>\n",
              "      <td>2</td>\n",
              "      <td>61009</td>\n",
              "      <td>29</td>\n",
              "      <td>1</td>\n",
              "      <td>1</td>\n",
              "    </tr>\n",
              "    <tr>\n",
              "      <th>14967</th>\n",
              "      <td>53685</td>\n",
              "      <td>18</td>\n",
              "      <td>2</td>\n",
              "      <td>47515</td>\n",
              "      <td>13</td>\n",
              "      <td>2</td>\n",
              "      <td>1</td>\n",
              "    </tr>\n",
              "    <tr>\n",
              "      <th>2185</th>\n",
              "      <td>41224</td>\n",
              "      <td>14</td>\n",
              "      <td>3</td>\n",
              "      <td>52876</td>\n",
              "      <td>31</td>\n",
              "      <td>1</td>\n",
              "      <td>0</td>\n",
              "    </tr>\n",
              "    <tr>\n",
              "      <th>...</th>\n",
              "      <td>...</td>\n",
              "      <td>...</td>\n",
              "      <td>...</td>\n",
              "      <td>...</td>\n",
              "      <td>...</td>\n",
              "      <td>...</td>\n",
              "      <td>...</td>\n",
              "    </tr>\n",
              "    <tr>\n",
              "      <th>7409</th>\n",
              "      <td>65686</td>\n",
              "      <td>35</td>\n",
              "      <td>4</td>\n",
              "      <td>59187</td>\n",
              "      <td>29</td>\n",
              "      <td>1</td>\n",
              "      <td>1</td>\n",
              "    </tr>\n",
              "    <tr>\n",
              "      <th>19709</th>\n",
              "      <td>75574</td>\n",
              "      <td>40</td>\n",
              "      <td>2</td>\n",
              "      <td>83105</td>\n",
              "      <td>52</td>\n",
              "      <td>4</td>\n",
              "      <td>0</td>\n",
              "    </tr>\n",
              "    <tr>\n",
              "      <th>25990</th>\n",
              "      <td>35464</td>\n",
              "      <td>29</td>\n",
              "      <td>1</td>\n",
              "      <td>22164</td>\n",
              "      <td>9</td>\n",
              "      <td>0</td>\n",
              "      <td>1</td>\n",
              "    </tr>\n",
              "    <tr>\n",
              "      <th>5787</th>\n",
              "      <td>40330</td>\n",
              "      <td>12</td>\n",
              "      <td>0</td>\n",
              "      <td>46760</td>\n",
              "      <td>23</td>\n",
              "      <td>3</td>\n",
              "      <td>0</td>\n",
              "    </tr>\n",
              "    <tr>\n",
              "      <th>14155</th>\n",
              "      <td>35551</td>\n",
              "      <td>8</td>\n",
              "      <td>1</td>\n",
              "      <td>42531</td>\n",
              "      <td>17</td>\n",
              "      <td>2</td>\n",
              "      <td>0</td>\n",
              "    </tr>\n",
              "  </tbody>\n",
              "</table>\n",
              "<p>21523 rows × 7 columns</p>\n",
              "</div>"
            ],
            "text/plain": [
              "       blueTotalGold  blueKills  ...  redDragonKills  blueWins\n",
              "25987          34361         14  ...               1         0\n",
              "17601          41401         26  ...               0         1\n",
              "6993           70961         54  ...               1         1\n",
              "14967          53685         18  ...               2         1\n",
              "2185           41224         14  ...               1         0\n",
              "...              ...        ...  ...             ...       ...\n",
              "7409           65686         35  ...               1         1\n",
              "19709          75574         40  ...               4         0\n",
              "25990          35464         29  ...               0         1\n",
              "5787           40330         12  ...               3         0\n",
              "14155          35551          8  ...               2         0\n",
              "\n",
              "[21523 rows x 7 columns]"
            ]
          },
          "metadata": {
            "tags": []
          },
          "execution_count": 33
        }
      ]
    },
    {
      "cell_type": "code",
      "metadata": {
        "colab": {
          "base_uri": "https://localhost:8080/"
        },
        "id": "mJfM7-qT5Qrw",
        "outputId": "e61c2198-42c8-433c-feee-3961ff7b17ab"
      },
      "source": [
        "Y_train"
      ],
      "execution_count": null,
      "outputs": [
        {
          "output_type": "execute_result",
          "data": {
            "text/plain": [
              "25987    0\n",
              "17601    1\n",
              "6993     1\n",
              "14967    1\n",
              "2185     0\n",
              "        ..\n",
              "7409     1\n",
              "19709    0\n",
              "25990    1\n",
              "5787     0\n",
              "14155    0\n",
              "Name: blueWins, Length: 21523, dtype: int64"
            ]
          },
          "metadata": {
            "tags": []
          },
          "execution_count": 34
        }
      ]
    },
    {
      "cell_type": "markdown",
      "metadata": {
        "id": "PBFEEOCrvXIH"
      },
      "source": [
        "#기계학습\n",
        "\n",
        "\n"
      ]
    },
    {
      "cell_type": "code",
      "metadata": {
        "id": "OPnzN8I-vbD8"
      },
      "source": [
        "# 기계 학습 관련 import\n",
        "from sklearn.linear_model import LogisticRegression\n",
        "from sklearn.svm import SVC, LinearSVC\n",
        "from sklearn.ensemble import RandomForestClassifier\n",
        "from sklearn.neighbors import KNeighborsClassifier\n",
        "from sklearn.naive_bayes import GaussianNB  # 이산형이 아닌 연속형에 대한\n",
        "from sklearn.linear_model import Perceptron\n",
        "from sklearn.linear_model import SGDClassifier\n",
        "from sklearn.tree import DecisionTreeClassifier\n",
        "from sklearn.neural_network import MLPClassifier\n",
        "from sklearn.cluster import KMeans"
      ],
      "execution_count": 20,
      "outputs": []
    },
    {
      "cell_type": "code",
      "metadata": {
        "colab": {
          "base_uri": "https://localhost:8080/"
        },
        "id": "3-6vbXQ6vcv0",
        "outputId": "8e51c77e-e03b-4cad-ed44-ebed25e45664"
      },
      "source": [
        "# Support Vector Machines\n",
        "# SVM 모델 학습\n",
        "svc = SVC()\n",
        "svc.fit(X_train, Y_train)\n",
        "Y_pred_svc = svc.predict(X_test)\n",
        "acc_svc = round(svc.score(X_test, Y_test) * 100, 2)\n",
        "acc_svc"
      ],
      "execution_count": null,
      "outputs": [
        {
          "output_type": "execute_result",
          "data": {
            "text/plain": [
              "97.7"
            ]
          },
          "metadata": {
            "tags": []
          },
          "execution_count": 36
        }
      ]
    },
    {
      "cell_type": "code",
      "metadata": {
        "colab": {
          "base_uri": "https://localhost:8080/"
        },
        "id": "0NkAx8lQwXe5",
        "outputId": "117a4736-3815-4b76-c72a-8dd693768af3"
      },
      "source": [
        "#k-Nearest Neighbor\n",
        "knn  = KNeighborsClassifier(n_neighbors = 3)\n",
        "knn.fit(X_train, Y_train)\n",
        "Y_pred_knn = knn.predict(X_test)\n",
        "acc_knn = round(knn.score(X_test, Y_test) * 100, 2)\n",
        "acc_knn"
      ],
      "execution_count": null,
      "outputs": [
        {
          "output_type": "execute_result",
          "data": {
            "text/plain": [
              "97.42"
            ]
          },
          "metadata": {
            "tags": []
          },
          "execution_count": 37
        }
      ]
    },
    {
      "cell_type": "code",
      "metadata": {
        "colab": {
          "base_uri": "https://localhost:8080/"
        },
        "id": "yUerwTUbwXj_",
        "outputId": "b3789a4c-18d3-416d-eba9-e50f476f3d53"
      },
      "source": [
        "# Gaussian Naive Bayes\n",
        "gaussian = GaussianNB()\n",
        "gaussian.fit(X_train, Y_train)\n",
        "Y_pred_NB = gaussian.predict(X_test)\n",
        "acc_gaussian = round(gaussian.score(X_test, Y_test) * 100, 2)\n",
        "acc_gaussian"
      ],
      "execution_count": null,
      "outputs": [
        {
          "output_type": "execute_result",
          "data": {
            "text/plain": [
              "98.55"
            ]
          },
          "metadata": {
            "tags": []
          },
          "execution_count": 38
        }
      ]
    },
    {
      "cell_type": "code",
      "metadata": {
        "colab": {
          "base_uri": "https://localhost:8080/"
        },
        "id": "5WmhCsyWwXmR",
        "outputId": "8dcf2d7f-0c0f-4fbc-8594-ec009ce87a52"
      },
      "source": [
        "# Decision Tree\n",
        "decision_tree = DecisionTreeClassifier()\n",
        "decision_tree.fit(X_train, Y_train)\n",
        "Y_pred_DT = decision_tree.predict(X_test)\n",
        "acc_decision_tree = round(decision_tree.score(X_test, Y_test) * 100, 2)\n",
        "acc_decision_tree"
      ],
      "execution_count": null,
      "outputs": [
        {
          "output_type": "execute_result",
          "data": {
            "text/plain": [
              "100.0"
            ]
          },
          "metadata": {
            "tags": []
          },
          "execution_count": 39
        }
      ]
    },
    {
      "cell_type": "code",
      "metadata": {
        "id": "pCAjM2QnvcyQ",
        "colab": {
          "base_uri": "https://localhost:8080/"
        },
        "outputId": "a22b670a-6c9c-4095-ecc2-fd0ebac4db5f"
      },
      "source": [
        "# #Artificial Neural Network\n",
        "\n",
        "ANN = MLPClassifier(solver='lbfgs', alpha=1, hidden_layer_sizes=(30, 10), random_state=1)\n",
        "ANN.fit(X_train, Y_train)\n",
        "Y_pred_ANN = ANN.predict(X_test)\n",
        "acc_ANN = round(ANN.score(X_test, Y_test) * 100, 2)\n",
        "acc_ANN"
      ],
      "execution_count": 26,
      "outputs": [
        {
          "output_type": "execute_result",
          "data": {
            "text/plain": [
              "93.07"
            ]
          },
          "metadata": {
            "tags": []
          },
          "execution_count": 26
        }
      ]
    },
    {
      "cell_type": "code",
      "metadata": {
        "colab": {
          "base_uri": "https://localhost:8080/"
        },
        "id": "IiZg2Ahz90Av",
        "outputId": "ac316c72-944b-49cb-93af-28ba97e43a42"
      },
      "source": [
        "#report\n",
        "\n",
        "from sklearn.metrics import classification_report\n",
        "print(classification_report(Y_test, Y_pred_ANN, digits=4))"
      ],
      "execution_count": null,
      "outputs": [
        {
          "output_type": "stream",
          "text": [
            "              precision    recall  f1-score   support\n",
            "\n",
            "           0     0.9877    0.8715    0.9260      2677\n",
            "           1     0.8861    0.9893    0.9348      2704\n",
            "\n",
            "    accuracy                         0.9307      5381\n",
            "   macro avg     0.9369    0.9304    0.9304      5381\n",
            "weighted avg     0.9366    0.9307    0.9304      5381\n",
            "\n"
          ],
          "name": "stdout"
        }
      ]
    },
    {
      "cell_type": "markdown",
      "metadata": {
        "id": "a2T3nDZecLlX"
      },
      "source": [
        "패배의 경우 98퍼센트로 예측하고 승리의 경우 88퍼센트로 예측하는것을 알 수 있다."
      ]
    },
    {
      "cell_type": "markdown",
      "metadata": {
        "id": "aQ1m_K6ow1f_"
      },
      "source": [
        "#keras model 을 통한 블루팀 승리 예측 \n",
        "블루가 승리하면 레드는 패배이고, 롤 이라는 게임의 특성상 무승부는 존재하지 않기때문에 블루팀이 이겼는지 졌는지만 예측하기로 함\n",
        " "
      ]
    },
    {
      "cell_type": "code",
      "metadata": {
        "id": "ZLuek6lS9Rb0"
      },
      "source": [
        "# keras import\n",
        "from keras import layers, models, datasets\n",
        "from keras.utils import np_utils"
      ],
      "execution_count": 27,
      "outputs": []
    },
    {
      "cell_type": "code",
      "metadata": {
        "id": "N6J6XHWS9z5c"
      },
      "source": [
        "def plot(hist):\n",
        "    fig, loss_ax = plt.subplots()\n",
        "    acc_ax = loss_ax.twinx()\n",
        "\n",
        "    loss_ax.plot(hist.history['loss'], 'y', label='train loss')\n",
        "    loss_ax.plot(hist.history['val_loss'], 'r', label='val loss')\n",
        "\n",
        "    acc_ax.plot(hist.history['accuracy'], 'b', label='train acc')\n",
        "    acc_ax.plot(hist.history['val_accuracy'], 'g', label='val acc')\n",
        "\n",
        "    loss_ax.set_xlabel('epoch')\n",
        "    loss_ax.set_ylabel('loss')\n",
        "    acc_ax.set_ylabel('accuray')\n",
        "\n",
        "    loss_ax.legend(loc='upper left')\n",
        "    acc_ax.legend(loc='lower left')\n",
        "\n",
        "    plt.show()"
      ],
      "execution_count": 28,
      "outputs": []
    },
    {
      "cell_type": "markdown",
      "metadata": {
        "id": "GK0Jr6ifbrXw"
      },
      "source": [
        "relu, sigmoid 활성화함수 사용\n",
        "adam 확률적 경사 하강법 손실함수를 사용하여 손실률을 최적화\\\n",
        "apoch= 40\n",
        "evaluate batch size = 32\n",
        "predict batch size = 128"
      ]
    },
    {
      "cell_type": "code",
      "metadata": {
        "colab": {
          "base_uri": "https://localhost:8080/"
        },
        "id": "ObZkBWkN9z7x",
        "outputId": "18755850-0bf4-4dd2-cec1-3bb67373f686"
      },
      "source": [
        "import keras\n",
        "from keras.models import Sequential\n",
        "from keras.layers import Dense, Dropout, Activation\n",
        "\n",
        "model = Sequential()\n",
        "model.add(Dense(64, activation='relu', input_dim=7))\n",
        "model.add(Dropout(0.2))\n",
        "model.add(Dense(64, activation='relu'))\n",
        "model.add(Dropout(0.2))\n",
        "model.add(Dense(1, activation='sigmoid'))       \n",
        "model.compile(loss='binary_crossentropy',optimizer='adam', metrics=['accuracy'])\n",
        "\n",
        "hist = model.fit(X_train, Y_train, epochs=40,\n",
        "        batch_size=32, validation_split=0.2)\n",
        "performance_test = model.evaluate(X_test, Y_test, batch_size=32)\n",
        "classes = model.predict(X_test, batch_size=128)\n",
        "performance_test"
      ],
      "execution_count": 57,
      "outputs": [
        {
          "output_type": "stream",
          "text": [
            "Epoch 1/40\n",
            "539/539 [==============================] - 1s 2ms/step - loss: 396.7550 - accuracy: 0.8575 - val_loss: 2.1683 - val_accuracy: 0.9603\n",
            "Epoch 2/40\n",
            "539/539 [==============================] - 1s 2ms/step - loss: 25.3712 - accuracy: 0.8737 - val_loss: 0.3630 - val_accuracy: 0.8267\n",
            "Epoch 3/40\n",
            "539/539 [==============================] - 1s 2ms/step - loss: 3.9312 - accuracy: 0.8236 - val_loss: 0.3105 - val_accuracy: 0.8534\n",
            "Epoch 4/40\n",
            "539/539 [==============================] - 1s 2ms/step - loss: 2.0553 - accuracy: 0.8098 - val_loss: 0.2797 - val_accuracy: 0.9301\n",
            "Epoch 5/40\n",
            "539/539 [==============================] - 1s 2ms/step - loss: 1.2975 - accuracy: 0.8200 - val_loss: 0.2012 - val_accuracy: 0.9117\n",
            "Epoch 6/40\n",
            "539/539 [==============================] - 1s 2ms/step - loss: 0.9482 - accuracy: 0.8258 - val_loss: 0.2268 - val_accuracy: 0.8906\n",
            "Epoch 7/40\n",
            "539/539 [==============================] - 1s 2ms/step - loss: 0.8106 - accuracy: 0.8455 - val_loss: 0.2747 - val_accuracy: 0.8630\n",
            "Epoch 8/40\n",
            "539/539 [==============================] - 1s 2ms/step - loss: 0.4217 - accuracy: 0.8615 - val_loss: 0.1926 - val_accuracy: 0.9080\n",
            "Epoch 9/40\n",
            "539/539 [==============================] - 1s 2ms/step - loss: 0.5169 - accuracy: 0.8584 - val_loss: 0.2148 - val_accuracy: 0.9010\n",
            "Epoch 10/40\n",
            "539/539 [==============================] - 1s 2ms/step - loss: 0.3968 - accuracy: 0.8531 - val_loss: 0.2099 - val_accuracy: 0.8674\n",
            "Epoch 11/40\n",
            "539/539 [==============================] - 1s 2ms/step - loss: 0.4365 - accuracy: 0.8718 - val_loss: 0.2393 - val_accuracy: 0.9192\n",
            "Epoch 12/40\n",
            "539/539 [==============================] - 1s 2ms/step - loss: 0.3094 - accuracy: 0.8743 - val_loss: 0.1574 - val_accuracy: 0.9426\n",
            "Epoch 13/40\n",
            "539/539 [==============================] - 1s 2ms/step - loss: 0.3747 - accuracy: 0.8355 - val_loss: 0.2200 - val_accuracy: 0.8527\n",
            "Epoch 14/40\n",
            "539/539 [==============================] - 1s 2ms/step - loss: 0.2853 - accuracy: 0.8751 - val_loss: 0.1465 - val_accuracy: 0.9180\n",
            "Epoch 15/40\n",
            "539/539 [==============================] - 1s 2ms/step - loss: 0.2745 - accuracy: 0.8939 - val_loss: 0.1599 - val_accuracy: 0.9515\n",
            "Epoch 16/40\n",
            "539/539 [==============================] - 1s 2ms/step - loss: 0.2716 - accuracy: 0.9043 - val_loss: 0.1322 - val_accuracy: 0.9607\n",
            "Epoch 17/40\n",
            "539/539 [==============================] - 1s 2ms/step - loss: 0.2946 - accuracy: 0.8849 - val_loss: 0.1635 - val_accuracy: 0.9380\n",
            "Epoch 18/40\n",
            "539/539 [==============================] - 1s 2ms/step - loss: 0.3003 - accuracy: 0.8872 - val_loss: 0.1539 - val_accuracy: 0.9178\n",
            "Epoch 19/40\n",
            "539/539 [==============================] - 1s 2ms/step - loss: 0.2171 - accuracy: 0.9138 - val_loss: 0.0871 - val_accuracy: 0.9554\n",
            "Epoch 20/40\n",
            "539/539 [==============================] - 1s 2ms/step - loss: 0.2061 - accuracy: 0.9124 - val_loss: 0.1071 - val_accuracy: 0.9577\n",
            "Epoch 21/40\n",
            "539/539 [==============================] - 1s 2ms/step - loss: 0.3069 - accuracy: 0.8710 - val_loss: 0.1237 - val_accuracy: 0.9793\n",
            "Epoch 22/40\n",
            "539/539 [==============================] - 1s 2ms/step - loss: 0.3204 - accuracy: 0.8644 - val_loss: 0.0995 - val_accuracy: 0.9454\n",
            "Epoch 23/40\n",
            "539/539 [==============================] - 1s 2ms/step - loss: 0.2223 - accuracy: 0.9008 - val_loss: 0.0838 - val_accuracy: 0.9744\n",
            "Epoch 24/40\n",
            "539/539 [==============================] - 1s 2ms/step - loss: 0.2304 - accuracy: 0.9063 - val_loss: 0.1010 - val_accuracy: 0.9401\n",
            "Epoch 25/40\n",
            "539/539 [==============================] - 1s 2ms/step - loss: 0.2842 - accuracy: 0.8608 - val_loss: 0.1292 - val_accuracy: 0.9008\n",
            "Epoch 26/40\n",
            "539/539 [==============================] - 1s 2ms/step - loss: 0.2533 - accuracy: 0.8822 - val_loss: 0.0929 - val_accuracy: 0.9580\n",
            "Epoch 27/40\n",
            "539/539 [==============================] - 1s 2ms/step - loss: 0.2036 - accuracy: 0.8985 - val_loss: 0.1315 - val_accuracy: 0.9635\n",
            "Epoch 28/40\n",
            "539/539 [==============================] - 1s 2ms/step - loss: 0.2203 - accuracy: 0.9062 - val_loss: 0.2097 - val_accuracy: 0.9466\n",
            "Epoch 29/40\n",
            "539/539 [==============================] - 1s 2ms/step - loss: 0.2054 - accuracy: 0.9126 - val_loss: 0.0772 - val_accuracy: 0.9803\n",
            "Epoch 30/40\n",
            "539/539 [==============================] - 1s 2ms/step - loss: 0.1905 - accuracy: 0.9090 - val_loss: 0.0712 - val_accuracy: 0.9807\n",
            "Epoch 31/40\n",
            "539/539 [==============================] - 1s 2ms/step - loss: 0.2468 - accuracy: 0.9038 - val_loss: 0.0576 - val_accuracy: 0.9772\n",
            "Epoch 32/40\n",
            "539/539 [==============================] - 1s 2ms/step - loss: 0.2224 - accuracy: 0.9084 - val_loss: 0.1048 - val_accuracy: 0.9614\n",
            "Epoch 33/40\n",
            "539/539 [==============================] - 1s 2ms/step - loss: 0.2050 - accuracy: 0.9075 - val_loss: 0.0663 - val_accuracy: 0.9642\n",
            "Epoch 34/40\n",
            "539/539 [==============================] - 1s 2ms/step - loss: 0.2270 - accuracy: 0.8999 - val_loss: 0.1285 - val_accuracy: 0.9143\n",
            "Epoch 35/40\n",
            "539/539 [==============================] - 1s 2ms/step - loss: 0.2080 - accuracy: 0.9067 - val_loss: 0.1010 - val_accuracy: 0.9364\n",
            "Epoch 36/40\n",
            "539/539 [==============================] - 1s 2ms/step - loss: 0.1648 - accuracy: 0.9274 - val_loss: 0.0717 - val_accuracy: 0.9800\n",
            "Epoch 37/40\n",
            "539/539 [==============================] - 1s 2ms/step - loss: 0.1944 - accuracy: 0.9202 - val_loss: 0.1004 - val_accuracy: 0.9575\n",
            "Epoch 38/40\n",
            "539/539 [==============================] - 1s 2ms/step - loss: 0.2427 - accuracy: 0.9057 - val_loss: 0.0648 - val_accuracy: 0.9742\n",
            "Epoch 39/40\n",
            "539/539 [==============================] - 1s 2ms/step - loss: 0.1863 - accuracy: 0.9248 - val_loss: 0.0734 - val_accuracy: 0.9696\n",
            "Epoch 40/40\n",
            "539/539 [==============================] - 1s 2ms/step - loss: 0.2100 - accuracy: 0.9317 - val_loss: 0.1402 - val_accuracy: 0.9494\n",
            "169/169 [==============================] - 0s 932us/step - loss: 0.1453 - accuracy: 0.9437\n"
          ],
          "name": "stdout"
        },
        {
          "output_type": "execute_result",
          "data": {
            "text/plain": [
              "[0.1452634632587433, 0.9436907768249512]"
            ]
          },
          "metadata": {
            "tags": []
          },
          "execution_count": 57
        }
      ]
    },
    {
      "cell_type": "code",
      "metadata": {
        "colab": {
          "base_uri": "https://localhost:8080/"
        },
        "id": "mKmSLWF3A8dq",
        "outputId": "64000b58-274d-4f37-e54d-8d9e3be76376"
      },
      "source": [
        "model.summary()"
      ],
      "execution_count": 30,
      "outputs": [
        {
          "output_type": "stream",
          "text": [
            "Model: \"sequential\"\n",
            "_________________________________________________________________\n",
            "Layer (type)                 Output Shape              Param #   \n",
            "=================================================================\n",
            "dense (Dense)                (None, 64)                512       \n",
            "_________________________________________________________________\n",
            "dropout (Dropout)            (None, 64)                0         \n",
            "_________________________________________________________________\n",
            "dense_1 (Dense)              (None, 64)                4160      \n",
            "_________________________________________________________________\n",
            "dropout_1 (Dropout)          (None, 64)                0         \n",
            "_________________________________________________________________\n",
            "dense_2 (Dense)              (None, 1)                 65        \n",
            "=================================================================\n",
            "Total params: 4,737\n",
            "Trainable params: 4,737\n",
            "Non-trainable params: 0\n",
            "_________________________________________________________________\n"
          ],
          "name": "stdout"
        }
      ]
    },
    {
      "cell_type": "code",
      "metadata": {
        "id": "zQJExFlM9z-M"
      },
      "source": [
        "classes2_list = classes.tolist()\n",
        "model_keras_ANN = []\n",
        "for i in classes2_list:\n",
        "    model_keras_ANN.append(round(i[0]))"
      ],
      "execution_count": 31,
      "outputs": []
    },
    {
      "cell_type": "code",
      "metadata": {
        "colab": {
          "base_uri": "https://localhost:8080/"
        },
        "id": "WL6z7BNDgs7a",
        "outputId": "878b7ba9-3490-4f30-e217-6f0b9bd7c8c8"
      },
      "source": [
        "test_loss, test_acc = model.evaluate(X_test, Y_test, batch_size=32)\n",
        "\n",
        "print('\\n테스트 정확도:', test_acc)\n",
        "print('\\n테스트 손실률:', test_loss)"
      ],
      "execution_count": 35,
      "outputs": [
        {
          "output_type": "stream",
          "text": [
            "169/169 [==============================] - 0s 944us/step - loss: 0.0856 - accuracy: 0.9786\n",
            "\n",
            "테스트 정확도: 0.9786285161972046\n",
            "\n",
            "테스트 손실률: 0.08561041206121445\n"
          ],
          "name": "stdout"
        }
      ]
    },
    {
      "cell_type": "code",
      "metadata": {
        "colab": {
          "base_uri": "https://localhost:8080/",
          "height": 585
        },
        "id": "KYSyJO6mMdue",
        "outputId": "d8b0f36b-9b84-4cad-ddc8-4c95b8ac9ae4"
      },
      "source": [
        "h = pd.DataFrame(history.history)\n",
        "ax = h.plot(x=\"index\", y=[\"loss\", \"val_loss\"])\n",
        "ax.set_ylabel(\"loss\")\n",
        "ax2 = ax.twinx()\n",
        "ax2.set_ylabel(\"acc\")\n",
        "h.plot(x=\"index\", y=[\"acc\", \"val_acc\"], ax=ax2, colormap='viridis',)\n",
        "plt.grid(False)\n",
        "plt.show()"
      ],
      "execution_count": 58,
      "outputs": [
        {
          "output_type": "error",
          "ename": "KeyError",
          "evalue": "ignored",
          "traceback": [
            "\u001b[0;31m---------------------------------------------------------------------------\u001b[0m",
            "\u001b[0;31mKeyError\u001b[0m                                  Traceback (most recent call last)",
            "\u001b[0;32m/usr/local/lib/python3.6/dist-packages/pandas/core/indexes/base.py\u001b[0m in \u001b[0;36mget_loc\u001b[0;34m(self, key, method, tolerance)\u001b[0m\n\u001b[1;32m   2894\u001b[0m             \u001b[0;32mtry\u001b[0m\u001b[0;34m:\u001b[0m\u001b[0;34m\u001b[0m\u001b[0;34m\u001b[0m\u001b[0m\n\u001b[0;32m-> 2895\u001b[0;31m                 \u001b[0;32mreturn\u001b[0m \u001b[0mself\u001b[0m\u001b[0;34m.\u001b[0m\u001b[0m_engine\u001b[0m\u001b[0;34m.\u001b[0m\u001b[0mget_loc\u001b[0m\u001b[0;34m(\u001b[0m\u001b[0mcasted_key\u001b[0m\u001b[0;34m)\u001b[0m\u001b[0;34m\u001b[0m\u001b[0;34m\u001b[0m\u001b[0m\n\u001b[0m\u001b[1;32m   2896\u001b[0m             \u001b[0;32mexcept\u001b[0m \u001b[0mKeyError\u001b[0m \u001b[0;32mas\u001b[0m \u001b[0merr\u001b[0m\u001b[0;34m:\u001b[0m\u001b[0;34m\u001b[0m\u001b[0;34m\u001b[0m\u001b[0m\n",
            "\u001b[0;32mpandas/_libs/index.pyx\u001b[0m in \u001b[0;36mpandas._libs.index.IndexEngine.get_loc\u001b[0;34m()\u001b[0m\n",
            "\u001b[0;32mpandas/_libs/index.pyx\u001b[0m in \u001b[0;36mpandas._libs.index.IndexEngine.get_loc\u001b[0;34m()\u001b[0m\n",
            "\u001b[0;32mpandas/_libs/hashtable_class_helper.pxi\u001b[0m in \u001b[0;36mpandas._libs.hashtable.PyObjectHashTable.get_item\u001b[0;34m()\u001b[0m\n",
            "\u001b[0;32mpandas/_libs/hashtable_class_helper.pxi\u001b[0m in \u001b[0;36mpandas._libs.hashtable.PyObjectHashTable.get_item\u001b[0;34m()\u001b[0m\n",
            "\u001b[0;31mKeyError\u001b[0m: 'index'",
            "\nThe above exception was the direct cause of the following exception:\n",
            "\u001b[0;31mKeyError\u001b[0m                                  Traceback (most recent call last)",
            "\u001b[0;32m<ipython-input-58-cfadb275e1b6>\u001b[0m in \u001b[0;36m<module>\u001b[0;34m()\u001b[0m\n\u001b[1;32m      1\u001b[0m \u001b[0mh\u001b[0m \u001b[0;34m=\u001b[0m \u001b[0mpd\u001b[0m\u001b[0;34m.\u001b[0m\u001b[0mDataFrame\u001b[0m\u001b[0;34m(\u001b[0m\u001b[0mhistory\u001b[0m\u001b[0;34m.\u001b[0m\u001b[0mhistory\u001b[0m\u001b[0;34m)\u001b[0m\u001b[0;34m\u001b[0m\u001b[0;34m\u001b[0m\u001b[0m\n\u001b[0;32m----> 2\u001b[0;31m \u001b[0max\u001b[0m \u001b[0;34m=\u001b[0m \u001b[0mh\u001b[0m\u001b[0;34m.\u001b[0m\u001b[0mplot\u001b[0m\u001b[0;34m(\u001b[0m\u001b[0mx\u001b[0m\u001b[0;34m=\u001b[0m\u001b[0;34m\"index\"\u001b[0m\u001b[0;34m,\u001b[0m \u001b[0my\u001b[0m\u001b[0;34m=\u001b[0m\u001b[0;34m[\u001b[0m\u001b[0;34m\"loss\"\u001b[0m\u001b[0;34m,\u001b[0m \u001b[0;34m\"val_loss\"\u001b[0m\u001b[0;34m]\u001b[0m\u001b[0;34m)\u001b[0m\u001b[0;34m\u001b[0m\u001b[0;34m\u001b[0m\u001b[0m\n\u001b[0m\u001b[1;32m      3\u001b[0m \u001b[0max\u001b[0m\u001b[0;34m.\u001b[0m\u001b[0mset_ylabel\u001b[0m\u001b[0;34m(\u001b[0m\u001b[0;34m\"loss\"\u001b[0m\u001b[0;34m)\u001b[0m\u001b[0;34m\u001b[0m\u001b[0;34m\u001b[0m\u001b[0m\n\u001b[1;32m      4\u001b[0m \u001b[0max2\u001b[0m \u001b[0;34m=\u001b[0m \u001b[0max\u001b[0m\u001b[0;34m.\u001b[0m\u001b[0mtwinx\u001b[0m\u001b[0;34m(\u001b[0m\u001b[0;34m)\u001b[0m\u001b[0;34m\u001b[0m\u001b[0;34m\u001b[0m\u001b[0m\n\u001b[1;32m      5\u001b[0m \u001b[0max2\u001b[0m\u001b[0;34m.\u001b[0m\u001b[0mset_ylabel\u001b[0m\u001b[0;34m(\u001b[0m\u001b[0;34m\"acc\"\u001b[0m\u001b[0;34m)\u001b[0m\u001b[0;34m\u001b[0m\u001b[0;34m\u001b[0m\u001b[0m\n",
            "\u001b[0;32m/usr/local/lib/python3.6/dist-packages/pandas/plotting/_core.py\u001b[0m in \u001b[0;36m__call__\u001b[0;34m(self, *args, **kwargs)\u001b[0m\n\u001b[1;32m    912\u001b[0m                 \u001b[0;32mif\u001b[0m \u001b[0mis_integer\u001b[0m\u001b[0;34m(\u001b[0m\u001b[0mx\u001b[0m\u001b[0;34m)\u001b[0m \u001b[0;32mand\u001b[0m \u001b[0;32mnot\u001b[0m \u001b[0mdata\u001b[0m\u001b[0;34m.\u001b[0m\u001b[0mcolumns\u001b[0m\u001b[0;34m.\u001b[0m\u001b[0mholds_integer\u001b[0m\u001b[0;34m(\u001b[0m\u001b[0;34m)\u001b[0m\u001b[0;34m:\u001b[0m\u001b[0;34m\u001b[0m\u001b[0;34m\u001b[0m\u001b[0m\n\u001b[1;32m    913\u001b[0m                     \u001b[0mx\u001b[0m \u001b[0;34m=\u001b[0m \u001b[0mdata_cols\u001b[0m\u001b[0;34m[\u001b[0m\u001b[0mx\u001b[0m\u001b[0;34m]\u001b[0m\u001b[0;34m\u001b[0m\u001b[0;34m\u001b[0m\u001b[0m\n\u001b[0;32m--> 914\u001b[0;31m                 \u001b[0;32melif\u001b[0m \u001b[0;32mnot\u001b[0m \u001b[0misinstance\u001b[0m\u001b[0;34m(\u001b[0m\u001b[0mdata\u001b[0m\u001b[0;34m[\u001b[0m\u001b[0mx\u001b[0m\u001b[0;34m]\u001b[0m\u001b[0;34m,\u001b[0m \u001b[0mABCSeries\u001b[0m\u001b[0;34m)\u001b[0m\u001b[0;34m:\u001b[0m\u001b[0;34m\u001b[0m\u001b[0;34m\u001b[0m\u001b[0m\n\u001b[0m\u001b[1;32m    915\u001b[0m                     \u001b[0;32mraise\u001b[0m \u001b[0mValueError\u001b[0m\u001b[0;34m(\u001b[0m\u001b[0;34m\"x must be a label or position\"\u001b[0m\u001b[0;34m)\u001b[0m\u001b[0;34m\u001b[0m\u001b[0;34m\u001b[0m\u001b[0m\n\u001b[1;32m    916\u001b[0m                 \u001b[0mdata\u001b[0m \u001b[0;34m=\u001b[0m \u001b[0mdata\u001b[0m\u001b[0;34m.\u001b[0m\u001b[0mset_index\u001b[0m\u001b[0;34m(\u001b[0m\u001b[0mx\u001b[0m\u001b[0;34m)\u001b[0m\u001b[0;34m\u001b[0m\u001b[0;34m\u001b[0m\u001b[0m\n",
            "\u001b[0;32m/usr/local/lib/python3.6/dist-packages/pandas/core/frame.py\u001b[0m in \u001b[0;36m__getitem__\u001b[0;34m(self, key)\u001b[0m\n\u001b[1;32m   2904\u001b[0m             \u001b[0;32mif\u001b[0m \u001b[0mself\u001b[0m\u001b[0;34m.\u001b[0m\u001b[0mcolumns\u001b[0m\u001b[0;34m.\u001b[0m\u001b[0mnlevels\u001b[0m \u001b[0;34m>\u001b[0m \u001b[0;36m1\u001b[0m\u001b[0;34m:\u001b[0m\u001b[0;34m\u001b[0m\u001b[0;34m\u001b[0m\u001b[0m\n\u001b[1;32m   2905\u001b[0m                 \u001b[0;32mreturn\u001b[0m \u001b[0mself\u001b[0m\u001b[0;34m.\u001b[0m\u001b[0m_getitem_multilevel\u001b[0m\u001b[0;34m(\u001b[0m\u001b[0mkey\u001b[0m\u001b[0;34m)\u001b[0m\u001b[0;34m\u001b[0m\u001b[0;34m\u001b[0m\u001b[0m\n\u001b[0;32m-> 2906\u001b[0;31m             \u001b[0mindexer\u001b[0m \u001b[0;34m=\u001b[0m \u001b[0mself\u001b[0m\u001b[0;34m.\u001b[0m\u001b[0mcolumns\u001b[0m\u001b[0;34m.\u001b[0m\u001b[0mget_loc\u001b[0m\u001b[0;34m(\u001b[0m\u001b[0mkey\u001b[0m\u001b[0;34m)\u001b[0m\u001b[0;34m\u001b[0m\u001b[0;34m\u001b[0m\u001b[0m\n\u001b[0m\u001b[1;32m   2907\u001b[0m             \u001b[0;32mif\u001b[0m \u001b[0mis_integer\u001b[0m\u001b[0;34m(\u001b[0m\u001b[0mindexer\u001b[0m\u001b[0;34m)\u001b[0m\u001b[0;34m:\u001b[0m\u001b[0;34m\u001b[0m\u001b[0;34m\u001b[0m\u001b[0m\n\u001b[1;32m   2908\u001b[0m                 \u001b[0mindexer\u001b[0m \u001b[0;34m=\u001b[0m \u001b[0;34m[\u001b[0m\u001b[0mindexer\u001b[0m\u001b[0;34m]\u001b[0m\u001b[0;34m\u001b[0m\u001b[0;34m\u001b[0m\u001b[0m\n",
            "\u001b[0;32m/usr/local/lib/python3.6/dist-packages/pandas/core/indexes/base.py\u001b[0m in \u001b[0;36mget_loc\u001b[0;34m(self, key, method, tolerance)\u001b[0m\n\u001b[1;32m   2895\u001b[0m                 \u001b[0;32mreturn\u001b[0m \u001b[0mself\u001b[0m\u001b[0;34m.\u001b[0m\u001b[0m_engine\u001b[0m\u001b[0;34m.\u001b[0m\u001b[0mget_loc\u001b[0m\u001b[0;34m(\u001b[0m\u001b[0mcasted_key\u001b[0m\u001b[0;34m)\u001b[0m\u001b[0;34m\u001b[0m\u001b[0;34m\u001b[0m\u001b[0m\n\u001b[1;32m   2896\u001b[0m             \u001b[0;32mexcept\u001b[0m \u001b[0mKeyError\u001b[0m \u001b[0;32mas\u001b[0m \u001b[0merr\u001b[0m\u001b[0;34m:\u001b[0m\u001b[0;34m\u001b[0m\u001b[0;34m\u001b[0m\u001b[0m\n\u001b[0;32m-> 2897\u001b[0;31m                 \u001b[0;32mraise\u001b[0m \u001b[0mKeyError\u001b[0m\u001b[0;34m(\u001b[0m\u001b[0mkey\u001b[0m\u001b[0;34m)\u001b[0m \u001b[0;32mfrom\u001b[0m \u001b[0merr\u001b[0m\u001b[0;34m\u001b[0m\u001b[0;34m\u001b[0m\u001b[0m\n\u001b[0m\u001b[1;32m   2898\u001b[0m \u001b[0;34m\u001b[0m\u001b[0m\n\u001b[1;32m   2899\u001b[0m         \u001b[0;32mif\u001b[0m \u001b[0mtolerance\u001b[0m \u001b[0;32mis\u001b[0m \u001b[0;32mnot\u001b[0m \u001b[0;32mNone\u001b[0m\u001b[0;34m:\u001b[0m\u001b[0;34m\u001b[0m\u001b[0;34m\u001b[0m\u001b[0m\n",
            "\u001b[0;31mKeyError\u001b[0m: 'index'"
          ]
        }
      ]
    },
    {
      "cell_type": "code",
      "metadata": {
        "id": "K1zoVAt-MdXJ"
      },
      "source": [
        ""
      ],
      "execution_count": null,
      "outputs": []
    },
    {
      "cell_type": "markdown",
      "metadata": {
        "id": "ONxmsUKcAFXJ"
      },
      "source": [
        "#모델검증"
      ]
    },
    {
      "cell_type": "markdown",
      "metadata": {
        "id": "FdbjjKU0Bril"
      },
      "source": [
        "# 더 정확하게 딜량 추가\n"
      ]
    },
    {
      "cell_type": "code",
      "metadata": {
        "id": "kn8VE_cvBtEh"
      },
      "source": [
        "# 필요한 feature만 뽑아 새로운 df에 저장 # 딜량 추가\n",
        "test_df = challenger_df[[ 'blueChampionDamageDealt','blueTotalGold', 'blueKills', 'redChampionDamageDealt','redTotalGold', 'redKills','blueWins']]"
      ],
      "execution_count": 36,
      "outputs": []
    },
    {
      "cell_type": "code",
      "metadata": {
        "colab": {
          "base_uri": "https://localhost:8080/"
        },
        "id": "woX91mABBtL-",
        "outputId": "d0d08de3-7747-43e3-9fed-adc885346d57"
      },
      "source": [
        "# 데이터 내에서 학습 집합과 테스트 집합을 나눔(8:2)\n",
        "X_train, X_test, y_train, y_test = train_test_split(test_df, bluewin_y, test_size=.2,random_state=12)\n",
        "\n",
        "X_train.shape, Y_train.shape, X_test.shape, Y_test.shape"
      ],
      "execution_count": 37,
      "outputs": [
        {
          "output_type": "execute_result",
          "data": {
            "text/plain": [
              "((21523, 7), (21523,), (5381, 7), (5381,))"
            ]
          },
          "metadata": {
            "tags": []
          },
          "execution_count": 37
        }
      ]
    },
    {
      "cell_type": "code",
      "metadata": {
        "colab": {
          "base_uri": "https://localhost:8080/",
          "height": 406
        },
        "id": "vAdRI9RPjoxc",
        "outputId": "b7e6b6c3-c3b1-46ec-84d2-970a3d329efe"
      },
      "source": [
        "test_df"
      ],
      "execution_count": 38,
      "outputs": [
        {
          "output_type": "execute_result",
          "data": {
            "text/html": [
              "<div>\n",
              "<style scoped>\n",
              "    .dataframe tbody tr th:only-of-type {\n",
              "        vertical-align: middle;\n",
              "    }\n",
              "\n",
              "    .dataframe tbody tr th {\n",
              "        vertical-align: top;\n",
              "    }\n",
              "\n",
              "    .dataframe thead th {\n",
              "        text-align: right;\n",
              "    }\n",
              "</style>\n",
              "<table border=\"1\" class=\"dataframe\">\n",
              "  <thead>\n",
              "    <tr style=\"text-align: right;\">\n",
              "      <th></th>\n",
              "      <th>blueChampionDamageDealt</th>\n",
              "      <th>blueTotalGold</th>\n",
              "      <th>blueKills</th>\n",
              "      <th>redChampionDamageDealt</th>\n",
              "      <th>redTotalGold</th>\n",
              "      <th>redKills</th>\n",
              "      <th>blueWins</th>\n",
              "    </tr>\n",
              "  </thead>\n",
              "  <tbody>\n",
              "    <tr>\n",
              "      <th>0</th>\n",
              "      <td>56039</td>\n",
              "      <td>37001</td>\n",
              "      <td>15</td>\n",
              "      <td>73016</td>\n",
              "      <td>49832</td>\n",
              "      <td>31</td>\n",
              "      <td>0</td>\n",
              "    </tr>\n",
              "    <tr>\n",
              "      <th>1</th>\n",
              "      <td>60243</td>\n",
              "      <td>41072</td>\n",
              "      <td>19</td>\n",
              "      <td>44218</td>\n",
              "      <td>37136</td>\n",
              "      <td>8</td>\n",
              "      <td>1</td>\n",
              "    </tr>\n",
              "    <tr>\n",
              "      <th>2</th>\n",
              "      <td>24014</td>\n",
              "      <td>22929</td>\n",
              "      <td>5</td>\n",
              "      <td>30797</td>\n",
              "      <td>35364</td>\n",
              "      <td>20</td>\n",
              "      <td>0</td>\n",
              "    </tr>\n",
              "    <tr>\n",
              "      <th>3</th>\n",
              "      <td>101607</td>\n",
              "      <td>63447</td>\n",
              "      <td>26</td>\n",
              "      <td>125866</td>\n",
              "      <td>70528</td>\n",
              "      <td>36</td>\n",
              "      <td>0</td>\n",
              "    </tr>\n",
              "    <tr>\n",
              "      <th>4</th>\n",
              "      <td>134826</td>\n",
              "      <td>74955</td>\n",
              "      <td>27</td>\n",
              "      <td>131536</td>\n",
              "      <td>74596</td>\n",
              "      <td>40</td>\n",
              "      <td>1</td>\n",
              "    </tr>\n",
              "    <tr>\n",
              "      <th>...</th>\n",
              "      <td>...</td>\n",
              "      <td>...</td>\n",
              "      <td>...</td>\n",
              "      <td>...</td>\n",
              "      <td>...</td>\n",
              "      <td>...</td>\n",
              "      <td>...</td>\n",
              "    </tr>\n",
              "    <tr>\n",
              "      <th>26899</th>\n",
              "      <td>99418</td>\n",
              "      <td>41437</td>\n",
              "      <td>24</td>\n",
              "      <td>75531</td>\n",
              "      <td>46558</td>\n",
              "      <td>27</td>\n",
              "      <td>0</td>\n",
              "    </tr>\n",
              "    <tr>\n",
              "      <th>26900</th>\n",
              "      <td>61816</td>\n",
              "      <td>61221</td>\n",
              "      <td>29</td>\n",
              "      <td>99837</td>\n",
              "      <td>70177</td>\n",
              "      <td>40</td>\n",
              "      <td>0</td>\n",
              "    </tr>\n",
              "    <tr>\n",
              "      <th>26901</th>\n",
              "      <td>51604</td>\n",
              "      <td>45013</td>\n",
              "      <td>14</td>\n",
              "      <td>55214</td>\n",
              "      <td>48849</td>\n",
              "      <td>20</td>\n",
              "      <td>0</td>\n",
              "    </tr>\n",
              "    <tr>\n",
              "      <th>26902</th>\n",
              "      <td>93059</td>\n",
              "      <td>58160</td>\n",
              "      <td>32</td>\n",
              "      <td>88366</td>\n",
              "      <td>52625</td>\n",
              "      <td>19</td>\n",
              "      <td>1</td>\n",
              "    </tr>\n",
              "    <tr>\n",
              "      <th>26903</th>\n",
              "      <td>22427</td>\n",
              "      <td>30001</td>\n",
              "      <td>10</td>\n",
              "      <td>16574</td>\n",
              "      <td>20972</td>\n",
              "      <td>2</td>\n",
              "      <td>1</td>\n",
              "    </tr>\n",
              "  </tbody>\n",
              "</table>\n",
              "<p>26904 rows × 7 columns</p>\n",
              "</div>"
            ],
            "text/plain": [
              "       blueChampionDamageDealt  blueTotalGold  ...  redKills  blueWins\n",
              "0                        56039          37001  ...        31         0\n",
              "1                        60243          41072  ...         8         1\n",
              "2                        24014          22929  ...        20         0\n",
              "3                       101607          63447  ...        36         0\n",
              "4                       134826          74955  ...        40         1\n",
              "...                        ...            ...  ...       ...       ...\n",
              "26899                    99418          41437  ...        27         0\n",
              "26900                    61816          61221  ...        40         0\n",
              "26901                    51604          45013  ...        20         0\n",
              "26902                    93059          58160  ...        19         1\n",
              "26903                    22427          30001  ...         2         1\n",
              "\n",
              "[26904 rows x 7 columns]"
            ]
          },
          "metadata": {
            "tags": []
          },
          "execution_count": 38
        }
      ]
    },
    {
      "cell_type": "code",
      "metadata": {
        "id": "-vtJ_31XDB2x"
      },
      "source": [
        "bluewin_y = test_df['blueWins']"
      ],
      "execution_count": 39,
      "outputs": []
    },
    {
      "cell_type": "code",
      "metadata": {
        "colab": {
          "base_uri": "https://localhost:8080/"
        },
        "id": "ue1paBK6BtOa",
        "outputId": "2785c324-9c62-42c3-8822-49a217704673"
      },
      "source": [
        "import keras\n",
        "from keras.models import Sequential\n",
        "from keras.layers import Dense, Dropout, Activation\n",
        "\n",
        "model = Sequential()\n",
        "model.add(Dense(64, activation='relu', input_dim=7))\n",
        "model.add(Dropout(0.2))\n",
        "model.add(Dense(64, activation='relu'))\n",
        "model.add(Dropout(0.2))\n",
        "model.add(Dense(1, activation='sigmoid'))       \n",
        "model.compile(loss='binary_crossentropy',optimizer='adam', metrics=['accuracy'])\n",
        "\n",
        "history = model.fit(X_train, Y_train, epochs=40,\n",
        "        batch_size=32, validation_split=0.2)\n",
        "performance_test = model.evaluate(X_test, Y_test, batch_size=32)\n",
        "classes = model.predict(X_test, batch_size=128)\n",
        "performance_test"
      ],
      "execution_count": 40,
      "outputs": [
        {
          "output_type": "stream",
          "text": [
            "Epoch 1/40\n",
            "539/539 [==============================] - 1s 2ms/step - loss: 506.2655 - accuracy: 0.8498 - val_loss: 12.1439 - val_accuracy: 0.9679\n",
            "Epoch 2/40\n",
            "539/539 [==============================] - 1s 2ms/step - loss: 43.3204 - accuracy: 0.9230 - val_loss: 1.2780 - val_accuracy: 0.9714\n",
            "Epoch 3/40\n",
            "539/539 [==============================] - 1s 2ms/step - loss: 10.9838 - accuracy: 0.9067 - val_loss: 0.3618 - val_accuracy: 0.8177\n",
            "Epoch 4/40\n",
            "539/539 [==============================] - 1s 2ms/step - loss: 3.0980 - accuracy: 0.8567 - val_loss: 0.4117 - val_accuracy: 0.8012\n",
            "Epoch 5/40\n",
            "539/539 [==============================] - 1s 2ms/step - loss: 1.5657 - accuracy: 0.8366 - val_loss: 0.3188 - val_accuracy: 0.8952\n",
            "Epoch 6/40\n",
            "539/539 [==============================] - 1s 2ms/step - loss: 1.0331 - accuracy: 0.8290 - val_loss: 0.3330 - val_accuracy: 0.9108\n",
            "Epoch 7/40\n",
            "539/539 [==============================] - 1s 2ms/step - loss: 0.8418 - accuracy: 0.8369 - val_loss: 0.2892 - val_accuracy: 0.9189\n",
            "Epoch 8/40\n",
            "539/539 [==============================] - 1s 2ms/step - loss: 0.5759 - accuracy: 0.8498 - val_loss: 0.2039 - val_accuracy: 0.9463\n",
            "Epoch 9/40\n",
            "539/539 [==============================] - 1s 2ms/step - loss: 0.4431 - accuracy: 0.8722 - val_loss: 0.1324 - val_accuracy: 0.9540\n",
            "Epoch 10/40\n",
            "539/539 [==============================] - 1s 2ms/step - loss: 0.3835 - accuracy: 0.8782 - val_loss: 0.1344 - val_accuracy: 0.9368\n",
            "Epoch 11/40\n",
            "539/539 [==============================] - 1s 2ms/step - loss: 0.3881 - accuracy: 0.8931 - val_loss: 0.1125 - val_accuracy: 0.9540\n",
            "Epoch 12/40\n",
            "539/539 [==============================] - 1s 2ms/step - loss: 0.3284 - accuracy: 0.8973 - val_loss: 0.1274 - val_accuracy: 0.9475\n",
            "Epoch 13/40\n",
            "539/539 [==============================] - 1s 2ms/step - loss: 0.3149 - accuracy: 0.9098 - val_loss: 0.1093 - val_accuracy: 0.9675\n",
            "Epoch 14/40\n",
            "539/539 [==============================] - 1s 2ms/step - loss: 0.2796 - accuracy: 0.9111 - val_loss: 0.1543 - val_accuracy: 0.9187\n",
            "Epoch 15/40\n",
            "539/539 [==============================] - 1s 2ms/step - loss: 0.2582 - accuracy: 0.9114 - val_loss: 0.1209 - val_accuracy: 0.9719\n",
            "Epoch 16/40\n",
            "539/539 [==============================] - 1s 2ms/step - loss: 0.2400 - accuracy: 0.9238 - val_loss: 0.1308 - val_accuracy: 0.9310\n",
            "Epoch 17/40\n",
            "539/539 [==============================] - 1s 2ms/step - loss: 0.3639 - accuracy: 0.9169 - val_loss: 0.1317 - val_accuracy: 0.9589\n",
            "Epoch 18/40\n",
            "539/539 [==============================] - 1s 2ms/step - loss: 0.3148 - accuracy: 0.9128 - val_loss: 0.1089 - val_accuracy: 0.9682\n",
            "Epoch 19/40\n",
            "539/539 [==============================] - 1s 2ms/step - loss: 0.3050 - accuracy: 0.9016 - val_loss: 0.0950 - val_accuracy: 0.9686\n",
            "Epoch 20/40\n",
            "539/539 [==============================] - 1s 2ms/step - loss: 0.1950 - accuracy: 0.9352 - val_loss: 0.0802 - val_accuracy: 0.9700\n",
            "Epoch 21/40\n",
            "539/539 [==============================] - 1s 2ms/step - loss: 0.2754 - accuracy: 0.9220 - val_loss: 0.2178 - val_accuracy: 0.8636\n",
            "Epoch 22/40\n",
            "539/539 [==============================] - 1s 2ms/step - loss: 0.1967 - accuracy: 0.9334 - val_loss: 0.0763 - val_accuracy: 0.9763\n",
            "Epoch 23/40\n",
            "539/539 [==============================] - 1s 2ms/step - loss: 0.2056 - accuracy: 0.9329 - val_loss: 0.0762 - val_accuracy: 0.9693\n",
            "Epoch 24/40\n",
            "539/539 [==============================] - 1s 2ms/step - loss: 0.2963 - accuracy: 0.9211 - val_loss: 0.1489 - val_accuracy: 0.9542\n",
            "Epoch 25/40\n",
            "539/539 [==============================] - 1s 2ms/step - loss: 0.2053 - accuracy: 0.9349 - val_loss: 0.0772 - val_accuracy: 0.9731\n",
            "Epoch 26/40\n",
            "539/539 [==============================] - 1s 2ms/step - loss: 0.2583 - accuracy: 0.9320 - val_loss: 0.1040 - val_accuracy: 0.9782\n",
            "Epoch 27/40\n",
            "539/539 [==============================] - 1s 2ms/step - loss: 0.2057 - accuracy: 0.9323 - val_loss: 0.0781 - val_accuracy: 0.9684\n",
            "Epoch 28/40\n",
            "539/539 [==============================] - 1s 2ms/step - loss: 0.2337 - accuracy: 0.9257 - val_loss: 0.0933 - val_accuracy: 0.9816\n",
            "Epoch 29/40\n",
            "539/539 [==============================] - 1s 2ms/step - loss: 0.2106 - accuracy: 0.9368 - val_loss: 0.0845 - val_accuracy: 0.9816\n",
            "Epoch 30/40\n",
            "539/539 [==============================] - 1s 2ms/step - loss: 0.2196 - accuracy: 0.9316 - val_loss: 0.0888 - val_accuracy: 0.9638\n",
            "Epoch 31/40\n",
            "539/539 [==============================] - 1s 2ms/step - loss: 0.1836 - accuracy: 0.9348 - val_loss: 0.0991 - val_accuracy: 0.9503\n",
            "Epoch 32/40\n",
            "539/539 [==============================] - 1s 2ms/step - loss: 0.2203 - accuracy: 0.9414 - val_loss: 0.0906 - val_accuracy: 0.9816\n",
            "Epoch 33/40\n",
            "539/539 [==============================] - 1s 2ms/step - loss: 0.1727 - accuracy: 0.9411 - val_loss: 0.0879 - val_accuracy: 0.9814\n",
            "Epoch 34/40\n",
            "539/539 [==============================] - 1s 2ms/step - loss: 0.1853 - accuracy: 0.9373 - val_loss: 0.0594 - val_accuracy: 0.9816\n",
            "Epoch 35/40\n",
            "539/539 [==============================] - 1s 2ms/step - loss: 0.2246 - accuracy: 0.9362 - val_loss: 0.1706 - val_accuracy: 0.8739\n",
            "Epoch 36/40\n",
            "539/539 [==============================] - 1s 2ms/step - loss: 0.2302 - accuracy: 0.9179 - val_loss: 0.1312 - val_accuracy: 0.9793\n",
            "Epoch 37/40\n",
            "539/539 [==============================] - 1s 2ms/step - loss: 0.1750 - accuracy: 0.9387 - val_loss: 0.0928 - val_accuracy: 0.9570\n",
            "Epoch 38/40\n",
            "539/539 [==============================] - 1s 2ms/step - loss: 0.1804 - accuracy: 0.9429 - val_loss: 0.0823 - val_accuracy: 0.9714\n",
            "Epoch 39/40\n",
            "539/539 [==============================] - 1s 2ms/step - loss: 0.1614 - accuracy: 0.9456 - val_loss: 0.0749 - val_accuracy: 0.9705\n",
            "Epoch 40/40\n",
            "539/539 [==============================] - 1s 2ms/step - loss: 0.1595 - accuracy: 0.9453 - val_loss: 0.0734 - val_accuracy: 0.9686\n",
            "169/169 [==============================] - 0s 1ms/step - loss: 0.0979 - accuracy: 0.9619\n"
          ],
          "name": "stdout"
        },
        {
          "output_type": "execute_result",
          "data": {
            "text/plain": [
              "[0.09791705012321472, 0.9619029760360718]"
            ]
          },
          "metadata": {
            "tags": []
          },
          "execution_count": 40
        }
      ]
    },
    {
      "cell_type": "code",
      "metadata": {
        "id": "dv7UIOpPBtSM"
      },
      "source": [
        "classes2_list = classes.tolist()\n",
        "model_keras_ANN = []\n",
        "for i in classes2_list:\n",
        "    model_keras_ANN.append(round(i[0]))"
      ],
      "execution_count": 41,
      "outputs": []
    },
    {
      "cell_type": "code",
      "metadata": {
        "colab": {
          "base_uri": "https://localhost:8080/"
        },
        "id": "ZmOBMqaqIPgT",
        "outputId": "09bea1bb-f90e-4cb8-9073-8fb7afc7aa92"
      },
      "source": [
        "test_loss, test_acc = model.evaluate(X_test, Y_test, batch_size=32)\n",
        "\n",
        "print('\\n테스트 정확도:', test_acc)\n",
        "print('\\n테스트 손실률:', test_loss)"
      ],
      "execution_count": 42,
      "outputs": [
        {
          "output_type": "stream",
          "text": [
            "169/169 [==============================] - 0s 961us/step - loss: 0.0979 - accuracy: 0.9619\n",
            "\n",
            "테스트 정확도: 0.9619029760360718\n",
            "\n",
            "테스트 손실률: 0.09791705012321472\n"
          ],
          "name": "stdout"
        }
      ]
    },
    {
      "cell_type": "code",
      "metadata": {
        "colab": {
          "base_uri": "https://localhost:8080/",
          "height": 585
        },
        "id": "u5iAY6y5EigO",
        "outputId": "6957bd03-4432-40f7-8653-6e8072e1fd05"
      },
      "source": [
        "h = pd.DataFrame(history.history)\n",
        "ax = h.plot(x=\"index\", y=[\"loss\", \"val_loss\"])\n",
        "ax.set_ylabel(\"loss\")\n",
        "ax2 = ax.twinx()\n",
        "ax2.set_ylabel(\"acc\")\n",
        "h.plot(x=\"index\", y=[\"acc\", \"val_acc\"], ax=ax2, colormap='viridis',)\n",
        "plt.grid(False)\n",
        "plt.show()"
      ],
      "execution_count": 43,
      "outputs": [
        {
          "output_type": "error",
          "ename": "KeyError",
          "evalue": "ignored",
          "traceback": [
            "\u001b[0;31m---------------------------------------------------------------------------\u001b[0m",
            "\u001b[0;31mKeyError\u001b[0m                                  Traceback (most recent call last)",
            "\u001b[0;32m/usr/local/lib/python3.6/dist-packages/pandas/core/indexes/base.py\u001b[0m in \u001b[0;36mget_loc\u001b[0;34m(self, key, method, tolerance)\u001b[0m\n\u001b[1;32m   2894\u001b[0m             \u001b[0;32mtry\u001b[0m\u001b[0;34m:\u001b[0m\u001b[0;34m\u001b[0m\u001b[0;34m\u001b[0m\u001b[0m\n\u001b[0;32m-> 2895\u001b[0;31m                 \u001b[0;32mreturn\u001b[0m \u001b[0mself\u001b[0m\u001b[0;34m.\u001b[0m\u001b[0m_engine\u001b[0m\u001b[0;34m.\u001b[0m\u001b[0mget_loc\u001b[0m\u001b[0;34m(\u001b[0m\u001b[0mcasted_key\u001b[0m\u001b[0;34m)\u001b[0m\u001b[0;34m\u001b[0m\u001b[0;34m\u001b[0m\u001b[0m\n\u001b[0m\u001b[1;32m   2896\u001b[0m             \u001b[0;32mexcept\u001b[0m \u001b[0mKeyError\u001b[0m \u001b[0;32mas\u001b[0m \u001b[0merr\u001b[0m\u001b[0;34m:\u001b[0m\u001b[0;34m\u001b[0m\u001b[0;34m\u001b[0m\u001b[0m\n",
            "\u001b[0;32mpandas/_libs/index.pyx\u001b[0m in \u001b[0;36mpandas._libs.index.IndexEngine.get_loc\u001b[0;34m()\u001b[0m\n",
            "\u001b[0;32mpandas/_libs/index.pyx\u001b[0m in \u001b[0;36mpandas._libs.index.IndexEngine.get_loc\u001b[0;34m()\u001b[0m\n",
            "\u001b[0;32mpandas/_libs/hashtable_class_helper.pxi\u001b[0m in \u001b[0;36mpandas._libs.hashtable.PyObjectHashTable.get_item\u001b[0;34m()\u001b[0m\n",
            "\u001b[0;32mpandas/_libs/hashtable_class_helper.pxi\u001b[0m in \u001b[0;36mpandas._libs.hashtable.PyObjectHashTable.get_item\u001b[0;34m()\u001b[0m\n",
            "\u001b[0;31mKeyError\u001b[0m: 'index'",
            "\nThe above exception was the direct cause of the following exception:\n",
            "\u001b[0;31mKeyError\u001b[0m                                  Traceback (most recent call last)",
            "\u001b[0;32m<ipython-input-43-cfadb275e1b6>\u001b[0m in \u001b[0;36m<module>\u001b[0;34m()\u001b[0m\n\u001b[1;32m      1\u001b[0m \u001b[0mh\u001b[0m \u001b[0;34m=\u001b[0m \u001b[0mpd\u001b[0m\u001b[0;34m.\u001b[0m\u001b[0mDataFrame\u001b[0m\u001b[0;34m(\u001b[0m\u001b[0mhistory\u001b[0m\u001b[0;34m.\u001b[0m\u001b[0mhistory\u001b[0m\u001b[0;34m)\u001b[0m\u001b[0;34m\u001b[0m\u001b[0;34m\u001b[0m\u001b[0m\n\u001b[0;32m----> 2\u001b[0;31m \u001b[0max\u001b[0m \u001b[0;34m=\u001b[0m \u001b[0mh\u001b[0m\u001b[0;34m.\u001b[0m\u001b[0mplot\u001b[0m\u001b[0;34m(\u001b[0m\u001b[0mx\u001b[0m\u001b[0;34m=\u001b[0m\u001b[0;34m\"index\"\u001b[0m\u001b[0;34m,\u001b[0m \u001b[0my\u001b[0m\u001b[0;34m=\u001b[0m\u001b[0;34m[\u001b[0m\u001b[0;34m\"loss\"\u001b[0m\u001b[0;34m,\u001b[0m \u001b[0;34m\"val_loss\"\u001b[0m\u001b[0;34m]\u001b[0m\u001b[0;34m)\u001b[0m\u001b[0;34m\u001b[0m\u001b[0;34m\u001b[0m\u001b[0m\n\u001b[0m\u001b[1;32m      3\u001b[0m \u001b[0max\u001b[0m\u001b[0;34m.\u001b[0m\u001b[0mset_ylabel\u001b[0m\u001b[0;34m(\u001b[0m\u001b[0;34m\"loss\"\u001b[0m\u001b[0;34m)\u001b[0m\u001b[0;34m\u001b[0m\u001b[0;34m\u001b[0m\u001b[0m\n\u001b[1;32m      4\u001b[0m \u001b[0max2\u001b[0m \u001b[0;34m=\u001b[0m \u001b[0max\u001b[0m\u001b[0;34m.\u001b[0m\u001b[0mtwinx\u001b[0m\u001b[0;34m(\u001b[0m\u001b[0;34m)\u001b[0m\u001b[0;34m\u001b[0m\u001b[0;34m\u001b[0m\u001b[0m\n\u001b[1;32m      5\u001b[0m \u001b[0max2\u001b[0m\u001b[0;34m.\u001b[0m\u001b[0mset_ylabel\u001b[0m\u001b[0;34m(\u001b[0m\u001b[0;34m\"acc\"\u001b[0m\u001b[0;34m)\u001b[0m\u001b[0;34m\u001b[0m\u001b[0;34m\u001b[0m\u001b[0m\n",
            "\u001b[0;32m/usr/local/lib/python3.6/dist-packages/pandas/plotting/_core.py\u001b[0m in \u001b[0;36m__call__\u001b[0;34m(self, *args, **kwargs)\u001b[0m\n\u001b[1;32m    912\u001b[0m                 \u001b[0;32mif\u001b[0m \u001b[0mis_integer\u001b[0m\u001b[0;34m(\u001b[0m\u001b[0mx\u001b[0m\u001b[0;34m)\u001b[0m \u001b[0;32mand\u001b[0m \u001b[0;32mnot\u001b[0m \u001b[0mdata\u001b[0m\u001b[0;34m.\u001b[0m\u001b[0mcolumns\u001b[0m\u001b[0;34m.\u001b[0m\u001b[0mholds_integer\u001b[0m\u001b[0;34m(\u001b[0m\u001b[0;34m)\u001b[0m\u001b[0;34m:\u001b[0m\u001b[0;34m\u001b[0m\u001b[0;34m\u001b[0m\u001b[0m\n\u001b[1;32m    913\u001b[0m                     \u001b[0mx\u001b[0m \u001b[0;34m=\u001b[0m \u001b[0mdata_cols\u001b[0m\u001b[0;34m[\u001b[0m\u001b[0mx\u001b[0m\u001b[0;34m]\u001b[0m\u001b[0;34m\u001b[0m\u001b[0;34m\u001b[0m\u001b[0m\n\u001b[0;32m--> 914\u001b[0;31m                 \u001b[0;32melif\u001b[0m \u001b[0;32mnot\u001b[0m \u001b[0misinstance\u001b[0m\u001b[0;34m(\u001b[0m\u001b[0mdata\u001b[0m\u001b[0;34m[\u001b[0m\u001b[0mx\u001b[0m\u001b[0;34m]\u001b[0m\u001b[0;34m,\u001b[0m \u001b[0mABCSeries\u001b[0m\u001b[0;34m)\u001b[0m\u001b[0;34m:\u001b[0m\u001b[0;34m\u001b[0m\u001b[0;34m\u001b[0m\u001b[0m\n\u001b[0m\u001b[1;32m    915\u001b[0m                     \u001b[0;32mraise\u001b[0m \u001b[0mValueError\u001b[0m\u001b[0;34m(\u001b[0m\u001b[0;34m\"x must be a label or position\"\u001b[0m\u001b[0;34m)\u001b[0m\u001b[0;34m\u001b[0m\u001b[0;34m\u001b[0m\u001b[0m\n\u001b[1;32m    916\u001b[0m                 \u001b[0mdata\u001b[0m \u001b[0;34m=\u001b[0m \u001b[0mdata\u001b[0m\u001b[0;34m.\u001b[0m\u001b[0mset_index\u001b[0m\u001b[0;34m(\u001b[0m\u001b[0mx\u001b[0m\u001b[0;34m)\u001b[0m\u001b[0;34m\u001b[0m\u001b[0;34m\u001b[0m\u001b[0m\n",
            "\u001b[0;32m/usr/local/lib/python3.6/dist-packages/pandas/core/frame.py\u001b[0m in \u001b[0;36m__getitem__\u001b[0;34m(self, key)\u001b[0m\n\u001b[1;32m   2904\u001b[0m             \u001b[0;32mif\u001b[0m \u001b[0mself\u001b[0m\u001b[0;34m.\u001b[0m\u001b[0mcolumns\u001b[0m\u001b[0;34m.\u001b[0m\u001b[0mnlevels\u001b[0m \u001b[0;34m>\u001b[0m \u001b[0;36m1\u001b[0m\u001b[0;34m:\u001b[0m\u001b[0;34m\u001b[0m\u001b[0;34m\u001b[0m\u001b[0m\n\u001b[1;32m   2905\u001b[0m                 \u001b[0;32mreturn\u001b[0m \u001b[0mself\u001b[0m\u001b[0;34m.\u001b[0m\u001b[0m_getitem_multilevel\u001b[0m\u001b[0;34m(\u001b[0m\u001b[0mkey\u001b[0m\u001b[0;34m)\u001b[0m\u001b[0;34m\u001b[0m\u001b[0;34m\u001b[0m\u001b[0m\n\u001b[0;32m-> 2906\u001b[0;31m             \u001b[0mindexer\u001b[0m \u001b[0;34m=\u001b[0m \u001b[0mself\u001b[0m\u001b[0;34m.\u001b[0m\u001b[0mcolumns\u001b[0m\u001b[0;34m.\u001b[0m\u001b[0mget_loc\u001b[0m\u001b[0;34m(\u001b[0m\u001b[0mkey\u001b[0m\u001b[0;34m)\u001b[0m\u001b[0;34m\u001b[0m\u001b[0;34m\u001b[0m\u001b[0m\n\u001b[0m\u001b[1;32m   2907\u001b[0m             \u001b[0;32mif\u001b[0m \u001b[0mis_integer\u001b[0m\u001b[0;34m(\u001b[0m\u001b[0mindexer\u001b[0m\u001b[0;34m)\u001b[0m\u001b[0;34m:\u001b[0m\u001b[0;34m\u001b[0m\u001b[0;34m\u001b[0m\u001b[0m\n\u001b[1;32m   2908\u001b[0m                 \u001b[0mindexer\u001b[0m \u001b[0;34m=\u001b[0m \u001b[0;34m[\u001b[0m\u001b[0mindexer\u001b[0m\u001b[0;34m]\u001b[0m\u001b[0;34m\u001b[0m\u001b[0;34m\u001b[0m\u001b[0m\n",
            "\u001b[0;32m/usr/local/lib/python3.6/dist-packages/pandas/core/indexes/base.py\u001b[0m in \u001b[0;36mget_loc\u001b[0;34m(self, key, method, tolerance)\u001b[0m\n\u001b[1;32m   2895\u001b[0m                 \u001b[0;32mreturn\u001b[0m \u001b[0mself\u001b[0m\u001b[0;34m.\u001b[0m\u001b[0m_engine\u001b[0m\u001b[0;34m.\u001b[0m\u001b[0mget_loc\u001b[0m\u001b[0;34m(\u001b[0m\u001b[0mcasted_key\u001b[0m\u001b[0;34m)\u001b[0m\u001b[0;34m\u001b[0m\u001b[0;34m\u001b[0m\u001b[0m\n\u001b[1;32m   2896\u001b[0m             \u001b[0;32mexcept\u001b[0m \u001b[0mKeyError\u001b[0m \u001b[0;32mas\u001b[0m \u001b[0merr\u001b[0m\u001b[0;34m:\u001b[0m\u001b[0;34m\u001b[0m\u001b[0;34m\u001b[0m\u001b[0m\n\u001b[0;32m-> 2897\u001b[0;31m                 \u001b[0;32mraise\u001b[0m \u001b[0mKeyError\u001b[0m\u001b[0;34m(\u001b[0m\u001b[0mkey\u001b[0m\u001b[0;34m)\u001b[0m \u001b[0;32mfrom\u001b[0m \u001b[0merr\u001b[0m\u001b[0;34m\u001b[0m\u001b[0;34m\u001b[0m\u001b[0m\n\u001b[0m\u001b[1;32m   2898\u001b[0m \u001b[0;34m\u001b[0m\u001b[0m\n\u001b[1;32m   2899\u001b[0m         \u001b[0;32mif\u001b[0m \u001b[0mtolerance\u001b[0m \u001b[0;32mis\u001b[0m \u001b[0;32mnot\u001b[0m \u001b[0;32mNone\u001b[0m\u001b[0;34m:\u001b[0m\u001b[0;34m\u001b[0m\u001b[0;34m\u001b[0m\u001b[0m\n",
            "\u001b[0;31mKeyError\u001b[0m: 'index'"
          ]
        }
      ]
    },
    {
      "cell_type": "code",
      "metadata": {
        "colab": {
          "base_uri": "https://localhost:8080/",
          "height": 264
        },
        "id": "rqChaPopBtWe",
        "outputId": "c9941783-1273-412f-cc4c-80c2d506b764"
      },
      "source": [
        "import matplotlib.pyplot as plt\n",
        "%matplotlib inline\n",
        "from keras.models import Sequential\n",
        "from keras.layers import Dense\n",
        "from keras.optimizers import Adam\n",
        "\n",
        "plt.figure(figsize=(5,4))\n",
        "plt.plot(history.history['loss'])\n",
        "plt.plot(history.history['val_loss'])\n",
        "# plt.plot(hist.history['acc'])\n",
        "# plt.plot(hist.history['val_acc'])\n",
        "plt.legend(['loss','val_loss', 'acc','val_acc'])\n",
        "plt.grid()\n",
        "plt.show()"
      ],
      "execution_count": 44,
      "outputs": [
        {
          "output_type": "display_data",
          "data": {
            "image/png": "[encoded data removed]",
            "text/plain": [
              "<Figure size 360x288 with 1 Axes>"
            ]
          },
          "metadata": {
            "tags": [],
            "needs_background": "light"
          }
        }
      ]
    },
    {
      "cell_type": "code",
      "metadata": {
        "id": "2LVNEzOwiEJ0",
        "colab": {
          "base_uri": "https://localhost:8080/",
          "height": 134
        },
        "outputId": "25d54cbc-840d-455b-a2f8-ceb65e7300ad"
      },
      "source": [
        ""
      ],
      "execution_count": null,
      "outputs": [
        {
          "output_type": "error",
          "ename": "IndentationError",
          "evalue": "ignored",
          "traceback": [
            "\u001b[0;36m  File \u001b[0;32m\"<ipython-input-63-fad75a6355be>\"\u001b[0;36m, line \u001b[0;32m10\u001b[0m\n\u001b[0;31m    ax_acc.plot(range(epochs), history['val_acc'], label='정확도(%)', color='darkred')\u001b[0m\n\u001b[0m    ^\u001b[0m\n\u001b[0;31mIndentationError\u001b[0m\u001b[0;31m:\u001b[0m unexpected indent\n"
          ]
        }
      ]
    },
    {
      "cell_type": "markdown",
      "metadata": {
        "id": "pamE0vz4hMHu"
      },
      "source": [
        "# 임의 경기 예측"
      ]
    },
    {
      "cell_type": "code",
      "metadata": {
        "id": "lQxZ_nuahLZ8"
      },
      "source": [
        "# 블루팀이 이긴 경기 데이터\n",
        "predictions = model.predict([[60243,41072,19,44218,37136,8,1]] )"
      ],
      "execution_count": 46,
      "outputs": []
    },
    {
      "cell_type": "code",
      "metadata": {
        "colab": {
          "base_uri": "https://localhost:8080/"
        },
        "id": "6imvQXZsh-Jr",
        "outputId": "a7ffb303-03e3-40c4-ce61-2073792f7a7e"
      },
      "source": [
        "predictions[0]"
      ],
      "execution_count": 47,
      "outputs": [
        {
          "output_type": "execute_result",
          "data": {
            "text/plain": [
              "array([0.99992985], dtype=float32)"
            ]
          },
          "metadata": {
            "tags": []
          },
          "execution_count": 47
        }
      ]
    },
    {
      "cell_type": "markdown",
      "metadata": {
        "id": "H803qW-MkTVQ"
      },
      "source": [
        "블루팀이 이겻을 것으로 예측 // 1에 가깝기 때문에"
      ]
    },
    {
      "cell_type": "code",
      "metadata": {
        "id": "pk_G2KqWRAi6",
        "colab": {
          "base_uri": "https://localhost:8080/"
        },
        "outputId": "626aab9d-a4b5-4300-954d-5e29a36fc935"
      },
      "source": [
        "!apt update\n",
        "!apt install texlive-xetex texlive-fonts-recommended texlive-generic-recommended\n",
        "import re, pathlib, shutil\n",
        "# Get a list of all your Notebooks\n",
        "notebooks = [x for x in pathlib.Path(\"/content/gdrive/MyDrive/Colab Notebooks\").iterdir() if \n",
        "             re.search(r\"aix.ipynb\", x.name, flags = re.I)]\n",
        "for i, n in enumerate(notebooks):\n",
        "    print(f\"\\nProcessing  [{i+1:{len(str(len(notebooks)))}d}/{len(notebooks)}]  {n.name}\\n\")\n",
        "    # Optionally copy your notebooks from gdrive to your vm\n",
        "    shutil.copy(n, n.name)\n",
        "    n = pathlib.Path(n.name)\n",
        "    !jupyter nbconvert \"{n.as_posix()}\" --to slides --output \"{n.stem.replace(\" \", \"_\")}\""
      ],
      "execution_count": null,
      "outputs": [
        {
          "output_type": "stream",
          "text": [
            "Hit:1 https://cloud.r-project.org/bin/linux/ubuntu bionic-cran40/ InRelease\n",
            "Ign:2 https://developer.download.nvidia.com/compute/cuda/repos/ubuntu1804/x86_64  InRelease\n",
            "Ign:3 https://developer.download.nvidia.com/compute/machine-learning/repos/ubuntu1804/x86_64  InRelease\n",
            "Hit:4 https://developer.download.nvidia.com/compute/cuda/repos/ubuntu1804/x86_64  Release\n",
            "Hit:5 https://developer.download.nvidia.com/compute/machine-learning/repos/ubuntu1804/x86_64  Release\n",
            "Get:6 http://security.ubuntu.com/ubuntu bionic-security InRelease [88.7 kB]\n",
            "Hit:8 http://archive.ubuntu.com/ubuntu bionic InRelease\n",
            "Hit:9 http://ppa.launchpad.net/c2d4u.team/c2d4u4.0+/ubuntu bionic InRelease\n",
            "Hit:11 http://archive.ubuntu.com/ubuntu bionic-updates InRelease\n",
            "Hit:12 http://archive.ubuntu.com/ubuntu bionic-backports InRelease\n",
            "Hit:13 http://ppa.launchpad.net/graphics-drivers/ppa/ubuntu bionic InRelease\n",
            "Fetched 88.7 kB in 2s (51.2 kB/s)\n",
            "Reading package lists... Done\n",
            "Building dependency tree       \n",
            "Reading state information... Done\n",
            "16 packages can be upgraded. Run 'apt list --upgradable' to see them.\n",
            "Reading package lists... Done\n",
            "Building dependency tree       \n",
            "Reading state information... Done\n",
            "texlive-fonts-recommended is already the newest version (2017.20180305-1).\n",
            "texlive-generic-recommended is already the newest version (2017.20180305-1).\n",
            "texlive-xetex is already the newest version (2017.20180305-1).\n",
            "0 upgraded, 0 newly installed, 0 to remove and 16 not upgraded.\n",
            "\n",
            "Processing  [1/2]  aix.ipynb의 사본\n",
            "\n",
            "[NbConvertApp] Converting notebook aix.ipynb의 사본 to slides\n",
            "[NbConvertApp] Writing 481009 bytes to aix.slides.html\n",
            "\n",
            "Processing  [2/2]  aix.ipynb\n",
            "\n",
            "[NbConvertApp] Converting notebook aix.ipynb to slides\n",
            "[NbConvertApp] Writing 499459 bytes to aix.slides.html\n"
          ],
          "name": "stdout"
        }
      ]
    }
  ]
}