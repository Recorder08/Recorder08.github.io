{
  "nbformat": 4,
  "nbformat_minor": 0,
  "metadata": {
    "colab": {
      "name": "aix.ipynb",
      "provenance": [],
      "collapsed_sections": [],
      "authorship_tag": "ABX9TyNh9M0lVD87IJqerV/oiDfh",
      "include_colab_link": true
    },
    "kernelspec": {
      "name": "python3",
      "display_name": "Python 3"
    },
    "accelerator": "GPU"
  },
  "cells": [
    {
      "cell_type": "markdown",
      "metadata": {
        "id": "view-in-github",
        "colab_type": "text"
      },
      "source": [
        "<a href=\"https://colab.research.google.com/github/Recorder08/Recorder08.github.io/blob/master/aix.ipynb\" target=\"_parent\"><img src=\"https://colab.research.google.com/assets/colab-badge.svg\" alt=\"Open In Colab\"/></a>"
      ]
    },
    {
      "cell_type": "code",
      "metadata": {
        "colab": {
          "base_uri": "https://localhost:8080/"
        },
        "id": "LoGQ8ECmhoGt",
        "outputId": "8778fe8b-7aa7-496c-ce8c-6e21ab707f8b"
      },
      "source": [
        "from google.colab import drive \n",
        "drive.mount('/content/gdrive/')"
      ],
      "execution_count": 1,
      "outputs": [
        {
          "output_type": "stream",
          "text": [
            "Mounted at /content/gdrive/\n"
          ],
          "name": "stdout"
        }
      ]
    },
    {
      "cell_type": "markdown",
      "metadata": {
        "id": "tQjk0CikZkPt"
      },
      "source": [
        "#데이터 준비 및 분석 단계"
      ]
    },
    {
      "cell_type": "code",
      "metadata": {
        "id": "zcJThY15iCkV"
      },
      "source": [
        "# 데이터 분석 준비 및 import\n",
        "\n",
        "import pandas as pd\n",
        "import numpy as np\n",
        "\n",
        "import matplotlib as mpl\n",
        "from matplotlib import pyplot as plt\n",
        "import matplotlib.font_manager as fm\n",
        "import seaborn as sns\n",
        "\n",
        "%matplotlib inline\n",
        "mpl.rcParams['axes.unicode_minus'] = False\n",
        "plt.style.use('seaborn-colorblind')\n",
        "\n",
        "from sklearn.pipeline import Pipeline\n",
        "from sklearn.model_selection import train_test_split\n",
        "from sklearn.preprocessing import StandardScaler\n",
        "from sklearn.linear_model import LogisticRegression\n",
        "from sklearn.metrics import classification_report"
      ],
      "execution_count": 2,
      "outputs": []
    },
    {
      "cell_type": "code",
      "metadata": {
        "id": "tEUjm-5piCmz"
      },
      "source": [
        "# 데이터 로딩\n",
        "challenger_df = pd.read_csv('/content/gdrive/MyDrive/Challenger_Ranked_Games.csv')"
      ],
      "execution_count": 3,
      "outputs": []
    },
    {
      "cell_type": "code",
      "metadata": {
        "colab": {
          "base_uri": "https://localhost:8080/"
        },
        "id": "EkInply-iCpM",
        "outputId": "6362b766-282f-4836-d1f5-46e3cccee60e"
      },
      "source": [
        "print(challenger_df.columns.values)"
      ],
      "execution_count": 4,
      "outputs": [
        {
          "output_type": "stream",
          "text": [
            "['gameId' 'gameDuraton' 'blueWins' 'blueFirstBlood' 'blueFirstTower'\n",
            " 'blueFirstBaron' 'blueFirstDragon' 'blueFirstInhibitor' 'blueDragonKills'\n",
            " 'blueBaronKills' 'blueTowerKills' 'blueInhibitorKills' 'blueWardPlaced'\n",
            " 'blueWardkills' 'blueKills' 'blueDeath' 'blueAssist'\n",
            " 'blueChampionDamageDealt' 'blueTotalGold' 'blueTotalMinionKills'\n",
            " 'blueTotalLevel' 'blueAvgLevel' 'blueJungleMinionKills'\n",
            " 'blueKillingSpree' 'blueTotalHeal' 'blueObjectDamageDealt' 'redWins'\n",
            " 'redFirstBlood' 'redFirstTower' 'redFirstBaron' 'redFirstDragon'\n",
            " 'redFirstInhibitor' 'redDragonKills' 'redBaronKills' 'redTowerKills'\n",
            " 'redInhibitorKills' 'redWardPlaced' 'redWardkills' 'redKills' 'redDeath'\n",
            " 'redAssist' 'redChampionDamageDealt' 'redTotalGold' 'redTotalMinionKills'\n",
            " 'redTotalLevel' 'redAvgLevel' 'redJungleMinionKills' 'redKillingSpree'\n",
            " 'redTotalHeal' 'redObjectDamageDealt']\n"
          ],
          "name": "stdout"
        }
      ]
    },
    {
      "cell_type": "code",
      "metadata": {
        "colab": {
          "base_uri": "https://localhost:8080/",
          "height": 217
        },
        "id": "hZK8MhEkiCrb",
        "outputId": "9e014029-0abb-483b-f82c-25692ebea4ce"
      },
      "source": [
        "# 데이터 미리보기\n",
        "challenger_df.head()"
      ],
      "execution_count": 5,
      "outputs": [
        {
          "output_type": "execute_result",
          "data": {
            "text/html": [
              "<div>\n",
              "<style scoped>\n",
              "    .dataframe tbody tr th:only-of-type {\n",
              "        vertical-align: middle;\n",
              "    }\n",
              "\n",
              "    .dataframe tbody tr th {\n",
              "        vertical-align: top;\n",
              "    }\n",
              "\n",
              "    .dataframe thead th {\n",
              "        text-align: right;\n",
              "    }\n",
              "</style>\n",
              "<table border=\"1\" class=\"dataframe\">\n",
              "  <thead>\n",
              "    <tr style=\"text-align: right;\">\n",
              "      <th></th>\n",
              "      <th>gameId</th>\n",
              "      <th>gameDuraton</th>\n",
              "      <th>blueWins</th>\n",
              "      <th>blueFirstBlood</th>\n",
              "      <th>blueFirstTower</th>\n",
              "      <th>blueFirstBaron</th>\n",
              "      <th>blueFirstDragon</th>\n",
              "      <th>blueFirstInhibitor</th>\n",
              "      <th>blueDragonKills</th>\n",
              "      <th>blueBaronKills</th>\n",
              "      <th>blueTowerKills</th>\n",
              "      <th>blueInhibitorKills</th>\n",
              "      <th>blueWardPlaced</th>\n",
              "      <th>blueWardkills</th>\n",
              "      <th>blueKills</th>\n",
              "      <th>blueDeath</th>\n",
              "      <th>blueAssist</th>\n",
              "      <th>blueChampionDamageDealt</th>\n",
              "      <th>blueTotalGold</th>\n",
              "      <th>blueTotalMinionKills</th>\n",
              "      <th>blueTotalLevel</th>\n",
              "      <th>blueAvgLevel</th>\n",
              "      <th>blueJungleMinionKills</th>\n",
              "      <th>blueKillingSpree</th>\n",
              "      <th>blueTotalHeal</th>\n",
              "      <th>blueObjectDamageDealt</th>\n",
              "      <th>redWins</th>\n",
              "      <th>redFirstBlood</th>\n",
              "      <th>redFirstTower</th>\n",
              "      <th>redFirstBaron</th>\n",
              "      <th>redFirstDragon</th>\n",
              "      <th>redFirstInhibitor</th>\n",
              "      <th>redDragonKills</th>\n",
              "      <th>redBaronKills</th>\n",
              "      <th>redTowerKills</th>\n",
              "      <th>redInhibitorKills</th>\n",
              "      <th>redWardPlaced</th>\n",
              "      <th>redWardkills</th>\n",
              "      <th>redKills</th>\n",
              "      <th>redDeath</th>\n",
              "      <th>redAssist</th>\n",
              "      <th>redChampionDamageDealt</th>\n",
              "      <th>redTotalGold</th>\n",
              "      <th>redTotalMinionKills</th>\n",
              "      <th>redTotalLevel</th>\n",
              "      <th>redAvgLevel</th>\n",
              "      <th>redJungleMinionKills</th>\n",
              "      <th>redKillingSpree</th>\n",
              "      <th>redTotalHeal</th>\n",
              "      <th>redObjectDamageDealt</th>\n",
              "    </tr>\n",
              "  </thead>\n",
              "  <tbody>\n",
              "    <tr>\n",
              "      <th>0</th>\n",
              "      <td>4247263043</td>\n",
              "      <td>1323</td>\n",
              "      <td>0</td>\n",
              "      <td>1</td>\n",
              "      <td>0</td>\n",
              "      <td>0</td>\n",
              "      <td>0</td>\n",
              "      <td>0</td>\n",
              "      <td>0</td>\n",
              "      <td>0</td>\n",
              "      <td>0</td>\n",
              "      <td>0</td>\n",
              "      <td>38</td>\n",
              "      <td>13</td>\n",
              "      <td>15</td>\n",
              "      <td>31</td>\n",
              "      <td>22</td>\n",
              "      <td>56039</td>\n",
              "      <td>37001</td>\n",
              "      <td>440</td>\n",
              "      <td>56</td>\n",
              "      <td>11.2</td>\n",
              "      <td>105</td>\n",
              "      <td>4</td>\n",
              "      <td>31035</td>\n",
              "      <td>5675</td>\n",
              "      <td>1</td>\n",
              "      <td>0</td>\n",
              "      <td>1</td>\n",
              "      <td>0</td>\n",
              "      <td>1</td>\n",
              "      <td>1</td>\n",
              "      <td>3</td>\n",
              "      <td>0</td>\n",
              "      <td>9</td>\n",
              "      <td>1</td>\n",
              "      <td>50</td>\n",
              "      <td>17</td>\n",
              "      <td>31</td>\n",
              "      <td>15</td>\n",
              "      <td>68</td>\n",
              "      <td>73016</td>\n",
              "      <td>49832</td>\n",
              "      <td>533</td>\n",
              "      <td>64</td>\n",
              "      <td>12.8</td>\n",
              "      <td>138</td>\n",
              "      <td>8</td>\n",
              "      <td>38711</td>\n",
              "      <td>60463</td>\n",
              "    </tr>\n",
              "    <tr>\n",
              "      <th>1</th>\n",
              "      <td>4247155821</td>\n",
              "      <td>1317</td>\n",
              "      <td>1</td>\n",
              "      <td>0</td>\n",
              "      <td>0</td>\n",
              "      <td>0</td>\n",
              "      <td>1</td>\n",
              "      <td>0</td>\n",
              "      <td>2</td>\n",
              "      <td>0</td>\n",
              "      <td>4</td>\n",
              "      <td>0</td>\n",
              "      <td>57</td>\n",
              "      <td>18</td>\n",
              "      <td>19</td>\n",
              "      <td>8</td>\n",
              "      <td>31</td>\n",
              "      <td>60243</td>\n",
              "      <td>41072</td>\n",
              "      <td>531</td>\n",
              "      <td>63</td>\n",
              "      <td>12.6</td>\n",
              "      <td>111</td>\n",
              "      <td>3</td>\n",
              "      <td>26397</td>\n",
              "      <td>45303</td>\n",
              "      <td>0</td>\n",
              "      <td>1</td>\n",
              "      <td>1</td>\n",
              "      <td>0</td>\n",
              "      <td>0</td>\n",
              "      <td>0</td>\n",
              "      <td>0</td>\n",
              "      <td>0</td>\n",
              "      <td>2</td>\n",
              "      <td>0</td>\n",
              "      <td>46</td>\n",
              "      <td>18</td>\n",
              "      <td>8</td>\n",
              "      <td>19</td>\n",
              "      <td>8</td>\n",
              "      <td>44218</td>\n",
              "      <td>37136</td>\n",
              "      <td>571</td>\n",
              "      <td>59</td>\n",
              "      <td>11.8</td>\n",
              "      <td>134</td>\n",
              "      <td>3</td>\n",
              "      <td>24829</td>\n",
              "      <td>14105</td>\n",
              "    </tr>\n",
              "    <tr>\n",
              "      <th>2</th>\n",
              "      <td>4243963257</td>\n",
              "      <td>932</td>\n",
              "      <td>0</td>\n",
              "      <td>0</td>\n",
              "      <td>0</td>\n",
              "      <td>0</td>\n",
              "      <td>0</td>\n",
              "      <td>0</td>\n",
              "      <td>0</td>\n",
              "      <td>0</td>\n",
              "      <td>0</td>\n",
              "      <td>0</td>\n",
              "      <td>28</td>\n",
              "      <td>7</td>\n",
              "      <td>5</td>\n",
              "      <td>20</td>\n",
              "      <td>8</td>\n",
              "      <td>24014</td>\n",
              "      <td>22929</td>\n",
              "      <td>306</td>\n",
              "      <td>42</td>\n",
              "      <td>8.4</td>\n",
              "      <td>64</td>\n",
              "      <td>0</td>\n",
              "      <td>6567</td>\n",
              "      <td>5651</td>\n",
              "      <td>1</td>\n",
              "      <td>1</td>\n",
              "      <td>1</td>\n",
              "      <td>0</td>\n",
              "      <td>1</td>\n",
              "      <td>1</td>\n",
              "      <td>2</td>\n",
              "      <td>0</td>\n",
              "      <td>5</td>\n",
              "      <td>1</td>\n",
              "      <td>40</td>\n",
              "      <td>9</td>\n",
              "      <td>20</td>\n",
              "      <td>5</td>\n",
              "      <td>20</td>\n",
              "      <td>30797</td>\n",
              "      <td>35364</td>\n",
              "      <td>400</td>\n",
              "      <td>50</td>\n",
              "      <td>10.0</td>\n",
              "      <td>89</td>\n",
              "      <td>5</td>\n",
              "      <td>12589</td>\n",
              "      <td>45201</td>\n",
              "    </tr>\n",
              "    <tr>\n",
              "      <th>3</th>\n",
              "      <td>4241678498</td>\n",
              "      <td>2098</td>\n",
              "      <td>0</td>\n",
              "      <td>0</td>\n",
              "      <td>0</td>\n",
              "      <td>1</td>\n",
              "      <td>1</td>\n",
              "      <td>0</td>\n",
              "      <td>1</td>\n",
              "      <td>1</td>\n",
              "      <td>2</td>\n",
              "      <td>0</td>\n",
              "      <td>129</td>\n",
              "      <td>39</td>\n",
              "      <td>26</td>\n",
              "      <td>36</td>\n",
              "      <td>45</td>\n",
              "      <td>101607</td>\n",
              "      <td>63447</td>\n",
              "      <td>774</td>\n",
              "      <td>80</td>\n",
              "      <td>16.0</td>\n",
              "      <td>226</td>\n",
              "      <td>3</td>\n",
              "      <td>24718</td>\n",
              "      <td>31019</td>\n",
              "      <td>1</td>\n",
              "      <td>1</td>\n",
              "      <td>1</td>\n",
              "      <td>0</td>\n",
              "      <td>0</td>\n",
              "      <td>0</td>\n",
              "      <td>3</td>\n",
              "      <td>1</td>\n",
              "      <td>6</td>\n",
              "      <td>0</td>\n",
              "      <td>96</td>\n",
              "      <td>56</td>\n",
              "      <td>36</td>\n",
              "      <td>26</td>\n",
              "      <td>72</td>\n",
              "      <td>125866</td>\n",
              "      <td>70528</td>\n",
              "      <td>832</td>\n",
              "      <td>84</td>\n",
              "      <td>16.8</td>\n",
              "      <td>205</td>\n",
              "      <td>9</td>\n",
              "      <td>65312</td>\n",
              "      <td>88202</td>\n",
              "    </tr>\n",
              "    <tr>\n",
              "      <th>4</th>\n",
              "      <td>4241538868</td>\n",
              "      <td>2344</td>\n",
              "      <td>1</td>\n",
              "      <td>1</td>\n",
              "      <td>1</td>\n",
              "      <td>1</td>\n",
              "      <td>1</td>\n",
              "      <td>1</td>\n",
              "      <td>2</td>\n",
              "      <td>2</td>\n",
              "      <td>11</td>\n",
              "      <td>3</td>\n",
              "      <td>114</td>\n",
              "      <td>35</td>\n",
              "      <td>27</td>\n",
              "      <td>40</td>\n",
              "      <td>47</td>\n",
              "      <td>134826</td>\n",
              "      <td>74955</td>\n",
              "      <td>831</td>\n",
              "      <td>83</td>\n",
              "      <td>16.6</td>\n",
              "      <td>252</td>\n",
              "      <td>5</td>\n",
              "      <td>37161</td>\n",
              "      <td>95287</td>\n",
              "      <td>0</td>\n",
              "      <td>0</td>\n",
              "      <td>0</td>\n",
              "      <td>0</td>\n",
              "      <td>0</td>\n",
              "      <td>0</td>\n",
              "      <td>3</td>\n",
              "      <td>1</td>\n",
              "      <td>6</td>\n",
              "      <td>1</td>\n",
              "      <td>100</td>\n",
              "      <td>43</td>\n",
              "      <td>40</td>\n",
              "      <td>27</td>\n",
              "      <td>83</td>\n",
              "      <td>131536</td>\n",
              "      <td>74596</td>\n",
              "      <td>794</td>\n",
              "      <td>85</td>\n",
              "      <td>17.0</td>\n",
              "      <td>227</td>\n",
              "      <td>7</td>\n",
              "      <td>86431</td>\n",
              "      <td>64141</td>\n",
              "    </tr>\n",
              "  </tbody>\n",
              "</table>\n",
              "</div>"
            ],
            "text/plain": [
              "       gameId  gameDuraton  ...  redTotalHeal  redObjectDamageDealt\n",
              "0  4247263043         1323  ...         38711                 60463\n",
              "1  4247155821         1317  ...         24829                 14105\n",
              "2  4243963257          932  ...         12589                 45201\n",
              "3  4241678498         2098  ...         65312                 88202\n",
              "4  4241538868         2344  ...         86431                 64141\n",
              "\n",
              "[5 rows x 50 columns]"
            ]
          },
          "metadata": {
            "tags": []
          },
          "execution_count": 5
        }
      ]
    },
    {
      "cell_type": "code",
      "metadata": {
        "colab": {
          "base_uri": "https://localhost:8080/"
        },
        "id": "3_G163hviCth",
        "outputId": "92618cf4-f492-491d-ba0d-29c77ed68ce7"
      },
      "source": [
        "challenger_df.info() "
      ],
      "execution_count": 6,
      "outputs": [
        {
          "output_type": "stream",
          "text": [
            "<class 'pandas.core.frame.DataFrame'>\n",
            "RangeIndex: 26904 entries, 0 to 26903\n",
            "Data columns (total 50 columns):\n",
            " #   Column                   Non-Null Count  Dtype  \n",
            "---  ------                   --------------  -----  \n",
            " 0   gameId                   26904 non-null  int64  \n",
            " 1   gameDuraton              26904 non-null  int64  \n",
            " 2   blueWins                 26904 non-null  int64  \n",
            " 3   blueFirstBlood           26904 non-null  int64  \n",
            " 4   blueFirstTower           26904 non-null  int64  \n",
            " 5   blueFirstBaron           26904 non-null  int64  \n",
            " 6   blueFirstDragon          26904 non-null  int64  \n",
            " 7   blueFirstInhibitor       26904 non-null  int64  \n",
            " 8   blueDragonKills          26904 non-null  int64  \n",
            " 9   blueBaronKills           26904 non-null  int64  \n",
            " 10  blueTowerKills           26904 non-null  int64  \n",
            " 11  blueInhibitorKills       26904 non-null  int64  \n",
            " 12  blueWardPlaced           26904 non-null  int64  \n",
            " 13  blueWardkills            26904 non-null  int64  \n",
            " 14  blueKills                26904 non-null  int64  \n",
            " 15  blueDeath                26904 non-null  int64  \n",
            " 16  blueAssist               26904 non-null  int64  \n",
            " 17  blueChampionDamageDealt  26904 non-null  int64  \n",
            " 18  blueTotalGold            26904 non-null  int64  \n",
            " 19  blueTotalMinionKills     26904 non-null  int64  \n",
            " 20  blueTotalLevel           26904 non-null  int64  \n",
            " 21  blueAvgLevel             26904 non-null  float64\n",
            " 22  blueJungleMinionKills    26904 non-null  int64  \n",
            " 23  blueKillingSpree         26904 non-null  int64  \n",
            " 24  blueTotalHeal            26904 non-null  int64  \n",
            " 25  blueObjectDamageDealt    26904 non-null  int64  \n",
            " 26  redWins                  26904 non-null  int64  \n",
            " 27  redFirstBlood            26904 non-null  int64  \n",
            " 28  redFirstTower            26904 non-null  int64  \n",
            " 29  redFirstBaron            26904 non-null  int64  \n",
            " 30  redFirstDragon           26904 non-null  int64  \n",
            " 31  redFirstInhibitor        26904 non-null  int64  \n",
            " 32  redDragonKills           26904 non-null  int64  \n",
            " 33  redBaronKills            26904 non-null  int64  \n",
            " 34  redTowerKills            26904 non-null  int64  \n",
            " 35  redInhibitorKills        26904 non-null  int64  \n",
            " 36  redWardPlaced            26904 non-null  int64  \n",
            " 37  redWardkills             26904 non-null  int64  \n",
            " 38  redKills                 26904 non-null  int64  \n",
            " 39  redDeath                 26904 non-null  int64  \n",
            " 40  redAssist                26904 non-null  int64  \n",
            " 41  redChampionDamageDealt   26904 non-null  int64  \n",
            " 42  redTotalGold             26904 non-null  int64  \n",
            " 43  redTotalMinionKills      26904 non-null  int64  \n",
            " 44  redTotalLevel            26904 non-null  int64  \n",
            " 45  redAvgLevel              26904 non-null  float64\n",
            " 46  redJungleMinionKills     26904 non-null  int64  \n",
            " 47  redKillingSpree          26904 non-null  int64  \n",
            " 48  redTotalHeal             26904 non-null  int64  \n",
            " 49  redObjectDamageDealt     26904 non-null  int64  \n",
            "dtypes: float64(2), int64(48)\n",
            "memory usage: 10.3 MB\n"
          ],
          "name": "stdout"
        }
      ]
    },
    {
      "cell_type": "code",
      "metadata": {
        "colab": {
          "base_uri": "https://localhost:8080/",
          "height": 307
        },
        "id": "HTW98PjUiCv9",
        "outputId": "09e49c17-b2b0-4c5d-b090-733058d63625"
      },
      "source": [
        "challenger_df.describe()"
      ],
      "execution_count": 7,
      "outputs": [
        {
          "output_type": "execute_result",
          "data": {
            "text/html": [
              "<div>\n",
              "<style scoped>\n",
              "    .dataframe tbody tr th:only-of-type {\n",
              "        vertical-align: middle;\n",
              "    }\n",
              "\n",
              "    .dataframe tbody tr th {\n",
              "        vertical-align: top;\n",
              "    }\n",
              "\n",
              "    .dataframe thead th {\n",
              "        text-align: right;\n",
              "    }\n",
              "</style>\n",
              "<table border=\"1\" class=\"dataframe\">\n",
              "  <thead>\n",
              "    <tr style=\"text-align: right;\">\n",
              "      <th></th>\n",
              "      <th>gameId</th>\n",
              "      <th>gameDuraton</th>\n",
              "      <th>blueWins</th>\n",
              "      <th>blueFirstBlood</th>\n",
              "      <th>blueFirstTower</th>\n",
              "      <th>blueFirstBaron</th>\n",
              "      <th>blueFirstDragon</th>\n",
              "      <th>blueFirstInhibitor</th>\n",
              "      <th>blueDragonKills</th>\n",
              "      <th>blueBaronKills</th>\n",
              "      <th>blueTowerKills</th>\n",
              "      <th>blueInhibitorKills</th>\n",
              "      <th>blueWardPlaced</th>\n",
              "      <th>blueWardkills</th>\n",
              "      <th>blueKills</th>\n",
              "      <th>blueDeath</th>\n",
              "      <th>blueAssist</th>\n",
              "      <th>blueChampionDamageDealt</th>\n",
              "      <th>blueTotalGold</th>\n",
              "      <th>blueTotalMinionKills</th>\n",
              "      <th>blueTotalLevel</th>\n",
              "      <th>blueAvgLevel</th>\n",
              "      <th>blueJungleMinionKills</th>\n",
              "      <th>blueKillingSpree</th>\n",
              "      <th>blueTotalHeal</th>\n",
              "      <th>blueObjectDamageDealt</th>\n",
              "      <th>redWins</th>\n",
              "      <th>redFirstBlood</th>\n",
              "      <th>redFirstTower</th>\n",
              "      <th>redFirstBaron</th>\n",
              "      <th>redFirstDragon</th>\n",
              "      <th>redFirstInhibitor</th>\n",
              "      <th>redDragonKills</th>\n",
              "      <th>redBaronKills</th>\n",
              "      <th>redTowerKills</th>\n",
              "      <th>redInhibitorKills</th>\n",
              "      <th>redWardPlaced</th>\n",
              "      <th>redWardkills</th>\n",
              "      <th>redKills</th>\n",
              "      <th>redDeath</th>\n",
              "      <th>redAssist</th>\n",
              "      <th>redChampionDamageDealt</th>\n",
              "      <th>redTotalGold</th>\n",
              "      <th>redTotalMinionKills</th>\n",
              "      <th>redTotalLevel</th>\n",
              "      <th>redAvgLevel</th>\n",
              "      <th>redJungleMinionKills</th>\n",
              "      <th>redKillingSpree</th>\n",
              "      <th>redTotalHeal</th>\n",
              "      <th>redObjectDamageDealt</th>\n",
              "    </tr>\n",
              "  </thead>\n",
              "  <tbody>\n",
              "    <tr>\n",
              "      <th>count</th>\n",
              "      <td>2.690400e+04</td>\n",
              "      <td>26904.000000</td>\n",
              "      <td>26904.000000</td>\n",
              "      <td>26904.000000</td>\n",
              "      <td>26904.000000</td>\n",
              "      <td>26904.000000</td>\n",
              "      <td>26904.000000</td>\n",
              "      <td>26904.000000</td>\n",
              "      <td>26904.000000</td>\n",
              "      <td>26904.000000</td>\n",
              "      <td>26904.000000</td>\n",
              "      <td>26904.000000</td>\n",
              "      <td>26904.000000</td>\n",
              "      <td>26904.000000</td>\n",
              "      <td>26904.000000</td>\n",
              "      <td>26904.000000</td>\n",
              "      <td>26904.000000</td>\n",
              "      <td>26904.000000</td>\n",
              "      <td>26904.000000</td>\n",
              "      <td>26904.000000</td>\n",
              "      <td>26904.000000</td>\n",
              "      <td>26904.000000</td>\n",
              "      <td>26904.000000</td>\n",
              "      <td>26904.000000</td>\n",
              "      <td>26904.000000</td>\n",
              "      <td>26904.000000</td>\n",
              "      <td>26904.000000</td>\n",
              "      <td>26904.000000</td>\n",
              "      <td>26904.000000</td>\n",
              "      <td>26904.000000</td>\n",
              "      <td>26904.000000</td>\n",
              "      <td>26904.000000</td>\n",
              "      <td>26904.000000</td>\n",
              "      <td>26904.000000</td>\n",
              "      <td>26904.000000</td>\n",
              "      <td>26904.000000</td>\n",
              "      <td>26904.000000</td>\n",
              "      <td>26904.000000</td>\n",
              "      <td>26904.000000</td>\n",
              "      <td>26904.000000</td>\n",
              "      <td>26904.000000</td>\n",
              "      <td>26904.000000</td>\n",
              "      <td>26904.000000</td>\n",
              "      <td>26904.000000</td>\n",
              "      <td>26904.000000</td>\n",
              "      <td>26904.000000</td>\n",
              "      <td>26904.000000</td>\n",
              "      <td>26904.000000</td>\n",
              "      <td>26904.000000</td>\n",
              "      <td>26904.000000</td>\n",
              "    </tr>\n",
              "    <tr>\n",
              "      <th>mean</th>\n",
              "      <td>4.171927e+09</td>\n",
              "      <td>1448.653657</td>\n",
              "      <td>0.500074</td>\n",
              "      <td>0.503531</td>\n",
              "      <td>0.525610</td>\n",
              "      <td>0.244090</td>\n",
              "      <td>0.406334</td>\n",
              "      <td>0.367120</td>\n",
              "      <td>1.389719</td>\n",
              "      <td>0.307018</td>\n",
              "      <td>4.397562</td>\n",
              "      <td>0.619871</td>\n",
              "      <td>58.640351</td>\n",
              "      <td>22.330137</td>\n",
              "      <td>24.189414</td>\n",
              "      <td>24.180568</td>\n",
              "      <td>39.986396</td>\n",
              "      <td>69746.341882</td>\n",
              "      <td>48169.129906</td>\n",
              "      <td>520.446588</td>\n",
              "      <td>65.024234</td>\n",
              "      <td>13.004847</td>\n",
              "      <td>129.586939</td>\n",
              "      <td>5.554193</td>\n",
              "      <td>25050.636225</td>\n",
              "      <td>38393.883066</td>\n",
              "      <td>0.499926</td>\n",
              "      <td>0.494462</td>\n",
              "      <td>0.462719</td>\n",
              "      <td>0.266615</td>\n",
              "      <td>0.503531</td>\n",
              "      <td>0.348536</td>\n",
              "      <td>1.563857</td>\n",
              "      <td>0.336307</td>\n",
              "      <td>4.255910</td>\n",
              "      <td>0.584932</td>\n",
              "      <td>58.832255</td>\n",
              "      <td>21.912095</td>\n",
              "      <td>24.101175</td>\n",
              "      <td>24.268585</td>\n",
              "      <td>39.800736</td>\n",
              "      <td>69528.259441</td>\n",
              "      <td>48207.976398</td>\n",
              "      <td>526.337682</td>\n",
              "      <td>65.213165</td>\n",
              "      <td>13.042633</td>\n",
              "      <td>130.468704</td>\n",
              "      <td>5.541704</td>\n",
              "      <td>25505.503085</td>\n",
              "      <td>37648.115336</td>\n",
              "    </tr>\n",
              "    <tr>\n",
              "      <th>std</th>\n",
              "      <td>7.479506e+07</td>\n",
              "      <td>422.577288</td>\n",
              "      <td>0.500009</td>\n",
              "      <td>0.499997</td>\n",
              "      <td>0.499353</td>\n",
              "      <td>0.429554</td>\n",
              "      <td>0.491157</td>\n",
              "      <td>0.482029</td>\n",
              "      <td>1.247393</td>\n",
              "      <td>0.537140</td>\n",
              "      <td>3.327761</td>\n",
              "      <td>0.901444</td>\n",
              "      <td>31.351606</td>\n",
              "      <td>15.502273</td>\n",
              "      <td>12.954288</td>\n",
              "      <td>13.042858</td>\n",
              "      <td>27.770103</td>\n",
              "      <td>35763.374883</td>\n",
              "      <td>15476.235577</td>\n",
              "      <td>175.971130</td>\n",
              "      <td>14.062380</td>\n",
              "      <td>2.812476</td>\n",
              "      <td>64.662998</td>\n",
              "      <td>3.493384</td>\n",
              "      <td>15112.644802</td>\n",
              "      <td>26335.664719</td>\n",
              "      <td>0.500009</td>\n",
              "      <td>0.499979</td>\n",
              "      <td>0.498617</td>\n",
              "      <td>0.442197</td>\n",
              "      <td>0.499997</td>\n",
              "      <td>0.476515</td>\n",
              "      <td>1.299117</td>\n",
              "      <td>0.559479</td>\n",
              "      <td>3.325612</td>\n",
              "      <td>0.870919</td>\n",
              "      <td>31.621680</td>\n",
              "      <td>15.275608</td>\n",
              "      <td>13.024843</td>\n",
              "      <td>12.972992</td>\n",
              "      <td>27.722135</td>\n",
              "      <td>35866.105905</td>\n",
              "      <td>15627.093121</td>\n",
              "      <td>178.994313</td>\n",
              "      <td>14.105689</td>\n",
              "      <td>2.821138</td>\n",
              "      <td>64.618529</td>\n",
              "      <td>3.494662</td>\n",
              "      <td>15330.689295</td>\n",
              "      <td>26509.187910</td>\n",
              "    </tr>\n",
              "    <tr>\n",
              "      <th>min</th>\n",
              "      <td>3.482433e+09</td>\n",
              "      <td>190.000000</td>\n",
              "      <td>0.000000</td>\n",
              "      <td>0.000000</td>\n",
              "      <td>0.000000</td>\n",
              "      <td>0.000000</td>\n",
              "      <td>0.000000</td>\n",
              "      <td>0.000000</td>\n",
              "      <td>0.000000</td>\n",
              "      <td>0.000000</td>\n",
              "      <td>0.000000</td>\n",
              "      <td>0.000000</td>\n",
              "      <td>0.000000</td>\n",
              "      <td>0.000000</td>\n",
              "      <td>0.000000</td>\n",
              "      <td>0.000000</td>\n",
              "      <td>0.000000</td>\n",
              "      <td>0.000000</td>\n",
              "      <td>3704.000000</td>\n",
              "      <td>0.000000</td>\n",
              "      <td>5.000000</td>\n",
              "      <td>1.000000</td>\n",
              "      <td>0.000000</td>\n",
              "      <td>0.000000</td>\n",
              "      <td>0.000000</td>\n",
              "      <td>0.000000</td>\n",
              "      <td>0.000000</td>\n",
              "      <td>0.000000</td>\n",
              "      <td>0.000000</td>\n",
              "      <td>0.000000</td>\n",
              "      <td>0.000000</td>\n",
              "      <td>0.000000</td>\n",
              "      <td>0.000000</td>\n",
              "      <td>0.000000</td>\n",
              "      <td>0.000000</td>\n",
              "      <td>0.000000</td>\n",
              "      <td>0.000000</td>\n",
              "      <td>0.000000</td>\n",
              "      <td>0.000000</td>\n",
              "      <td>0.000000</td>\n",
              "      <td>0.000000</td>\n",
              "      <td>0.000000</td>\n",
              "      <td>3340.000000</td>\n",
              "      <td>0.000000</td>\n",
              "      <td>5.000000</td>\n",
              "      <td>1.000000</td>\n",
              "      <td>0.000000</td>\n",
              "      <td>0.000000</td>\n",
              "      <td>0.000000</td>\n",
              "      <td>0.000000</td>\n",
              "    </tr>\n",
              "    <tr>\n",
              "      <th>25%</th>\n",
              "      <td>4.142427e+09</td>\n",
              "      <td>1152.000000</td>\n",
              "      <td>0.000000</td>\n",
              "      <td>0.000000</td>\n",
              "      <td>0.000000</td>\n",
              "      <td>0.000000</td>\n",
              "      <td>0.000000</td>\n",
              "      <td>0.000000</td>\n",
              "      <td>0.000000</td>\n",
              "      <td>0.000000</td>\n",
              "      <td>1.000000</td>\n",
              "      <td>0.000000</td>\n",
              "      <td>38.000000</td>\n",
              "      <td>11.000000</td>\n",
              "      <td>15.000000</td>\n",
              "      <td>15.000000</td>\n",
              "      <td>20.000000</td>\n",
              "      <td>43205.250000</td>\n",
              "      <td>37191.000000</td>\n",
              "      <td>409.000000</td>\n",
              "      <td>56.000000</td>\n",
              "      <td>11.200000</td>\n",
              "      <td>90.000000</td>\n",
              "      <td>3.000000</td>\n",
              "      <td>14105.500000</td>\n",
              "      <td>15608.000000</td>\n",
              "      <td>0.000000</td>\n",
              "      <td>0.000000</td>\n",
              "      <td>0.000000</td>\n",
              "      <td>0.000000</td>\n",
              "      <td>0.000000</td>\n",
              "      <td>0.000000</td>\n",
              "      <td>0.000000</td>\n",
              "      <td>0.000000</td>\n",
              "      <td>1.000000</td>\n",
              "      <td>0.000000</td>\n",
              "      <td>38.000000</td>\n",
              "      <td>10.000000</td>\n",
              "      <td>15.000000</td>\n",
              "      <td>15.000000</td>\n",
              "      <td>20.000000</td>\n",
              "      <td>43068.250000</td>\n",
              "      <td>37127.250000</td>\n",
              "      <td>412.000000</td>\n",
              "      <td>56.000000</td>\n",
              "      <td>11.200000</td>\n",
              "      <td>91.000000</td>\n",
              "      <td>3.000000</td>\n",
              "      <td>14499.750000</td>\n",
              "      <td>14454.000000</td>\n",
              "    </tr>\n",
              "    <tr>\n",
              "      <th>50%</th>\n",
              "      <td>4.190657e+09</td>\n",
              "      <td>1435.000000</td>\n",
              "      <td>1.000000</td>\n",
              "      <td>1.000000</td>\n",
              "      <td>1.000000</td>\n",
              "      <td>0.000000</td>\n",
              "      <td>0.000000</td>\n",
              "      <td>0.000000</td>\n",
              "      <td>1.000000</td>\n",
              "      <td>0.000000</td>\n",
              "      <td>4.000000</td>\n",
              "      <td>0.000000</td>\n",
              "      <td>58.000000</td>\n",
              "      <td>21.000000</td>\n",
              "      <td>23.000000</td>\n",
              "      <td>23.000000</td>\n",
              "      <td>36.000000</td>\n",
              "      <td>65013.000000</td>\n",
              "      <td>48104.000000</td>\n",
              "      <td>534.000000</td>\n",
              "      <td>66.000000</td>\n",
              "      <td>13.200000</td>\n",
              "      <td>131.000000</td>\n",
              "      <td>5.000000</td>\n",
              "      <td>21990.000000</td>\n",
              "      <td>34940.500000</td>\n",
              "      <td>0.000000</td>\n",
              "      <td>0.000000</td>\n",
              "      <td>0.000000</td>\n",
              "      <td>0.000000</td>\n",
              "      <td>1.000000</td>\n",
              "      <td>0.000000</td>\n",
              "      <td>1.000000</td>\n",
              "      <td>0.000000</td>\n",
              "      <td>4.000000</td>\n",
              "      <td>0.000000</td>\n",
              "      <td>58.000000</td>\n",
              "      <td>20.000000</td>\n",
              "      <td>23.000000</td>\n",
              "      <td>23.000000</td>\n",
              "      <td>35.000000</td>\n",
              "      <td>64655.000000</td>\n",
              "      <td>48037.000000</td>\n",
              "      <td>541.000000</td>\n",
              "      <td>66.000000</td>\n",
              "      <td>13.200000</td>\n",
              "      <td>132.000000</td>\n",
              "      <td>5.000000</td>\n",
              "      <td>22377.000000</td>\n",
              "      <td>33385.000000</td>\n",
              "    </tr>\n",
              "    <tr>\n",
              "      <th>75%</th>\n",
              "      <td>4.219650e+09</td>\n",
              "      <td>1738.000000</td>\n",
              "      <td>1.000000</td>\n",
              "      <td>1.000000</td>\n",
              "      <td>1.000000</td>\n",
              "      <td>0.000000</td>\n",
              "      <td>1.000000</td>\n",
              "      <td>1.000000</td>\n",
              "      <td>2.000000</td>\n",
              "      <td>1.000000</td>\n",
              "      <td>7.000000</td>\n",
              "      <td>1.000000</td>\n",
              "      <td>79.000000</td>\n",
              "      <td>32.000000</td>\n",
              "      <td>32.000000</td>\n",
              "      <td>32.000000</td>\n",
              "      <td>53.000000</td>\n",
              "      <td>90159.500000</td>\n",
              "      <td>58656.500000</td>\n",
              "      <td>639.000000</td>\n",
              "      <td>75.000000</td>\n",
              "      <td>15.000000</td>\n",
              "      <td>173.000000</td>\n",
              "      <td>7.000000</td>\n",
              "      <td>32725.750000</td>\n",
              "      <td>57829.250000</td>\n",
              "      <td>1.000000</td>\n",
              "      <td>1.000000</td>\n",
              "      <td>1.000000</td>\n",
              "      <td>1.000000</td>\n",
              "      <td>1.000000</td>\n",
              "      <td>1.000000</td>\n",
              "      <td>3.000000</td>\n",
              "      <td>1.000000</td>\n",
              "      <td>7.000000</td>\n",
              "      <td>1.000000</td>\n",
              "      <td>79.000000</td>\n",
              "      <td>31.000000</td>\n",
              "      <td>32.000000</td>\n",
              "      <td>32.000000</td>\n",
              "      <td>53.000000</td>\n",
              "      <td>89811.750000</td>\n",
              "      <td>58719.250000</td>\n",
              "      <td>648.000000</td>\n",
              "      <td>75.000000</td>\n",
              "      <td>15.000000</td>\n",
              "      <td>174.000000</td>\n",
              "      <td>7.000000</td>\n",
              "      <td>33217.250000</td>\n",
              "      <td>57690.000000</td>\n",
              "    </tr>\n",
              "    <tr>\n",
              "      <th>max</th>\n",
              "      <td>4.261026e+09</td>\n",
              "      <td>3301.000000</td>\n",
              "      <td>1.000000</td>\n",
              "      <td>1.000000</td>\n",
              "      <td>1.000000</td>\n",
              "      <td>1.000000</td>\n",
              "      <td>1.000000</td>\n",
              "      <td>1.000000</td>\n",
              "      <td>7.000000</td>\n",
              "      <td>4.000000</td>\n",
              "      <td>11.000000</td>\n",
              "      <td>9.000000</td>\n",
              "      <td>230.000000</td>\n",
              "      <td>109.000000</td>\n",
              "      <td>99.000000</td>\n",
              "      <td>102.000000</td>\n",
              "      <td>238.000000</td>\n",
              "      <td>333957.000000</td>\n",
              "      <td>121920.000000</td>\n",
              "      <td>1267.000000</td>\n",
              "      <td>132.000000</td>\n",
              "      <td>26.400000</td>\n",
              "      <td>402.000000</td>\n",
              "      <td>29.000000</td>\n",
              "      <td>162442.000000</td>\n",
              "      <td>167692.000000</td>\n",
              "      <td>1.000000</td>\n",
              "      <td>1.000000</td>\n",
              "      <td>1.000000</td>\n",
              "      <td>1.000000</td>\n",
              "      <td>1.000000</td>\n",
              "      <td>1.000000</td>\n",
              "      <td>6.000000</td>\n",
              "      <td>4.000000</td>\n",
              "      <td>11.000000</td>\n",
              "      <td>7.000000</td>\n",
              "      <td>202.000000</td>\n",
              "      <td>117.000000</td>\n",
              "      <td>102.000000</td>\n",
              "      <td>99.000000</td>\n",
              "      <td>229.000000</td>\n",
              "      <td>359184.000000</td>\n",
              "      <td>135299.000000</td>\n",
              "      <td>1443.000000</td>\n",
              "      <td>132.000000</td>\n",
              "      <td>26.400000</td>\n",
              "      <td>432.000000</td>\n",
              "      <td>29.000000</td>\n",
              "      <td>188603.000000</td>\n",
              "      <td>152319.000000</td>\n",
              "    </tr>\n",
              "  </tbody>\n",
              "</table>\n",
              "</div>"
            ],
            "text/plain": [
              "             gameId   gameDuraton  ...   redTotalHeal  redObjectDamageDealt\n",
              "count  2.690400e+04  26904.000000  ...   26904.000000          26904.000000\n",
              "mean   4.171927e+09   1448.653657  ...   25505.503085          37648.115336\n",
              "std    7.479506e+07    422.577288  ...   15330.689295          26509.187910\n",
              "min    3.482433e+09    190.000000  ...       0.000000              0.000000\n",
              "25%    4.142427e+09   1152.000000  ...   14499.750000          14454.000000\n",
              "50%    4.190657e+09   1435.000000  ...   22377.000000          33385.000000\n",
              "75%    4.219650e+09   1738.000000  ...   33217.250000          57690.000000\n",
              "max    4.261026e+09   3301.000000  ...  188603.000000         152319.000000\n",
              "\n",
              "[8 rows x 50 columns]"
            ]
          },
          "metadata": {
            "tags": []
          },
          "execution_count": 7
        }
      ]
    },
    {
      "cell_type": "code",
      "metadata": {
        "colab": {
          "base_uri": "https://localhost:8080/",
          "height": 1000
        },
        "id": "QIa923ydpWFn",
        "outputId": "03f64f10-8e37-4e69-81a2-3d8f05eb9628"
      },
      "source": [
        "challenger_df.describe().T"
      ],
      "execution_count": 10,
      "outputs": [
        {
          "output_type": "execute_result",
          "data": {
            "text/html": [
              "<div>\n",
              "<style scoped>\n",
              "    .dataframe tbody tr th:only-of-type {\n",
              "        vertical-align: middle;\n",
              "    }\n",
              "\n",
              "    .dataframe tbody tr th {\n",
              "        vertical-align: top;\n",
              "    }\n",
              "\n",
              "    .dataframe thead th {\n",
              "        text-align: right;\n",
              "    }\n",
              "</style>\n",
              "<table border=\"1\" class=\"dataframe\">\n",
              "  <thead>\n",
              "    <tr style=\"text-align: right;\">\n",
              "      <th></th>\n",
              "      <th>count</th>\n",
              "      <th>mean</th>\n",
              "      <th>std</th>\n",
              "      <th>min</th>\n",
              "      <th>25%</th>\n",
              "      <th>50%</th>\n",
              "      <th>75%</th>\n",
              "      <th>max</th>\n",
              "    </tr>\n",
              "  </thead>\n",
              "  <tbody>\n",
              "    <tr>\n",
              "      <th>gameId</th>\n",
              "      <td>26904.0</td>\n",
              "      <td>4.171927e+09</td>\n",
              "      <td>7.479506e+07</td>\n",
              "      <td>3.482433e+09</td>\n",
              "      <td>4.142427e+09</td>\n",
              "      <td>4.190657e+09</td>\n",
              "      <td>4.219650e+09</td>\n",
              "      <td>4.261026e+09</td>\n",
              "    </tr>\n",
              "    <tr>\n",
              "      <th>gameDuraton</th>\n",
              "      <td>26904.0</td>\n",
              "      <td>1.448654e+03</td>\n",
              "      <td>4.225773e+02</td>\n",
              "      <td>1.900000e+02</td>\n",
              "      <td>1.152000e+03</td>\n",
              "      <td>1.435000e+03</td>\n",
              "      <td>1.738000e+03</td>\n",
              "      <td>3.301000e+03</td>\n",
              "    </tr>\n",
              "    <tr>\n",
              "      <th>blueWins</th>\n",
              "      <td>26904.0</td>\n",
              "      <td>5.000743e-01</td>\n",
              "      <td>5.000093e-01</td>\n",
              "      <td>0.000000e+00</td>\n",
              "      <td>0.000000e+00</td>\n",
              "      <td>1.000000e+00</td>\n",
              "      <td>1.000000e+00</td>\n",
              "      <td>1.000000e+00</td>\n",
              "    </tr>\n",
              "    <tr>\n",
              "      <th>blueFirstBlood</th>\n",
              "      <td>26904.0</td>\n",
              "      <td>5.035311e-01</td>\n",
              "      <td>4.999968e-01</td>\n",
              "      <td>0.000000e+00</td>\n",
              "      <td>0.000000e+00</td>\n",
              "      <td>1.000000e+00</td>\n",
              "      <td>1.000000e+00</td>\n",
              "      <td>1.000000e+00</td>\n",
              "    </tr>\n",
              "    <tr>\n",
              "      <th>blueFirstTower</th>\n",
              "      <td>26904.0</td>\n",
              "      <td>5.256096e-01</td>\n",
              "      <td>4.993530e-01</td>\n",
              "      <td>0.000000e+00</td>\n",
              "      <td>0.000000e+00</td>\n",
              "      <td>1.000000e+00</td>\n",
              "      <td>1.000000e+00</td>\n",
              "      <td>1.000000e+00</td>\n",
              "    </tr>\n",
              "    <tr>\n",
              "      <th>blueFirstBaron</th>\n",
              "      <td>26904.0</td>\n",
              "      <td>2.440901e-01</td>\n",
              "      <td>4.295544e-01</td>\n",
              "      <td>0.000000e+00</td>\n",
              "      <td>0.000000e+00</td>\n",
              "      <td>0.000000e+00</td>\n",
              "      <td>0.000000e+00</td>\n",
              "      <td>1.000000e+00</td>\n",
              "    </tr>\n",
              "    <tr>\n",
              "      <th>blueFirstDragon</th>\n",
              "      <td>26904.0</td>\n",
              "      <td>4.063336e-01</td>\n",
              "      <td>4.911574e-01</td>\n",
              "      <td>0.000000e+00</td>\n",
              "      <td>0.000000e+00</td>\n",
              "      <td>0.000000e+00</td>\n",
              "      <td>1.000000e+00</td>\n",
              "      <td>1.000000e+00</td>\n",
              "    </tr>\n",
              "    <tr>\n",
              "      <th>blueFirstInhibitor</th>\n",
              "      <td>26904.0</td>\n",
              "      <td>3.671201e-01</td>\n",
              "      <td>4.820286e-01</td>\n",
              "      <td>0.000000e+00</td>\n",
              "      <td>0.000000e+00</td>\n",
              "      <td>0.000000e+00</td>\n",
              "      <td>1.000000e+00</td>\n",
              "      <td>1.000000e+00</td>\n",
              "    </tr>\n",
              "    <tr>\n",
              "      <th>blueDragonKills</th>\n",
              "      <td>26904.0</td>\n",
              "      <td>1.389719e+00</td>\n",
              "      <td>1.247393e+00</td>\n",
              "      <td>0.000000e+00</td>\n",
              "      <td>0.000000e+00</td>\n",
              "      <td>1.000000e+00</td>\n",
              "      <td>2.000000e+00</td>\n",
              "      <td>7.000000e+00</td>\n",
              "    </tr>\n",
              "    <tr>\n",
              "      <th>blueBaronKills</th>\n",
              "      <td>26904.0</td>\n",
              "      <td>3.070175e-01</td>\n",
              "      <td>5.371399e-01</td>\n",
              "      <td>0.000000e+00</td>\n",
              "      <td>0.000000e+00</td>\n",
              "      <td>0.000000e+00</td>\n",
              "      <td>1.000000e+00</td>\n",
              "      <td>4.000000e+00</td>\n",
              "    </tr>\n",
              "    <tr>\n",
              "      <th>blueTowerKills</th>\n",
              "      <td>26904.0</td>\n",
              "      <td>4.397562e+00</td>\n",
              "      <td>3.327761e+00</td>\n",
              "      <td>0.000000e+00</td>\n",
              "      <td>1.000000e+00</td>\n",
              "      <td>4.000000e+00</td>\n",
              "      <td>7.000000e+00</td>\n",
              "      <td>1.100000e+01</td>\n",
              "    </tr>\n",
              "    <tr>\n",
              "      <th>blueInhibitorKills</th>\n",
              "      <td>26904.0</td>\n",
              "      <td>6.198707e-01</td>\n",
              "      <td>9.014441e-01</td>\n",
              "      <td>0.000000e+00</td>\n",
              "      <td>0.000000e+00</td>\n",
              "      <td>0.000000e+00</td>\n",
              "      <td>1.000000e+00</td>\n",
              "      <td>9.000000e+00</td>\n",
              "    </tr>\n",
              "    <tr>\n",
              "      <th>blueWardPlaced</th>\n",
              "      <td>26904.0</td>\n",
              "      <td>5.864035e+01</td>\n",
              "      <td>3.135161e+01</td>\n",
              "      <td>0.000000e+00</td>\n",
              "      <td>3.800000e+01</td>\n",
              "      <td>5.800000e+01</td>\n",
              "      <td>7.900000e+01</td>\n",
              "      <td>2.300000e+02</td>\n",
              "    </tr>\n",
              "    <tr>\n",
              "      <th>blueWardkills</th>\n",
              "      <td>26904.0</td>\n",
              "      <td>2.233014e+01</td>\n",
              "      <td>1.550227e+01</td>\n",
              "      <td>0.000000e+00</td>\n",
              "      <td>1.100000e+01</td>\n",
              "      <td>2.100000e+01</td>\n",
              "      <td>3.200000e+01</td>\n",
              "      <td>1.090000e+02</td>\n",
              "    </tr>\n",
              "    <tr>\n",
              "      <th>blueKills</th>\n",
              "      <td>26904.0</td>\n",
              "      <td>2.418941e+01</td>\n",
              "      <td>1.295429e+01</td>\n",
              "      <td>0.000000e+00</td>\n",
              "      <td>1.500000e+01</td>\n",
              "      <td>2.300000e+01</td>\n",
              "      <td>3.200000e+01</td>\n",
              "      <td>9.900000e+01</td>\n",
              "    </tr>\n",
              "    <tr>\n",
              "      <th>blueDeath</th>\n",
              "      <td>26904.0</td>\n",
              "      <td>2.418057e+01</td>\n",
              "      <td>1.304286e+01</td>\n",
              "      <td>0.000000e+00</td>\n",
              "      <td>1.500000e+01</td>\n",
              "      <td>2.300000e+01</td>\n",
              "      <td>3.200000e+01</td>\n",
              "      <td>1.020000e+02</td>\n",
              "    </tr>\n",
              "    <tr>\n",
              "      <th>blueAssist</th>\n",
              "      <td>26904.0</td>\n",
              "      <td>3.998640e+01</td>\n",
              "      <td>2.777010e+01</td>\n",
              "      <td>0.000000e+00</td>\n",
              "      <td>2.000000e+01</td>\n",
              "      <td>3.600000e+01</td>\n",
              "      <td>5.300000e+01</td>\n",
              "      <td>2.380000e+02</td>\n",
              "    </tr>\n",
              "    <tr>\n",
              "      <th>blueChampionDamageDealt</th>\n",
              "      <td>26904.0</td>\n",
              "      <td>6.974634e+04</td>\n",
              "      <td>3.576337e+04</td>\n",
              "      <td>0.000000e+00</td>\n",
              "      <td>4.320525e+04</td>\n",
              "      <td>6.501300e+04</td>\n",
              "      <td>9.015950e+04</td>\n",
              "      <td>3.339570e+05</td>\n",
              "    </tr>\n",
              "    <tr>\n",
              "      <th>blueTotalGold</th>\n",
              "      <td>26904.0</td>\n",
              "      <td>4.816913e+04</td>\n",
              "      <td>1.547624e+04</td>\n",
              "      <td>3.704000e+03</td>\n",
              "      <td>3.719100e+04</td>\n",
              "      <td>4.810400e+04</td>\n",
              "      <td>5.865650e+04</td>\n",
              "      <td>1.219200e+05</td>\n",
              "    </tr>\n",
              "    <tr>\n",
              "      <th>blueTotalMinionKills</th>\n",
              "      <td>26904.0</td>\n",
              "      <td>5.204466e+02</td>\n",
              "      <td>1.759711e+02</td>\n",
              "      <td>0.000000e+00</td>\n",
              "      <td>4.090000e+02</td>\n",
              "      <td>5.340000e+02</td>\n",
              "      <td>6.390000e+02</td>\n",
              "      <td>1.267000e+03</td>\n",
              "    </tr>\n",
              "    <tr>\n",
              "      <th>blueTotalLevel</th>\n",
              "      <td>26904.0</td>\n",
              "      <td>6.502423e+01</td>\n",
              "      <td>1.406238e+01</td>\n",
              "      <td>5.000000e+00</td>\n",
              "      <td>5.600000e+01</td>\n",
              "      <td>6.600000e+01</td>\n",
              "      <td>7.500000e+01</td>\n",
              "      <td>1.320000e+02</td>\n",
              "    </tr>\n",
              "    <tr>\n",
              "      <th>blueAvgLevel</th>\n",
              "      <td>26904.0</td>\n",
              "      <td>1.300485e+01</td>\n",
              "      <td>2.812476e+00</td>\n",
              "      <td>1.000000e+00</td>\n",
              "      <td>1.120000e+01</td>\n",
              "      <td>1.320000e+01</td>\n",
              "      <td>1.500000e+01</td>\n",
              "      <td>2.640000e+01</td>\n",
              "    </tr>\n",
              "    <tr>\n",
              "      <th>blueJungleMinionKills</th>\n",
              "      <td>26904.0</td>\n",
              "      <td>1.295869e+02</td>\n",
              "      <td>6.466300e+01</td>\n",
              "      <td>0.000000e+00</td>\n",
              "      <td>9.000000e+01</td>\n",
              "      <td>1.310000e+02</td>\n",
              "      <td>1.730000e+02</td>\n",
              "      <td>4.020000e+02</td>\n",
              "    </tr>\n",
              "    <tr>\n",
              "      <th>blueKillingSpree</th>\n",
              "      <td>26904.0</td>\n",
              "      <td>5.554193e+00</td>\n",
              "      <td>3.493384e+00</td>\n",
              "      <td>0.000000e+00</td>\n",
              "      <td>3.000000e+00</td>\n",
              "      <td>5.000000e+00</td>\n",
              "      <td>7.000000e+00</td>\n",
              "      <td>2.900000e+01</td>\n",
              "    </tr>\n",
              "    <tr>\n",
              "      <th>blueTotalHeal</th>\n",
              "      <td>26904.0</td>\n",
              "      <td>2.505064e+04</td>\n",
              "      <td>1.511264e+04</td>\n",
              "      <td>0.000000e+00</td>\n",
              "      <td>1.410550e+04</td>\n",
              "      <td>2.199000e+04</td>\n",
              "      <td>3.272575e+04</td>\n",
              "      <td>1.624420e+05</td>\n",
              "    </tr>\n",
              "    <tr>\n",
              "      <th>blueObjectDamageDealt</th>\n",
              "      <td>26904.0</td>\n",
              "      <td>3.839388e+04</td>\n",
              "      <td>2.633566e+04</td>\n",
              "      <td>0.000000e+00</td>\n",
              "      <td>1.560800e+04</td>\n",
              "      <td>3.494050e+04</td>\n",
              "      <td>5.782925e+04</td>\n",
              "      <td>1.676920e+05</td>\n",
              "    </tr>\n",
              "    <tr>\n",
              "      <th>redWins</th>\n",
              "      <td>26904.0</td>\n",
              "      <td>4.999257e-01</td>\n",
              "      <td>5.000093e-01</td>\n",
              "      <td>0.000000e+00</td>\n",
              "      <td>0.000000e+00</td>\n",
              "      <td>0.000000e+00</td>\n",
              "      <td>1.000000e+00</td>\n",
              "      <td>1.000000e+00</td>\n",
              "    </tr>\n",
              "    <tr>\n",
              "      <th>redFirstBlood</th>\n",
              "      <td>26904.0</td>\n",
              "      <td>4.944618e-01</td>\n",
              "      <td>4.999786e-01</td>\n",
              "      <td>0.000000e+00</td>\n",
              "      <td>0.000000e+00</td>\n",
              "      <td>0.000000e+00</td>\n",
              "      <td>1.000000e+00</td>\n",
              "      <td>1.000000e+00</td>\n",
              "    </tr>\n",
              "    <tr>\n",
              "      <th>redFirstTower</th>\n",
              "      <td>26904.0</td>\n",
              "      <td>4.627193e-01</td>\n",
              "      <td>4.986175e-01</td>\n",
              "      <td>0.000000e+00</td>\n",
              "      <td>0.000000e+00</td>\n",
              "      <td>0.000000e+00</td>\n",
              "      <td>1.000000e+00</td>\n",
              "      <td>1.000000e+00</td>\n",
              "    </tr>\n",
              "    <tr>\n",
              "      <th>redFirstBaron</th>\n",
              "      <td>26904.0</td>\n",
              "      <td>2.666146e-01</td>\n",
              "      <td>4.421974e-01</td>\n",
              "      <td>0.000000e+00</td>\n",
              "      <td>0.000000e+00</td>\n",
              "      <td>0.000000e+00</td>\n",
              "      <td>1.000000e+00</td>\n",
              "      <td>1.000000e+00</td>\n",
              "    </tr>\n",
              "    <tr>\n",
              "      <th>redFirstDragon</th>\n",
              "      <td>26904.0</td>\n",
              "      <td>5.035311e-01</td>\n",
              "      <td>4.999968e-01</td>\n",
              "      <td>0.000000e+00</td>\n",
              "      <td>0.000000e+00</td>\n",
              "      <td>1.000000e+00</td>\n",
              "      <td>1.000000e+00</td>\n",
              "      <td>1.000000e+00</td>\n",
              "    </tr>\n",
              "    <tr>\n",
              "      <th>redFirstInhibitor</th>\n",
              "      <td>26904.0</td>\n",
              "      <td>3.485355e-01</td>\n",
              "      <td>4.765154e-01</td>\n",
              "      <td>0.000000e+00</td>\n",
              "      <td>0.000000e+00</td>\n",
              "      <td>0.000000e+00</td>\n",
              "      <td>1.000000e+00</td>\n",
              "      <td>1.000000e+00</td>\n",
              "    </tr>\n",
              "    <tr>\n",
              "      <th>redDragonKills</th>\n",
              "      <td>26904.0</td>\n",
              "      <td>1.563857e+00</td>\n",
              "      <td>1.299117e+00</td>\n",
              "      <td>0.000000e+00</td>\n",
              "      <td>0.000000e+00</td>\n",
              "      <td>1.000000e+00</td>\n",
              "      <td>3.000000e+00</td>\n",
              "      <td>6.000000e+00</td>\n",
              "    </tr>\n",
              "    <tr>\n",
              "      <th>redBaronKills</th>\n",
              "      <td>26904.0</td>\n",
              "      <td>3.363069e-01</td>\n",
              "      <td>5.594792e-01</td>\n",
              "      <td>0.000000e+00</td>\n",
              "      <td>0.000000e+00</td>\n",
              "      <td>0.000000e+00</td>\n",
              "      <td>1.000000e+00</td>\n",
              "      <td>4.000000e+00</td>\n",
              "    </tr>\n",
              "    <tr>\n",
              "      <th>redTowerKills</th>\n",
              "      <td>26904.0</td>\n",
              "      <td>4.255910e+00</td>\n",
              "      <td>3.325612e+00</td>\n",
              "      <td>0.000000e+00</td>\n",
              "      <td>1.000000e+00</td>\n",
              "      <td>4.000000e+00</td>\n",
              "      <td>7.000000e+00</td>\n",
              "      <td>1.100000e+01</td>\n",
              "    </tr>\n",
              "    <tr>\n",
              "      <th>redInhibitorKills</th>\n",
              "      <td>26904.0</td>\n",
              "      <td>5.849316e-01</td>\n",
              "      <td>8.709192e-01</td>\n",
              "      <td>0.000000e+00</td>\n",
              "      <td>0.000000e+00</td>\n",
              "      <td>0.000000e+00</td>\n",
              "      <td>1.000000e+00</td>\n",
              "      <td>7.000000e+00</td>\n",
              "    </tr>\n",
              "    <tr>\n",
              "      <th>redWardPlaced</th>\n",
              "      <td>26904.0</td>\n",
              "      <td>5.883226e+01</td>\n",
              "      <td>3.162168e+01</td>\n",
              "      <td>0.000000e+00</td>\n",
              "      <td>3.800000e+01</td>\n",
              "      <td>5.800000e+01</td>\n",
              "      <td>7.900000e+01</td>\n",
              "      <td>2.020000e+02</td>\n",
              "    </tr>\n",
              "    <tr>\n",
              "      <th>redWardkills</th>\n",
              "      <td>26904.0</td>\n",
              "      <td>2.191209e+01</td>\n",
              "      <td>1.527561e+01</td>\n",
              "      <td>0.000000e+00</td>\n",
              "      <td>1.000000e+01</td>\n",
              "      <td>2.000000e+01</td>\n",
              "      <td>3.100000e+01</td>\n",
              "      <td>1.170000e+02</td>\n",
              "    </tr>\n",
              "    <tr>\n",
              "      <th>redKills</th>\n",
              "      <td>26904.0</td>\n",
              "      <td>2.410117e+01</td>\n",
              "      <td>1.302484e+01</td>\n",
              "      <td>0.000000e+00</td>\n",
              "      <td>1.500000e+01</td>\n",
              "      <td>2.300000e+01</td>\n",
              "      <td>3.200000e+01</td>\n",
              "      <td>1.020000e+02</td>\n",
              "    </tr>\n",
              "    <tr>\n",
              "      <th>redDeath</th>\n",
              "      <td>26904.0</td>\n",
              "      <td>2.426858e+01</td>\n",
              "      <td>1.297299e+01</td>\n",
              "      <td>0.000000e+00</td>\n",
              "      <td>1.500000e+01</td>\n",
              "      <td>2.300000e+01</td>\n",
              "      <td>3.200000e+01</td>\n",
              "      <td>9.900000e+01</td>\n",
              "    </tr>\n",
              "    <tr>\n",
              "      <th>redAssist</th>\n",
              "      <td>26904.0</td>\n",
              "      <td>3.980074e+01</td>\n",
              "      <td>2.772214e+01</td>\n",
              "      <td>0.000000e+00</td>\n",
              "      <td>2.000000e+01</td>\n",
              "      <td>3.500000e+01</td>\n",
              "      <td>5.300000e+01</td>\n",
              "      <td>2.290000e+02</td>\n",
              "    </tr>\n",
              "    <tr>\n",
              "      <th>redChampionDamageDealt</th>\n",
              "      <td>26904.0</td>\n",
              "      <td>6.952826e+04</td>\n",
              "      <td>3.586611e+04</td>\n",
              "      <td>0.000000e+00</td>\n",
              "      <td>4.306825e+04</td>\n",
              "      <td>6.465500e+04</td>\n",
              "      <td>8.981175e+04</td>\n",
              "      <td>3.591840e+05</td>\n",
              "    </tr>\n",
              "    <tr>\n",
              "      <th>redTotalGold</th>\n",
              "      <td>26904.0</td>\n",
              "      <td>4.820798e+04</td>\n",
              "      <td>1.562709e+04</td>\n",
              "      <td>3.340000e+03</td>\n",
              "      <td>3.712725e+04</td>\n",
              "      <td>4.803700e+04</td>\n",
              "      <td>5.871925e+04</td>\n",
              "      <td>1.352990e+05</td>\n",
              "    </tr>\n",
              "    <tr>\n",
              "      <th>redTotalMinionKills</th>\n",
              "      <td>26904.0</td>\n",
              "      <td>5.263377e+02</td>\n",
              "      <td>1.789943e+02</td>\n",
              "      <td>0.000000e+00</td>\n",
              "      <td>4.120000e+02</td>\n",
              "      <td>5.410000e+02</td>\n",
              "      <td>6.480000e+02</td>\n",
              "      <td>1.443000e+03</td>\n",
              "    </tr>\n",
              "    <tr>\n",
              "      <th>redTotalLevel</th>\n",
              "      <td>26904.0</td>\n",
              "      <td>6.521317e+01</td>\n",
              "      <td>1.410569e+01</td>\n",
              "      <td>5.000000e+00</td>\n",
              "      <td>5.600000e+01</td>\n",
              "      <td>6.600000e+01</td>\n",
              "      <td>7.500000e+01</td>\n",
              "      <td>1.320000e+02</td>\n",
              "    </tr>\n",
              "    <tr>\n",
              "      <th>redAvgLevel</th>\n",
              "      <td>26904.0</td>\n",
              "      <td>1.304263e+01</td>\n",
              "      <td>2.821138e+00</td>\n",
              "      <td>1.000000e+00</td>\n",
              "      <td>1.120000e+01</td>\n",
              "      <td>1.320000e+01</td>\n",
              "      <td>1.500000e+01</td>\n",
              "      <td>2.640000e+01</td>\n",
              "    </tr>\n",
              "    <tr>\n",
              "      <th>redJungleMinionKills</th>\n",
              "      <td>26904.0</td>\n",
              "      <td>1.304687e+02</td>\n",
              "      <td>6.461853e+01</td>\n",
              "      <td>0.000000e+00</td>\n",
              "      <td>9.100000e+01</td>\n",
              "      <td>1.320000e+02</td>\n",
              "      <td>1.740000e+02</td>\n",
              "      <td>4.320000e+02</td>\n",
              "    </tr>\n",
              "    <tr>\n",
              "      <th>redKillingSpree</th>\n",
              "      <td>26904.0</td>\n",
              "      <td>5.541704e+00</td>\n",
              "      <td>3.494662e+00</td>\n",
              "      <td>0.000000e+00</td>\n",
              "      <td>3.000000e+00</td>\n",
              "      <td>5.000000e+00</td>\n",
              "      <td>7.000000e+00</td>\n",
              "      <td>2.900000e+01</td>\n",
              "    </tr>\n",
              "    <tr>\n",
              "      <th>redTotalHeal</th>\n",
              "      <td>26904.0</td>\n",
              "      <td>2.550550e+04</td>\n",
              "      <td>1.533069e+04</td>\n",
              "      <td>0.000000e+00</td>\n",
              "      <td>1.449975e+04</td>\n",
              "      <td>2.237700e+04</td>\n",
              "      <td>3.321725e+04</td>\n",
              "      <td>1.886030e+05</td>\n",
              "    </tr>\n",
              "    <tr>\n",
              "      <th>redObjectDamageDealt</th>\n",
              "      <td>26904.0</td>\n",
              "      <td>3.764812e+04</td>\n",
              "      <td>2.650919e+04</td>\n",
              "      <td>0.000000e+00</td>\n",
              "      <td>1.445400e+04</td>\n",
              "      <td>3.338500e+04</td>\n",
              "      <td>5.769000e+04</td>\n",
              "      <td>1.523190e+05</td>\n",
              "    </tr>\n",
              "  </tbody>\n",
              "</table>\n",
              "</div>"
            ],
            "text/plain": [
              "                           count          mean  ...           75%           max\n",
              "gameId                   26904.0  4.171927e+09  ...  4.219650e+09  4.261026e+09\n",
              "gameDuraton              26904.0  1.448654e+03  ...  1.738000e+03  3.301000e+03\n",
              "blueWins                 26904.0  5.000743e-01  ...  1.000000e+00  1.000000e+00\n",
              "blueFirstBlood           26904.0  5.035311e-01  ...  1.000000e+00  1.000000e+00\n",
              "blueFirstTower           26904.0  5.256096e-01  ...  1.000000e+00  1.000000e+00\n",
              "blueFirstBaron           26904.0  2.440901e-01  ...  0.000000e+00  1.000000e+00\n",
              "blueFirstDragon          26904.0  4.063336e-01  ...  1.000000e+00  1.000000e+00\n",
              "blueFirstInhibitor       26904.0  3.671201e-01  ...  1.000000e+00  1.000000e+00\n",
              "blueDragonKills          26904.0  1.389719e+00  ...  2.000000e+00  7.000000e+00\n",
              "blueBaronKills           26904.0  3.070175e-01  ...  1.000000e+00  4.000000e+00\n",
              "blueTowerKills           26904.0  4.397562e+00  ...  7.000000e+00  1.100000e+01\n",
              "blueInhibitorKills       26904.0  6.198707e-01  ...  1.000000e+00  9.000000e+00\n",
              "blueWardPlaced           26904.0  5.864035e+01  ...  7.900000e+01  2.300000e+02\n",
              "blueWardkills            26904.0  2.233014e+01  ...  3.200000e+01  1.090000e+02\n",
              "blueKills                26904.0  2.418941e+01  ...  3.200000e+01  9.900000e+01\n",
              "blueDeath                26904.0  2.418057e+01  ...  3.200000e+01  1.020000e+02\n",
              "blueAssist               26904.0  3.998640e+01  ...  5.300000e+01  2.380000e+02\n",
              "blueChampionDamageDealt  26904.0  6.974634e+04  ...  9.015950e+04  3.339570e+05\n",
              "blueTotalGold            26904.0  4.816913e+04  ...  5.865650e+04  1.219200e+05\n",
              "blueTotalMinionKills     26904.0  5.204466e+02  ...  6.390000e+02  1.267000e+03\n",
              "blueTotalLevel           26904.0  6.502423e+01  ...  7.500000e+01  1.320000e+02\n",
              "blueAvgLevel             26904.0  1.300485e+01  ...  1.500000e+01  2.640000e+01\n",
              "blueJungleMinionKills    26904.0  1.295869e+02  ...  1.730000e+02  4.020000e+02\n",
              "blueKillingSpree         26904.0  5.554193e+00  ...  7.000000e+00  2.900000e+01\n",
              "blueTotalHeal            26904.0  2.505064e+04  ...  3.272575e+04  1.624420e+05\n",
              "blueObjectDamageDealt    26904.0  3.839388e+04  ...  5.782925e+04  1.676920e+05\n",
              "redWins                  26904.0  4.999257e-01  ...  1.000000e+00  1.000000e+00\n",
              "redFirstBlood            26904.0  4.944618e-01  ...  1.000000e+00  1.000000e+00\n",
              "redFirstTower            26904.0  4.627193e-01  ...  1.000000e+00  1.000000e+00\n",
              "redFirstBaron            26904.0  2.666146e-01  ...  1.000000e+00  1.000000e+00\n",
              "redFirstDragon           26904.0  5.035311e-01  ...  1.000000e+00  1.000000e+00\n",
              "redFirstInhibitor        26904.0  3.485355e-01  ...  1.000000e+00  1.000000e+00\n",
              "redDragonKills           26904.0  1.563857e+00  ...  3.000000e+00  6.000000e+00\n",
              "redBaronKills            26904.0  3.363069e-01  ...  1.000000e+00  4.000000e+00\n",
              "redTowerKills            26904.0  4.255910e+00  ...  7.000000e+00  1.100000e+01\n",
              "redInhibitorKills        26904.0  5.849316e-01  ...  1.000000e+00  7.000000e+00\n",
              "redWardPlaced            26904.0  5.883226e+01  ...  7.900000e+01  2.020000e+02\n",
              "redWardkills             26904.0  2.191209e+01  ...  3.100000e+01  1.170000e+02\n",
              "redKills                 26904.0  2.410117e+01  ...  3.200000e+01  1.020000e+02\n",
              "redDeath                 26904.0  2.426858e+01  ...  3.200000e+01  9.900000e+01\n",
              "redAssist                26904.0  3.980074e+01  ...  5.300000e+01  2.290000e+02\n",
              "redChampionDamageDealt   26904.0  6.952826e+04  ...  8.981175e+04  3.591840e+05\n",
              "redTotalGold             26904.0  4.820798e+04  ...  5.871925e+04  1.352990e+05\n",
              "redTotalMinionKills      26904.0  5.263377e+02  ...  6.480000e+02  1.443000e+03\n",
              "redTotalLevel            26904.0  6.521317e+01  ...  7.500000e+01  1.320000e+02\n",
              "redAvgLevel              26904.0  1.304263e+01  ...  1.500000e+01  2.640000e+01\n",
              "redJungleMinionKills     26904.0  1.304687e+02  ...  1.740000e+02  4.320000e+02\n",
              "redKillingSpree          26904.0  5.541704e+00  ...  7.000000e+00  2.900000e+01\n",
              "redTotalHeal             26904.0  2.550550e+04  ...  3.321725e+04  1.886030e+05\n",
              "redObjectDamageDealt     26904.0  3.764812e+04  ...  5.769000e+04  1.523190e+05\n",
              "\n",
              "[50 rows x 8 columns]"
            ]
          },
          "metadata": {
            "tags": []
          },
          "execution_count": 10
        }
      ]
    },
    {
      "cell_type": "code",
      "metadata": {
        "colab": {
          "base_uri": "https://localhost:8080/"
        },
        "id": "7Gzs5rkPiCyl",
        "outputId": "7111cbdd-2d22-40ac-ea8c-84fccfe9629d"
      },
      "source": [
        "# missing value가 있는지 확인 \n",
        "# 확인결과 : 없음\n",
        "challenger_df.isnull().sum()"
      ],
      "execution_count": 11,
      "outputs": [
        {
          "output_type": "execute_result",
          "data": {
            "text/plain": [
              "gameId                     0\n",
              "gameDuraton                0\n",
              "blueWins                   0\n",
              "blueFirstBlood             0\n",
              "blueFirstTower             0\n",
              "blueFirstBaron             0\n",
              "blueFirstDragon            0\n",
              "blueFirstInhibitor         0\n",
              "blueDragonKills            0\n",
              "blueBaronKills             0\n",
              "blueTowerKills             0\n",
              "blueInhibitorKills         0\n",
              "blueWardPlaced             0\n",
              "blueWardkills              0\n",
              "blueKills                  0\n",
              "blueDeath                  0\n",
              "blueAssist                 0\n",
              "blueChampionDamageDealt    0\n",
              "blueTotalGold              0\n",
              "blueTotalMinionKills       0\n",
              "blueTotalLevel             0\n",
              "blueAvgLevel               0\n",
              "blueJungleMinionKills      0\n",
              "blueKillingSpree           0\n",
              "blueTotalHeal              0\n",
              "blueObjectDamageDealt      0\n",
              "redWins                    0\n",
              "redFirstBlood              0\n",
              "redFirstTower              0\n",
              "redFirstBaron              0\n",
              "redFirstDragon             0\n",
              "redFirstInhibitor          0\n",
              "redDragonKills             0\n",
              "redBaronKills              0\n",
              "redTowerKills              0\n",
              "redInhibitorKills          0\n",
              "redWardPlaced              0\n",
              "redWardkills               0\n",
              "redKills                   0\n",
              "redDeath                   0\n",
              "redAssist                  0\n",
              "redChampionDamageDealt     0\n",
              "redTotalGold               0\n",
              "redTotalMinionKills        0\n",
              "redTotalLevel              0\n",
              "redAvgLevel                0\n",
              "redJungleMinionKills       0\n",
              "redKillingSpree            0\n",
              "redTotalHeal               0\n",
              "redObjectDamageDealt       0\n",
              "dtype: int64"
            ]
          },
          "metadata": {
            "tags": []
          },
          "execution_count": 11
        }
      ]
    },
    {
      "cell_type": "markdown",
      "metadata": {
        "id": "xQrPdi8tlM6n"
      },
      "source": [
        ""
      ]
    },
    {
      "cell_type": "markdown",
      "metadata": {
        "id": "_i8Qww9qlM8P"
      },
      "source": [
        "#feature 분포 확인"
      ]
    },
    {
      "cell_type": "code",
      "metadata": {
        "id": "KDDij4Q9lIg8"
      },
      "source": [
        "# 시각화 패키지 import\n",
        "import seaborn as sns\n",
        "import matplotlib.pyplot as plt\n",
        "%matplotlib inline"
      ],
      "execution_count": 12,
      "outputs": []
    },
    {
      "cell_type": "markdown",
      "metadata": {
        "id": "DZVnpDFErgCw"
      },
      "source": [
        "#블루팀이 이겼을때 블루팀과 레드팀 총 골드량"
      ]
    },
    {
      "cell_type": "code",
      "metadata": {
        "id": "sM_TMIHsmInv"
      },
      "source": [
        "features = ['blueTotalGold','redTotalGold']"
      ],
      "execution_count": 13,
      "outputs": []
    },
    {
      "cell_type": "code",
      "metadata": {
        "colab": {
          "base_uri": "https://localhost:8080/"
        },
        "id": "EJfll6kGqPt7",
        "outputId": "9f265c24-3114-4fac-e31a-e0b03d4dd3e6"
      },
      "source": [
        "list(challenger_df.loc[challenger_df['blueWins'] == 1, features])"
      ],
      "execution_count": 14,
      "outputs": [
        {
          "output_type": "execute_result",
          "data": {
            "text/plain": [
              "['blueTotalGold', 'redTotalGold']"
            ]
          },
          "metadata": {
            "tags": []
          },
          "execution_count": 14
        }
      ]
    },
    {
      "cell_type": "code",
      "metadata": {
        "id": "yOIvnDNhq4lO"
      },
      "source": [
        "bluewin = challenger_df.loc[challenger_df['blueWins'] == 1, features].mean()"
      ],
      "execution_count": 15,
      "outputs": []
    },
    {
      "cell_type": "code",
      "metadata": {
        "colab": {
          "base_uri": "https://localhost:8080/"
        },
        "id": "VOeV9-Xaq4oI",
        "outputId": "2e990600-0db0-430b-9381-b7320dd3eb35"
      },
      "source": [
        "bluewin"
      ],
      "execution_count": 16,
      "outputs": [
        {
          "output_type": "execute_result",
          "data": {
            "text/plain": [
              "blueTotalGold    52447.299985\n",
              "redTotalGold     43977.909915\n",
              "dtype: float64"
            ]
          },
          "metadata": {
            "tags": []
          },
          "execution_count": 16
        }
      ]
    },
    {
      "cell_type": "code",
      "metadata": {
        "id": "Sf7b59paq4qX",
        "colab": {
          "base_uri": "https://localhost:8080/",
          "height": 264
        },
        "outputId": "c6248a34-48bd-40a1-c3f0-9a689adc7952"
      },
      "source": [
        "y = [bluewin[0],bluewin[1]]\n",
        "x = ['blueTotalGold', 'redTotalGold']\n",
        "plt.bar(x, y, width=0.7,color='r')\n",
        "plt.show()"
      ],
      "execution_count": 81,
      "outputs": [
        {
          "output_type": "display_data",
          "data": {
            "image/png": "[encoded data removed]",
            "text/plain": [
              "<Figure size 432x288 with 1 Axes>"
            ]
          },
          "metadata": {
            "tags": [],
            "needs_background": "light"
          }
        }
      ]
    },
    {
      "cell_type": "markdown",
      "metadata": {
        "id": "WobfwKA-ksfb"
      },
      "source": [
        "#블루팀과 레드팀의 평균 드래곤 획득량\n"
      ]
    },
    {
      "cell_type": "code",
      "metadata": {
        "id": "9MTxpghlmEW3"
      },
      "source": [
        "features = ['blueDragonKills','redDragonKills']"
      ],
      "execution_count": 118,
      "outputs": []
    },
    {
      "cell_type": "code",
      "metadata": {
        "colab": {
          "base_uri": "https://localhost:8080/"
        },
        "id": "qX_HskPpmEW3",
        "outputId": "0c2d3bb2-3c44-4efb-9035-45978a53bac7"
      },
      "source": [
        "list(challenger_df.loc[challenger_df['blueWins'] == 1, features])"
      ],
      "execution_count": 119,
      "outputs": [
        {
          "output_type": "execute_result",
          "data": {
            "text/plain": [
              "['blueDragonKills', 'redDragonKills']"
            ]
          },
          "metadata": {
            "tags": []
          },
          "execution_count": 119
        }
      ]
    },
    {
      "cell_type": "code",
      "metadata": {
        "id": "CkoVjr_QmEW4"
      },
      "source": [
        "bluewin = challenger_df.loc[challenger_df['blueWins'] == 1, features].mean()"
      ],
      "execution_count": 120,
      "outputs": []
    },
    {
      "cell_type": "code",
      "metadata": {
        "colab": {
          "base_uri": "https://localhost:8080/"
        },
        "id": "bWIw53JHmEW4",
        "outputId": "ca5ff646-9ceb-4d20-ba41-0f664558072d"
      },
      "source": [
        "bluewin"
      ],
      "execution_count": 121,
      "outputs": [
        {
          "output_type": "execute_result",
          "data": {
            "text/plain": [
              "blueDragonKills    1.971458\n",
              "redDragonKills     0.956741\n",
              "dtype: float64"
            ]
          },
          "metadata": {
            "tags": []
          },
          "execution_count": 121
        }
      ]
    },
    {
      "cell_type": "code",
      "metadata": {
        "id": "xJx_YPiEmEW4"
      },
      "source": [
        "redwin = challenger_df.loc[challenger_df['redWins'] == 1, features].mean()"
      ],
      "execution_count": 123,
      "outputs": []
    },
    {
      "cell_type": "code",
      "metadata": {
        "colab": {
          "base_uri": "https://localhost:8080/"
        },
        "id": "-5InpzrPmieI",
        "outputId": "ba956741-6b1f-4910-9489-935be29672ff"
      },
      "source": [
        "redwin"
      ],
      "execution_count": 125,
      "outputs": [
        {
          "output_type": "execute_result",
          "data": {
            "text/plain": [
              "blueDragonKills    0.807807\n",
              "redDragonKills     2.171152\n",
              "dtype: float64"
            ]
          },
          "metadata": {
            "tags": []
          },
          "execution_count": 125
        }
      ]
    },
    {
      "cell_type": "code",
      "metadata": {
        "colab": {
          "base_uri": "https://localhost:8080/"
        },
        "id": "oOLqzKi8nFPx",
        "outputId": "1db52389-cc0a-46b3-b884-44886f886297"
      },
      "source": [
        "redwin[1]"
      ],
      "execution_count": 130,
      "outputs": [
        {
          "output_type": "execute_result",
          "data": {
            "text/plain": [
              "2.171152416356877"
            ]
          },
          "metadata": {
            "tags": []
          },
          "execution_count": 130
        }
      ]
    },
    {
      "cell_type": "code",
      "metadata": {
        "colab": {
          "base_uri": "https://localhost:8080/",
          "height": 264
        },
        "id": "eld-K4_ampce",
        "outputId": "86f36a75-ea3d-4ab6-bb97-611692582092"
      },
      "source": [
        "x = np.arange(2)\n",
        "team = ['blueDragonKills', 'redDragonKills ']\n",
        "values = [bluewin[0], redwin[1]]\n",
        "\n",
        "plt.bar(x, values)\n",
        "plt.xticks(x, team)\n",
        "plt.show()"
      ],
      "execution_count": 131,
      "outputs": [
        {
          "output_type": "display_data",
          "data": {
            "image/png": "[encoded data removed]",
            "text/plain": [
              "<Figure size 432x288 with 1 Axes>"
            ]
          },
          "metadata": {
            "tags": [],
            "needs_background": "light"
          }
        }
      ]
    },
    {
      "cell_type": "markdown",
      "metadata": {
        "id": "p7MBXI7anUlk"
      },
      "source": [
        "각 팀이 이겼을때의 평균 드래곤의 수는 red팀이 많았고 각팀이 졌을때의 드래곤 수 또한 red 팀이 많았다 따라서 승패에 상관없이 red 팀이 드래곤을 챙기기에 유리한 것으로 보인다."
      ]
    },
    {
      "cell_type": "markdown",
      "metadata": {
        "id": "m4Iet6GCoCfZ"
      },
      "source": [
        "산점도 그리기 킬과 승리가 산점도가 그려질까?"
      ]
    },
    {
      "cell_type": "code",
      "metadata": {
        "id": "l7fBh1kXoCkF"
      },
      "source": [
        "import pandas as pd\n",
        "\n",
        "blue_kill = challenger_df['blueKills']\n",
        "blue_win = challenger_df['blueWins']\n",
        "\n",
        "# DataFrame 만들기\n",
        "\n",
        "body = pd.DataFrame(\n",
        "    {'blue_kill': blue_kill, 'blue_win': blue_win}\n",
        ")"
      ],
      "execution_count": 132,
      "outputs": []
    },
    {
      "cell_type": "code",
      "metadata": {
        "colab": {
          "base_uri": "https://localhost:8080/",
          "height": 280
        },
        "id": "ZqRqo8H0ok2n",
        "outputId": "c0f1e076-50ff-4d55-f62a-bc81f9d85962"
      },
      "source": [
        "import matplotlib.pylab as plt\n",
        "\n",
        "plt.scatter( body['blue_kill'], body['blue_win'], label = \"data\")\n",
        "\n",
        "plt.legend(loc = \"best\")\n",
        "plt.xlabel('blue_kill')\n",
        "plt.ylabel('blue_win')\n",
        "plt.show()"
      ],
      "execution_count": 135,
      "outputs": [
        {
          "output_type": "display_data",
          "data": {
            "image/png": "[encoded data removed]",
            "text/plain": [
              "<Figure size 432x288 with 1 Axes>"
            ]
          },
          "metadata": {
            "tags": [],
            "needs_background": "light"
          }
        }
      ]
    },
    {
      "cell_type": "markdown",
      "metadata": {
        "id": "C-Bbi-uvo0Rc"
      },
      "source": [
        "킬과 승의 상관관계를 승 패 산점도로 보는건 불가 제가 이해 못한걸수도 있음"
      ]
    },
    {
      "cell_type": "markdown",
      "metadata": {
        "id": "DhayCX3co7Xw"
      },
      "source": [
        "총딜량 킬수 산점도"
      ]
    },
    {
      "cell_type": "code",
      "metadata": {
        "colab": {
          "base_uri": "https://localhost:8080/",
          "height": 284
        },
        "id": "uXTghzZOo9cI",
        "outputId": "0b80e111-e643-41a8-ab74-f5b3136febee"
      },
      "source": [
        "blue_kill = challenger_df['blueKills']\n",
        "blue_deal = challenger_df['blueChampionDamageDealt']\n",
        "body = pd.DataFrame(\n",
        "    {'blue_kill': blue_kill, 'blue_deal': blue_deal}\n",
        ")\n",
        "plt.scatter( body['blue_kill'], body['blue_deal'], label = \"data\")\n",
        "\n",
        "plt.legend(loc = \"best\")\n",
        "plt.xlabel('blue_kill')\n",
        "plt.ylabel('blue_deal')\n",
        "plt.show()"
      ],
      "execution_count": 136,
      "outputs": [
        {
          "output_type": "display_data",
          "data": {
            "image/png": "[encoded data removed]",
            "text/plain": [
              "<Figure size 432x288 with 1 Axes>"
            ]
          },
          "metadata": {
            "tags": [],
            "needs_background": "light"
          }
        }
      ]
    },
    {
      "cell_type": "markdown",
      "metadata": {
        "id": "z8-HxcPkpSDy"
      },
      "source": [
        "킬수가 늘어날 수록 딜량이 높아지는 상관관계"
      ]
    },
    {
      "cell_type": "markdown",
      "metadata": {
        "id": "w6tV2417ss1f"
      },
      "source": [
        "# 게임에 영향을 줄거로 생각되는 특정 feature를 뽑기\n",
        "gameDuration : 시간 별로 승패에 영향주는 요소가 달라질 수도 있음\n",
        "Red/Blue : 진영 별 유불리\n",
        "\n",
        "FirstBlood \n",
        "FirstBaron \n",
        "FirstDragon\n",
        "Firstinhibitor\n",
        "Kill/Death/Assist - KDA로 통합하여 한 feature로 만들기 \n",
        " \n",
        "Total gold\n",
        "Avglevel\n",
        "ChampionDamageDealt \n",
        "\n",
        "wardplaced-wardkills (시야) "
      ]
    },
    {
      "cell_type": "markdown",
      "metadata": {
        "id": "f8zvQdHvuD9m"
      },
      "source": [
        "골드량 킬 바론 정도만 볼 수 있도록 bluWins== 1  이면 블루승"
      ]
    },
    {
      "cell_type": "code",
      "metadata": {
        "id": "QkxbqXkCs2rX"
      },
      "source": [
        "# 승패에 높은 영향을 끼칠거라 생각되는 feature만 뽑아 새로운 df에 저장 \n",
        "test_df = challenger_df[[ 'blueTotalGold', 'blueKills', 'blueDragonKills', 'redTotalGold', 'redKills', 'redDragonKills','blueWins']]\n"
      ],
      "execution_count": 22,
      "outputs": []
    },
    {
      "cell_type": "code",
      "metadata": {
        "colab": {
          "base_uri": "https://localhost:8080/",
          "height": 406
        },
        "id": "ImXxGEj0t4PQ",
        "outputId": "ad754781-4fbf-4e0e-a384-4eb88d1ca4e4"
      },
      "source": [
        "test_df"
      ],
      "execution_count": 23,
      "outputs": [
        {
          "output_type": "execute_result",
          "data": {
            "text/html": [
              "<div>\n",
              "<style scoped>\n",
              "    .dataframe tbody tr th:only-of-type {\n",
              "        vertical-align: middle;\n",
              "    }\n",
              "\n",
              "    .dataframe tbody tr th {\n",
              "        vertical-align: top;\n",
              "    }\n",
              "\n",
              "    .dataframe thead th {\n",
              "        text-align: right;\n",
              "    }\n",
              "</style>\n",
              "<table border=\"1\" class=\"dataframe\">\n",
              "  <thead>\n",
              "    <tr style=\"text-align: right;\">\n",
              "      <th></th>\n",
              "      <th>blueTotalGold</th>\n",
              "      <th>blueKills</th>\n",
              "      <th>blueDragonKills</th>\n",
              "      <th>redTotalGold</th>\n",
              "      <th>redKills</th>\n",
              "      <th>redDragonKills</th>\n",
              "      <th>blueWins</th>\n",
              "    </tr>\n",
              "  </thead>\n",
              "  <tbody>\n",
              "    <tr>\n",
              "      <th>0</th>\n",
              "      <td>37001</td>\n",
              "      <td>15</td>\n",
              "      <td>0</td>\n",
              "      <td>49832</td>\n",
              "      <td>31</td>\n",
              "      <td>3</td>\n",
              "      <td>0</td>\n",
              "    </tr>\n",
              "    <tr>\n",
              "      <th>1</th>\n",
              "      <td>41072</td>\n",
              "      <td>19</td>\n",
              "      <td>2</td>\n",
              "      <td>37136</td>\n",
              "      <td>8</td>\n",
              "      <td>0</td>\n",
              "      <td>1</td>\n",
              "    </tr>\n",
              "    <tr>\n",
              "      <th>2</th>\n",
              "      <td>22929</td>\n",
              "      <td>5</td>\n",
              "      <td>0</td>\n",
              "      <td>35364</td>\n",
              "      <td>20</td>\n",
              "      <td>2</td>\n",
              "      <td>0</td>\n",
              "    </tr>\n",
              "    <tr>\n",
              "      <th>3</th>\n",
              "      <td>63447</td>\n",
              "      <td>26</td>\n",
              "      <td>1</td>\n",
              "      <td>70528</td>\n",
              "      <td>36</td>\n",
              "      <td>3</td>\n",
              "      <td>0</td>\n",
              "    </tr>\n",
              "    <tr>\n",
              "      <th>4</th>\n",
              "      <td>74955</td>\n",
              "      <td>27</td>\n",
              "      <td>2</td>\n",
              "      <td>74596</td>\n",
              "      <td>40</td>\n",
              "      <td>3</td>\n",
              "      <td>1</td>\n",
              "    </tr>\n",
              "    <tr>\n",
              "      <th>...</th>\n",
              "      <td>...</td>\n",
              "      <td>...</td>\n",
              "      <td>...</td>\n",
              "      <td>...</td>\n",
              "      <td>...</td>\n",
              "      <td>...</td>\n",
              "      <td>...</td>\n",
              "    </tr>\n",
              "    <tr>\n",
              "      <th>26899</th>\n",
              "      <td>41437</td>\n",
              "      <td>24</td>\n",
              "      <td>1</td>\n",
              "      <td>46558</td>\n",
              "      <td>27</td>\n",
              "      <td>2</td>\n",
              "      <td>0</td>\n",
              "    </tr>\n",
              "    <tr>\n",
              "      <th>26900</th>\n",
              "      <td>61221</td>\n",
              "      <td>29</td>\n",
              "      <td>3</td>\n",
              "      <td>70177</td>\n",
              "      <td>40</td>\n",
              "      <td>0</td>\n",
              "      <td>0</td>\n",
              "    </tr>\n",
              "    <tr>\n",
              "      <th>26901</th>\n",
              "      <td>45013</td>\n",
              "      <td>14</td>\n",
              "      <td>1</td>\n",
              "      <td>48849</td>\n",
              "      <td>20</td>\n",
              "      <td>1</td>\n",
              "      <td>0</td>\n",
              "    </tr>\n",
              "    <tr>\n",
              "      <th>26902</th>\n",
              "      <td>58160</td>\n",
              "      <td>32</td>\n",
              "      <td>3</td>\n",
              "      <td>52625</td>\n",
              "      <td>19</td>\n",
              "      <td>2</td>\n",
              "      <td>1</td>\n",
              "    </tr>\n",
              "    <tr>\n",
              "      <th>26903</th>\n",
              "      <td>30001</td>\n",
              "      <td>10</td>\n",
              "      <td>1</td>\n",
              "      <td>20972</td>\n",
              "      <td>2</td>\n",
              "      <td>1</td>\n",
              "      <td>1</td>\n",
              "    </tr>\n",
              "  </tbody>\n",
              "</table>\n",
              "<p>26904 rows × 7 columns</p>\n",
              "</div>"
            ],
            "text/plain": [
              "       blueTotalGold  blueKills  ...  redDragonKills  blueWins\n",
              "0              37001         15  ...               3         0\n",
              "1              41072         19  ...               0         1\n",
              "2              22929          5  ...               2         0\n",
              "3              63447         26  ...               3         0\n",
              "4              74955         27  ...               3         1\n",
              "...              ...        ...  ...             ...       ...\n",
              "26899          41437         24  ...               2         0\n",
              "26900          61221         29  ...               0         0\n",
              "26901          45013         14  ...               1         0\n",
              "26902          58160         32  ...               2         1\n",
              "26903          30001         10  ...               1         1\n",
              "\n",
              "[26904 rows x 7 columns]"
            ]
          },
          "metadata": {
            "tags": []
          },
          "execution_count": 23
        }
      ]
    },
    {
      "cell_type": "code",
      "metadata": {
        "id": "MFKiY2gF4P_M"
      },
      "source": [
        "bluewin_y = test_df['blueWins']"
      ],
      "execution_count": 24,
      "outputs": []
    },
    {
      "cell_type": "code",
      "metadata": {
        "colab": {
          "base_uri": "https://localhost:8080/"
        },
        "id": "CUOKP9PauLwF",
        "outputId": "6232d7ac-7d3a-4649-9471-937e3cb497dc"
      },
      "source": [
        "# 데이터 내에서 학습 데이터와 테스트 데이터를 (8:2) 비율로 분리한다.\n",
        "X_train, X_test, Y_train, Y_test = train_test_split(test_df, bluewin_y, test_size=.2,random_state=12)\n",
        "\n",
        "X_train.shape, Y_train.shape, X_test.shape, Y_test.shape"
      ],
      "execution_count": 26,
      "outputs": [
        {
          "output_type": "execute_result",
          "data": {
            "text/plain": [
              "((21523, 7), (21523,), (5381, 7), (5381,))"
            ]
          },
          "metadata": {
            "tags": []
          },
          "execution_count": 26
        }
      ]
    },
    {
      "cell_type": "code",
      "metadata": {
        "colab": {
          "base_uri": "https://localhost:8080/",
          "height": 406
        },
        "id": "OE80mssh5MFO",
        "outputId": "352b89ba-cf84-4470-e7c3-abf95dae6088"
      },
      "source": [
        "X_train"
      ],
      "execution_count": 27,
      "outputs": [
        {
          "output_type": "execute_result",
          "data": {
            "text/html": [
              "<div>\n",
              "<style scoped>\n",
              "    .dataframe tbody tr th:only-of-type {\n",
              "        vertical-align: middle;\n",
              "    }\n",
              "\n",
              "    .dataframe tbody tr th {\n",
              "        vertical-align: top;\n",
              "    }\n",
              "\n",
              "    .dataframe thead th {\n",
              "        text-align: right;\n",
              "    }\n",
              "</style>\n",
              "<table border=\"1\" class=\"dataframe\">\n",
              "  <thead>\n",
              "    <tr style=\"text-align: right;\">\n",
              "      <th></th>\n",
              "      <th>blueTotalGold</th>\n",
              "      <th>blueKills</th>\n",
              "      <th>blueDragonKills</th>\n",
              "      <th>redTotalGold</th>\n",
              "      <th>redKills</th>\n",
              "      <th>redDragonKills</th>\n",
              "      <th>blueWins</th>\n",
              "    </tr>\n",
              "  </thead>\n",
              "  <tbody>\n",
              "    <tr>\n",
              "      <th>25987</th>\n",
              "      <td>34361</td>\n",
              "      <td>14</td>\n",
              "      <td>1</td>\n",
              "      <td>43010</td>\n",
              "      <td>25</td>\n",
              "      <td>1</td>\n",
              "      <td>0</td>\n",
              "    </tr>\n",
              "    <tr>\n",
              "      <th>17601</th>\n",
              "      <td>41401</td>\n",
              "      <td>26</td>\n",
              "      <td>1</td>\n",
              "      <td>36058</td>\n",
              "      <td>18</td>\n",
              "      <td>0</td>\n",
              "      <td>1</td>\n",
              "    </tr>\n",
              "    <tr>\n",
              "      <th>6993</th>\n",
              "      <td>70961</td>\n",
              "      <td>54</td>\n",
              "      <td>2</td>\n",
              "      <td>61009</td>\n",
              "      <td>29</td>\n",
              "      <td>1</td>\n",
              "      <td>1</td>\n",
              "    </tr>\n",
              "    <tr>\n",
              "      <th>14967</th>\n",
              "      <td>53685</td>\n",
              "      <td>18</td>\n",
              "      <td>2</td>\n",
              "      <td>47515</td>\n",
              "      <td>13</td>\n",
              "      <td>2</td>\n",
              "      <td>1</td>\n",
              "    </tr>\n",
              "    <tr>\n",
              "      <th>2185</th>\n",
              "      <td>41224</td>\n",
              "      <td>14</td>\n",
              "      <td>3</td>\n",
              "      <td>52876</td>\n",
              "      <td>31</td>\n",
              "      <td>1</td>\n",
              "      <td>0</td>\n",
              "    </tr>\n",
              "    <tr>\n",
              "      <th>...</th>\n",
              "      <td>...</td>\n",
              "      <td>...</td>\n",
              "      <td>...</td>\n",
              "      <td>...</td>\n",
              "      <td>...</td>\n",
              "      <td>...</td>\n",
              "      <td>...</td>\n",
              "    </tr>\n",
              "    <tr>\n",
              "      <th>7409</th>\n",
              "      <td>65686</td>\n",
              "      <td>35</td>\n",
              "      <td>4</td>\n",
              "      <td>59187</td>\n",
              "      <td>29</td>\n",
              "      <td>1</td>\n",
              "      <td>1</td>\n",
              "    </tr>\n",
              "    <tr>\n",
              "      <th>19709</th>\n",
              "      <td>75574</td>\n",
              "      <td>40</td>\n",
              "      <td>2</td>\n",
              "      <td>83105</td>\n",
              "      <td>52</td>\n",
              "      <td>4</td>\n",
              "      <td>0</td>\n",
              "    </tr>\n",
              "    <tr>\n",
              "      <th>25990</th>\n",
              "      <td>35464</td>\n",
              "      <td>29</td>\n",
              "      <td>1</td>\n",
              "      <td>22164</td>\n",
              "      <td>9</td>\n",
              "      <td>0</td>\n",
              "      <td>1</td>\n",
              "    </tr>\n",
              "    <tr>\n",
              "      <th>5787</th>\n",
              "      <td>40330</td>\n",
              "      <td>12</td>\n",
              "      <td>0</td>\n",
              "      <td>46760</td>\n",
              "      <td>23</td>\n",
              "      <td>3</td>\n",
              "      <td>0</td>\n",
              "    </tr>\n",
              "    <tr>\n",
              "      <th>14155</th>\n",
              "      <td>35551</td>\n",
              "      <td>8</td>\n",
              "      <td>1</td>\n",
              "      <td>42531</td>\n",
              "      <td>17</td>\n",
              "      <td>2</td>\n",
              "      <td>0</td>\n",
              "    </tr>\n",
              "  </tbody>\n",
              "</table>\n",
              "<p>21523 rows × 7 columns</p>\n",
              "</div>"
            ],
            "text/plain": [
              "       blueTotalGold  blueKills  ...  redDragonKills  blueWins\n",
              "25987          34361         14  ...               1         0\n",
              "17601          41401         26  ...               0         1\n",
              "6993           70961         54  ...               1         1\n",
              "14967          53685         18  ...               2         1\n",
              "2185           41224         14  ...               1         0\n",
              "...              ...        ...  ...             ...       ...\n",
              "7409           65686         35  ...               1         1\n",
              "19709          75574         40  ...               4         0\n",
              "25990          35464         29  ...               0         1\n",
              "5787           40330         12  ...               3         0\n",
              "14155          35551          8  ...               2         0\n",
              "\n",
              "[21523 rows x 7 columns]"
            ]
          },
          "metadata": {
            "tags": []
          },
          "execution_count": 27
        }
      ]
    },
    {
      "cell_type": "code",
      "metadata": {
        "colab": {
          "base_uri": "https://localhost:8080/"
        },
        "id": "mJfM7-qT5Qrw",
        "outputId": "f5a8011b-5dc5-4754-ba4b-003c094684c9"
      },
      "source": [
        "Y_train"
      ],
      "execution_count": 28,
      "outputs": [
        {
          "output_type": "execute_result",
          "data": {
            "text/plain": [
              "25987    0\n",
              "17601    1\n",
              "6993     1\n",
              "14967    1\n",
              "2185     0\n",
              "        ..\n",
              "7409     1\n",
              "19709    0\n",
              "25990    1\n",
              "5787     0\n",
              "14155    0\n",
              "Name: blueWins, Length: 21523, dtype: int64"
            ]
          },
          "metadata": {
            "tags": []
          },
          "execution_count": 28
        }
      ]
    },
    {
      "cell_type": "markdown",
      "metadata": {
        "id": "PBFEEOCrvXIH"
      },
      "source": [
        "#기계학습\n",
        "\n",
        "\n"
      ]
    },
    {
      "cell_type": "code",
      "metadata": {
        "id": "OPnzN8I-vbD8"
      },
      "source": [
        "\n",
        "# 기계 학습 관련 import\n",
        "from sklearn.linear_model import LogisticRegression\n",
        "from sklearn.svm import SVC, LinearSVC\n",
        "from sklearn.ensemble import RandomForestClassifier\n",
        "from sklearn.neighbors import KNeighborsClassifier\n",
        "from sklearn.naive_bayes import GaussianNB  # 이산형이 아닌 연속형에 대한\n",
        "from sklearn.linear_model import Perceptron\n",
        "from sklearn.linear_model import SGDClassifier\n",
        "from sklearn.tree import DecisionTreeClassifier\n",
        "from sklearn.neural_network import MLPClassifier\n",
        "from sklearn.cluster import KMeans"
      ],
      "execution_count": 29,
      "outputs": []
    },
    {
      "cell_type": "code",
      "metadata": {
        "colab": {
          "base_uri": "https://localhost:8080/"
        },
        "id": "3-6vbXQ6vcv0",
        "outputId": "e0128d4b-234b-4617-ade5-61189967cfca"
      },
      "source": [
        "# Support Vector Machines\n",
        "# SVM 모델 학습\n",
        "svc = SVC()\n",
        "svc.fit(X_train, Y_train)\n",
        "Y_pred_svc = svc.predict(X_test)\n",
        "acc_svc = round(svc.score(X_test, Y_test) * 100, 2)\n",
        "acc_svc"
      ],
      "execution_count": 30,
      "outputs": [
        {
          "output_type": "execute_result",
          "data": {
            "text/plain": [
              "97.7"
            ]
          },
          "metadata": {
            "tags": []
          },
          "execution_count": 30
        }
      ]
    },
    {
      "cell_type": "code",
      "metadata": {
        "colab": {
          "base_uri": "https://localhost:8080/"
        },
        "id": "0NkAx8lQwXe5",
        "outputId": "a8a05557-6a27-46e6-b65c-4eca505aabcb"
      },
      "source": [
        "#k-Nearest Neighbor\n",
        "knn  = KNeighborsClassifier(n_neighbors = 3)\n",
        "knn.fit(X_train, Y_train)\n",
        "Y_pred_knn = knn.predict(X_test)\n",
        "acc_knn = round(knn.score(X_test, Y_test) * 100, 2)\n",
        "acc_knn"
      ],
      "execution_count": 31,
      "outputs": [
        {
          "output_type": "execute_result",
          "data": {
            "text/plain": [
              "97.42"
            ]
          },
          "metadata": {
            "tags": []
          },
          "execution_count": 31
        }
      ]
    },
    {
      "cell_type": "code",
      "metadata": {
        "colab": {
          "base_uri": "https://localhost:8080/"
        },
        "id": "yUerwTUbwXj_",
        "outputId": "648c73fd-aedc-4030-99ea-397a8eaeede4"
      },
      "source": [
        "# Gaussian Naive Bayes\n",
        "gaussian = GaussianNB()\n",
        "gaussian.fit(X_train, Y_train)\n",
        "Y_pred_NB = gaussian.predict(X_test)\n",
        "acc_gaussian = round(gaussian.score(X_test, Y_test) * 100, 2)\n",
        "acc_gaussian"
      ],
      "execution_count": 32,
      "outputs": [
        {
          "output_type": "execute_result",
          "data": {
            "text/plain": [
              "98.55"
            ]
          },
          "metadata": {
            "tags": []
          },
          "execution_count": 32
        }
      ]
    },
    {
      "cell_type": "code",
      "metadata": {
        "colab": {
          "base_uri": "https://localhost:8080/"
        },
        "id": "5WmhCsyWwXmR",
        "outputId": "76e718b8-6c73-466f-f9b3-29347bc3474c"
      },
      "source": [
        "# Decision Tree\n",
        "decision_tree = DecisionTreeClassifier()\n",
        "decision_tree.fit(X_train, Y_train)\n",
        "Y_pred_DT = decision_tree.predict(X_test)\n",
        "acc_decision_tree = round(decision_tree.score(X_test, Y_test) * 100, 2)\n",
        "acc_decision_tree"
      ],
      "execution_count": 33,
      "outputs": [
        {
          "output_type": "execute_result",
          "data": {
            "text/plain": [
              "100.0"
            ]
          },
          "metadata": {
            "tags": []
          },
          "execution_count": 33
        }
      ]
    },
    {
      "cell_type": "code",
      "metadata": {
        "id": "pCAjM2QnvcyQ"
      },
      "source": [
        "# #Artificial Neural Network\n",
        "\n",
        "# ANN = MLPClassifier(solver='lbfgs', alpha=1, hidden_layer_sizes=(30, 10), random_state=1)\n",
        "# ANN.fit(X_train, Y_train)\n",
        "# Y_pred_ANN = ANN.predict(X_test)\n",
        "# acc_ANN = round(ANN.score(X_test, Y_test) * 100, 2)\n",
        "# acc_ANN"
      ],
      "execution_count": 50,
      "outputs": []
    },
    {
      "cell_type": "markdown",
      "metadata": {
        "id": "aQ1m_K6ow1f_"
      },
      "source": [
        "#keras ann model 을 통한 블루팀 승리 예측 \n",
        "블루가 승리하면 레드는 패배이고, 롤 이라는 게임의 특성상 무승부는 존재하지 않기때문에 블루팀이 이겼는지 졌는지만 예측하기로 함\n",
        " "
      ]
    },
    {
      "cell_type": "code",
      "metadata": {
        "id": "ZLuek6lS9Rb0"
      },
      "source": [
        "# keras import\n",
        "from keras import layers, models, datasets\n",
        "from keras.utils import np_utils"
      ],
      "execution_count": 36,
      "outputs": []
    },
    {
      "cell_type": "code",
      "metadata": {
        "id": "N6J6XHWS9z5c"
      },
      "source": [
        "def plot(hist):\n",
        "    fig, loss_ax = plt.subplots()\n",
        "    acc_ax = loss_ax.twinx()\n",
        "\n",
        "    loss_ax.plot(hist.history['loss'], 'y', label='train loss')\n",
        "    loss_ax.plot(hist.history['val_loss'], 'r', label='val loss')\n",
        "\n",
        "    acc_ax.plot(hist.history['accuracy'], 'b', label='train acc')\n",
        "    acc_ax.plot(hist.history['val_accuracy'], 'g', label='val acc')\n",
        "\n",
        "    loss_ax.set_xlabel('epoch')\n",
        "    loss_ax.set_ylabel('loss')\n",
        "    acc_ax.set_ylabel('accuray')\n",
        "\n",
        "    loss_ax.legend(loc='upper left')\n",
        "    acc_ax.legend(loc='lower left')\n",
        "\n",
        "    plt.show()"
      ],
      "execution_count": 37,
      "outputs": []
    },
    {
      "cell_type": "markdown",
      "metadata": {
        "id": "GK0Jr6ifbrXw"
      },
      "source": [
        "relu, sigmoid 활성화함수 사용\n",
        "adam 확률적 경사 하강법 손실함수를 사용하여 손실률을 최적화\\\n",
        "apoch= 40\n",
        "evaluate batch size = 32\n",
        "predict batch size = 128"
      ]
    },
    {
      "cell_type": "code",
      "metadata": {
        "colab": {
          "base_uri": "https://localhost:8080/"
        },
        "id": "ObZkBWkN9z7x",
        "outputId": "bee925c3-22c0-46f4-f270-69e53fc80a76"
      },
      "source": [
        "import keras\n",
        "from keras.models import Sequential\n",
        "from keras.layers import Dense, Dropout, Activation\n",
        "\n",
        "model = Sequential()\n",
        "model.add(Dense(64, activation='relu', input_dim=7))\n",
        "model.add(Dropout(0.2))\n",
        "model.add(Dense(64, activation='relu'))\n",
        "model.add(Dropout(0.2))\n",
        "model.add(Dense(1, activation='sigmoid'))       \n",
        "model.compile(loss='binary_crossentropy',optimizer='adam', metrics=['accuracy'])\n",
        "\n",
        "history = model.fit(X_train, Y_train, epochs=40,\n",
        "        batch_size=32, validation_split=0.2)\n",
        "performance_test = model.evaluate(X_test, Y_test, batch_size=32)\n",
        "classes = model.predict(X_test, batch_size=128)\n",
        "performance_test"
      ],
      "execution_count": 64,
      "outputs": [
        {
          "output_type": "stream",
          "text": [
            "Epoch 1/40\n",
            "539/539 [==============================] - 2s 3ms/step - loss: 275.7907 - accuracy: 0.8842 - val_loss: 5.4147 - val_accuracy: 0.9545\n",
            "Epoch 2/40\n",
            "539/539 [==============================] - 1s 3ms/step - loss: 20.5885 - accuracy: 0.9026 - val_loss: 0.2672 - val_accuracy: 0.9129\n",
            "Epoch 3/40\n",
            "539/539 [==============================] - 2s 3ms/step - loss: 5.0101 - accuracy: 0.8660 - val_loss: 0.2808 - val_accuracy: 0.8379\n",
            "Epoch 4/40\n",
            "539/539 [==============================] - 1s 3ms/step - loss: 1.6501 - accuracy: 0.8381 - val_loss: 0.2899 - val_accuracy: 0.8395\n",
            "Epoch 5/40\n",
            "539/539 [==============================] - 1s 3ms/step - loss: 0.9598 - accuracy: 0.8316 - val_loss: 0.2181 - val_accuracy: 0.8966\n",
            "Epoch 6/40\n",
            "539/539 [==============================] - 2s 3ms/step - loss: 1.0555 - accuracy: 0.8388 - val_loss: 0.2105 - val_accuracy: 0.8829\n",
            "Epoch 7/40\n",
            "539/539 [==============================] - 1s 3ms/step - loss: 0.6934 - accuracy: 0.8291 - val_loss: 0.2686 - val_accuracy: 0.8462\n",
            "Epoch 8/40\n",
            "539/539 [==============================] - 2s 3ms/step - loss: 0.6279 - accuracy: 0.8423 - val_loss: 0.2229 - val_accuracy: 0.8876\n",
            "Epoch 9/40\n",
            "539/539 [==============================] - 2s 3ms/step - loss: 0.3743 - accuracy: 0.8507 - val_loss: 0.1814 - val_accuracy: 0.8943\n",
            "Epoch 10/40\n",
            "539/539 [==============================] - 2s 3ms/step - loss: 0.3797 - accuracy: 0.8511 - val_loss: 0.2087 - val_accuracy: 0.8780\n",
            "Epoch 11/40\n",
            "539/539 [==============================] - 2s 3ms/step - loss: 0.3723 - accuracy: 0.8715 - val_loss: 0.2162 - val_accuracy: 0.8518\n",
            "Epoch 12/40\n",
            "539/539 [==============================] - 1s 3ms/step - loss: 0.4246 - accuracy: 0.8574 - val_loss: 0.1502 - val_accuracy: 0.9220\n",
            "Epoch 13/40\n",
            "539/539 [==============================] - 1s 3ms/step - loss: 0.2910 - accuracy: 0.8647 - val_loss: 0.1584 - val_accuracy: 0.9008\n",
            "Epoch 14/40\n",
            "539/539 [==============================] - 1s 3ms/step - loss: 0.3279 - accuracy: 0.8786 - val_loss: 0.1384 - val_accuracy: 0.9115\n",
            "Epoch 15/40\n",
            "539/539 [==============================] - 1s 3ms/step - loss: 0.3130 - accuracy: 0.8729 - val_loss: 0.1547 - val_accuracy: 0.8846\n",
            "Epoch 16/40\n",
            "539/539 [==============================] - 2s 3ms/step - loss: 0.3110 - accuracy: 0.8664 - val_loss: 0.1597 - val_accuracy: 0.9433\n",
            "Epoch 17/40\n",
            "539/539 [==============================] - 2s 3ms/step - loss: 0.2890 - accuracy: 0.8801 - val_loss: 0.1422 - val_accuracy: 0.9264\n",
            "Epoch 18/40\n",
            "539/539 [==============================] - 1s 3ms/step - loss: 0.2356 - accuracy: 0.8974 - val_loss: 0.1792 - val_accuracy: 0.9259\n",
            "Epoch 19/40\n",
            "539/539 [==============================] - 1s 3ms/step - loss: 0.2413 - accuracy: 0.8952 - val_loss: 0.1098 - val_accuracy: 0.9768\n",
            "Epoch 20/40\n",
            "539/539 [==============================] - 1s 3ms/step - loss: 0.3152 - accuracy: 0.8877 - val_loss: 0.1511 - val_accuracy: 0.9566\n",
            "Epoch 21/40\n",
            "539/539 [==============================] - 2s 3ms/step - loss: 0.2304 - accuracy: 0.9036 - val_loss: 0.1381 - val_accuracy: 0.9310\n",
            "Epoch 22/40\n",
            "539/539 [==============================] - 2s 3ms/step - loss: 0.3090 - accuracy: 0.8761 - val_loss: 0.1694 - val_accuracy: 0.9501\n",
            "Epoch 23/40\n",
            "539/539 [==============================] - 2s 3ms/step - loss: 0.2752 - accuracy: 0.8721 - val_loss: 0.1202 - val_accuracy: 0.9510\n",
            "Epoch 24/40\n",
            "539/539 [==============================] - 1s 3ms/step - loss: 0.3436 - accuracy: 0.8498 - val_loss: 0.1832 - val_accuracy: 0.9092\n",
            "Epoch 25/40\n",
            "539/539 [==============================] - 1s 3ms/step - loss: 0.3294 - accuracy: 0.8163 - val_loss: 0.1171 - val_accuracy: 0.9600\n",
            "Epoch 26/40\n",
            "539/539 [==============================] - 1s 3ms/step - loss: 0.2073 - accuracy: 0.8841 - val_loss: 0.0724 - val_accuracy: 0.9633\n",
            "Epoch 27/40\n",
            "539/539 [==============================] - 2s 3ms/step - loss: 0.1920 - accuracy: 0.9131 - val_loss: 0.0721 - val_accuracy: 0.9731\n",
            "Epoch 28/40\n",
            "539/539 [==============================] - 2s 3ms/step - loss: 0.1886 - accuracy: 0.9094 - val_loss: 0.0925 - val_accuracy: 0.9672\n",
            "Epoch 29/40\n",
            "539/539 [==============================] - 2s 3ms/step - loss: 0.2455 - accuracy: 0.8941 - val_loss: 0.0876 - val_accuracy: 0.9517\n",
            "Epoch 30/40\n",
            "539/539 [==============================] - 1s 3ms/step - loss: 0.2542 - accuracy: 0.8921 - val_loss: 0.1404 - val_accuracy: 0.9294\n",
            "Epoch 31/40\n",
            "539/539 [==============================] - 2s 3ms/step - loss: 0.2086 - accuracy: 0.8905 - val_loss: 0.0779 - val_accuracy: 0.9670\n",
            "Epoch 32/40\n",
            "539/539 [==============================] - 1s 3ms/step - loss: 0.2382 - accuracy: 0.8976 - val_loss: 0.1625 - val_accuracy: 0.8676\n",
            "Epoch 33/40\n",
            "539/539 [==============================] - 1s 3ms/step - loss: 0.1944 - accuracy: 0.8963 - val_loss: 0.1131 - val_accuracy: 0.9661\n",
            "Epoch 34/40\n",
            "539/539 [==============================] - 2s 3ms/step - loss: 0.1749 - accuracy: 0.9158 - val_loss: 0.1563 - val_accuracy: 0.8887\n",
            "Epoch 35/40\n",
            "539/539 [==============================] - 2s 3ms/step - loss: 0.2918 - accuracy: 0.8952 - val_loss: 0.1031 - val_accuracy: 0.9547\n",
            "Epoch 36/40\n",
            "539/539 [==============================] - 2s 3ms/step - loss: 0.1956 - accuracy: 0.9001 - val_loss: 0.0909 - val_accuracy: 0.9640\n",
            "Epoch 37/40\n",
            "539/539 [==============================] - 2s 3ms/step - loss: 0.2066 - accuracy: 0.9115 - val_loss: 0.1240 - val_accuracy: 0.9810\n",
            "Epoch 38/40\n",
            "539/539 [==============================] - 2s 3ms/step - loss: 0.1588 - accuracy: 0.9302 - val_loss: 0.1238 - val_accuracy: 0.9744\n",
            "Epoch 39/40\n",
            "539/539 [==============================] - 2s 3ms/step - loss: 0.2637 - accuracy: 0.9004 - val_loss: 0.1648 - val_accuracy: 0.9791\n",
            "Epoch 40/40\n",
            "539/539 [==============================] - 2s 3ms/step - loss: 0.2140 - accuracy: 0.9157 - val_loss: 0.1209 - val_accuracy: 0.9786\n",
            "169/169 [==============================] - 0s 2ms/step - loss: 0.1246 - accuracy: 0.9740\n"
          ],
          "name": "stdout"
        },
        {
          "output_type": "execute_result",
          "data": {
            "text/plain": [
              "[0.12464801222085953, 0.9739825129508972]"
            ]
          },
          "metadata": {
            "tags": []
          },
          "execution_count": 64
        }
      ]
    },
    {
      "cell_type": "code",
      "metadata": {
        "id": "zQJExFlM9z-M"
      },
      "source": [
        "classes2_list = classes.tolist()\n",
        "model_keras_ANN = []\n",
        "for i in classes2_list:\n",
        "    model_keras_ANN.append(round(i[0]))"
      ],
      "execution_count": 51,
      "outputs": []
    },
    {
      "cell_type": "code",
      "metadata": {
        "colab": {
          "base_uri": "https://localhost:8080/"
        },
        "id": "WL6z7BNDgs7a",
        "outputId": "f86af429-c06a-4bf0-d599-239763a6e682"
      },
      "source": [
        "test_loss, test_acc = model.evaluate(X_test, Y_test, batch_size=32)\n",
        "\n",
        "print('\\n테스트 정확도:', test_acc)"
      ],
      "execution_count": 65,
      "outputs": [
        {
          "output_type": "stream",
          "text": [
            "169/169 [==============================] - 0s 2ms/step - loss: 0.1246 - accuracy: 0.9740\n",
            "\n",
            "테스트 정확도: 0.9739825129508972\n"
          ],
          "name": "stdout"
        }
      ]
    },
    {
      "cell_type": "markdown",
      "metadata": {
        "id": "ONxmsUKcAFXJ"
      },
      "source": [
        "#모델검증"
      ]
    },
    {
      "cell_type": "code",
      "metadata": {
        "colab": {
          "base_uri": "https://localhost:8080/"
        },
        "id": "IiZg2Ahz90Av",
        "outputId": "c1f3b87a-0b97-4e0a-b248-d2e75f89eec3"
      },
      "source": [
        "#report\n",
        "from sklearn.metrics import classification_report\n",
        "print(classification_report(Y_test, Y_pred_ANN, digits=4))"
      ],
      "execution_count": 52,
      "outputs": [
        {
          "output_type": "stream",
          "text": [
            "              precision    recall  f1-score   support\n",
            "\n",
            "           0     0.9877    0.8715    0.9260      2677\n",
            "           1     0.8861    0.9893    0.9348      2704\n",
            "\n",
            "    accuracy                         0.9307      5381\n",
            "   macro avg     0.9369    0.9304    0.9304      5381\n",
            "weighted avg     0.9366    0.9307    0.9304      5381\n",
            "\n"
          ],
          "name": "stdout"
        }
      ]
    },
    {
      "cell_type": "markdown",
      "metadata": {
        "id": "a2T3nDZecLlX"
      },
      "source": [
        "패배의 경우 98퍼센트로 예측하고 승리의 경우 88퍼센트로 예측하는것을 알 수 있다."
      ]
    },
    {
      "cell_type": "markdown",
      "metadata": {
        "id": "FdbjjKU0Bril"
      },
      "source": [
        "# 더 정확하게 딜량 추가\n"
      ]
    },
    {
      "cell_type": "code",
      "metadata": {
        "id": "kn8VE_cvBtEh"
      },
      "source": [
        "# 필요한 feature만 뽑아 새로운 df에 저장 # 딜량 추가\n",
        "test_df = challenger_df[[ 'blueChampionDamageDealt','blueTotalGold', 'blueKills', 'redChampionDamageDealt','redTotalGold', 'redKills','blueWins']]"
      ],
      "execution_count": 41,
      "outputs": []
    },
    {
      "cell_type": "code",
      "metadata": {
        "colab": {
          "base_uri": "https://localhost:8080/"
        },
        "id": "woX91mABBtL-",
        "outputId": "834511c0-0cd0-4265-9a63-2f82f95128f7"
      },
      "source": [
        "# 데이터 내에서 학습 집합과 테스트 집합을 나눔(8:2)\n",
        "X_train, X_test, y_train, y_test = train_test_split(test_df, bluewin_y, test_size=.2,random_state=12)\n",
        "\n",
        "X_train.shape, Y_train.shape, X_test.shape, Y_test.shape"
      ],
      "execution_count": 42,
      "outputs": [
        {
          "output_type": "execute_result",
          "data": {
            "text/plain": [
              "((21523, 7), (21523,), (5381, 7), (5381,))"
            ]
          },
          "metadata": {
            "tags": []
          },
          "execution_count": 42
        }
      ]
    },
    {
      "cell_type": "code",
      "metadata": {
        "colab": {
          "base_uri": "https://localhost:8080/",
          "height": 406
        },
        "id": "vAdRI9RPjoxc",
        "outputId": "cec095a1-c868-42ee-9c19-d46dd0837814"
      },
      "source": [
        "test_df"
      ],
      "execution_count": 98,
      "outputs": [
        {
          "output_type": "execute_result",
          "data": {
            "text/html": [
              "<div>\n",
              "<style scoped>\n",
              "    .dataframe tbody tr th:only-of-type {\n",
              "        vertical-align: middle;\n",
              "    }\n",
              "\n",
              "    .dataframe tbody tr th {\n",
              "        vertical-align: top;\n",
              "    }\n",
              "\n",
              "    .dataframe thead th {\n",
              "        text-align: right;\n",
              "    }\n",
              "</style>\n",
              "<table border=\"1\" class=\"dataframe\">\n",
              "  <thead>\n",
              "    <tr style=\"text-align: right;\">\n",
              "      <th></th>\n",
              "      <th>blueChampionDamageDealt</th>\n",
              "      <th>blueTotalGold</th>\n",
              "      <th>blueKills</th>\n",
              "      <th>redChampionDamageDealt</th>\n",
              "      <th>redTotalGold</th>\n",
              "      <th>redKills</th>\n",
              "      <th>blueWins</th>\n",
              "    </tr>\n",
              "  </thead>\n",
              "  <tbody>\n",
              "    <tr>\n",
              "      <th>0</th>\n",
              "      <td>56039</td>\n",
              "      <td>37001</td>\n",
              "      <td>15</td>\n",
              "      <td>73016</td>\n",
              "      <td>49832</td>\n",
              "      <td>31</td>\n",
              "      <td>0</td>\n",
              "    </tr>\n",
              "    <tr>\n",
              "      <th>1</th>\n",
              "      <td>60243</td>\n",
              "      <td>41072</td>\n",
              "      <td>19</td>\n",
              "      <td>44218</td>\n",
              "      <td>37136</td>\n",
              "      <td>8</td>\n",
              "      <td>1</td>\n",
              "    </tr>\n",
              "    <tr>\n",
              "      <th>2</th>\n",
              "      <td>24014</td>\n",
              "      <td>22929</td>\n",
              "      <td>5</td>\n",
              "      <td>30797</td>\n",
              "      <td>35364</td>\n",
              "      <td>20</td>\n",
              "      <td>0</td>\n",
              "    </tr>\n",
              "    <tr>\n",
              "      <th>3</th>\n",
              "      <td>101607</td>\n",
              "      <td>63447</td>\n",
              "      <td>26</td>\n",
              "      <td>125866</td>\n",
              "      <td>70528</td>\n",
              "      <td>36</td>\n",
              "      <td>0</td>\n",
              "    </tr>\n",
              "    <tr>\n",
              "      <th>4</th>\n",
              "      <td>134826</td>\n",
              "      <td>74955</td>\n",
              "      <td>27</td>\n",
              "      <td>131536</td>\n",
              "      <td>74596</td>\n",
              "      <td>40</td>\n",
              "      <td>1</td>\n",
              "    </tr>\n",
              "    <tr>\n",
              "      <th>...</th>\n",
              "      <td>...</td>\n",
              "      <td>...</td>\n",
              "      <td>...</td>\n",
              "      <td>...</td>\n",
              "      <td>...</td>\n",
              "      <td>...</td>\n",
              "      <td>...</td>\n",
              "    </tr>\n",
              "    <tr>\n",
              "      <th>26899</th>\n",
              "      <td>99418</td>\n",
              "      <td>41437</td>\n",
              "      <td>24</td>\n",
              "      <td>75531</td>\n",
              "      <td>46558</td>\n",
              "      <td>27</td>\n",
              "      <td>0</td>\n",
              "    </tr>\n",
              "    <tr>\n",
              "      <th>26900</th>\n",
              "      <td>61816</td>\n",
              "      <td>61221</td>\n",
              "      <td>29</td>\n",
              "      <td>99837</td>\n",
              "      <td>70177</td>\n",
              "      <td>40</td>\n",
              "      <td>0</td>\n",
              "    </tr>\n",
              "    <tr>\n",
              "      <th>26901</th>\n",
              "      <td>51604</td>\n",
              "      <td>45013</td>\n",
              "      <td>14</td>\n",
              "      <td>55214</td>\n",
              "      <td>48849</td>\n",
              "      <td>20</td>\n",
              "      <td>0</td>\n",
              "    </tr>\n",
              "    <tr>\n",
              "      <th>26902</th>\n",
              "      <td>93059</td>\n",
              "      <td>58160</td>\n",
              "      <td>32</td>\n",
              "      <td>88366</td>\n",
              "      <td>52625</td>\n",
              "      <td>19</td>\n",
              "      <td>1</td>\n",
              "    </tr>\n",
              "    <tr>\n",
              "      <th>26903</th>\n",
              "      <td>22427</td>\n",
              "      <td>30001</td>\n",
              "      <td>10</td>\n",
              "      <td>16574</td>\n",
              "      <td>20972</td>\n",
              "      <td>2</td>\n",
              "      <td>1</td>\n",
              "    </tr>\n",
              "  </tbody>\n",
              "</table>\n",
              "<p>26904 rows × 7 columns</p>\n",
              "</div>"
            ],
            "text/plain": [
              "       blueChampionDamageDealt  blueTotalGold  ...  redKills  blueWins\n",
              "0                        56039          37001  ...        31         0\n",
              "1                        60243          41072  ...         8         1\n",
              "2                        24014          22929  ...        20         0\n",
              "3                       101607          63447  ...        36         0\n",
              "4                       134826          74955  ...        40         1\n",
              "...                        ...            ...  ...       ...       ...\n",
              "26899                    99418          41437  ...        27         0\n",
              "26900                    61816          61221  ...        40         0\n",
              "26901                    51604          45013  ...        20         0\n",
              "26902                    93059          58160  ...        19         1\n",
              "26903                    22427          30001  ...         2         1\n",
              "\n",
              "[26904 rows x 7 columns]"
            ]
          },
          "metadata": {
            "tags": []
          },
          "execution_count": 98
        }
      ]
    },
    {
      "cell_type": "code",
      "metadata": {
        "id": "-vtJ_31XDB2x"
      },
      "source": [
        "bluewin_y = test_df['blueWins']"
      ],
      "execution_count": 43,
      "outputs": []
    },
    {
      "cell_type": "code",
      "metadata": {
        "colab": {
          "base_uri": "https://localhost:8080/"
        },
        "id": "ue1paBK6BtOa",
        "outputId": "fb904907-4294-4d0c-fe20-bcdcd0084989"
      },
      "source": [
        "import keras\n",
        "from keras.models import Sequential\n",
        "from keras.layers import Dense, Dropout, Activation\n",
        "\n",
        "model = Sequential()\n",
        "model.add(Dense(64, activation='relu', input_dim=7))\n",
        "model.add(Dropout(0.2))\n",
        "model.add(Dense(64, activation='relu'))\n",
        "model.add(Dropout(0.2))\n",
        "model.add(Dense(1, activation='sigmoid'))       \n",
        "model.compile(loss='binary_crossentropy',optimizer='adam', metrics=['accuracy'])\n",
        "\n",
        "history = model.fit(X_train, Y_train, epochs=40,\n",
        "        batch_size=32, validation_split=0.2)\n",
        "performance_test = model.evaluate(X_test, Y_test, batch_size=32)\n",
        "classes = model.predict(X_test, batch_size=128)\n",
        "performance_test"
      ],
      "execution_count": 44,
      "outputs": [
        {
          "output_type": "stream",
          "text": [
            "Epoch 1/40\n",
            "539/539 [==============================] - 2s 3ms/step - loss: 591.5804 - accuracy: 0.8524 - val_loss: 17.2593 - val_accuracy: 0.9433\n",
            "Epoch 2/40\n",
            "539/539 [==============================] - 1s 3ms/step - loss: 37.9356 - accuracy: 0.8803 - val_loss: 1.6028 - val_accuracy: 0.8316\n",
            "Epoch 3/40\n",
            "539/539 [==============================] - 1s 3ms/step - loss: 6.7866 - accuracy: 0.8352 - val_loss: 0.3270 - val_accuracy: 0.8952\n",
            "Epoch 4/40\n",
            "539/539 [==============================] - 1s 3ms/step - loss: 2.3828 - accuracy: 0.8131 - val_loss: 0.4046 - val_accuracy: 0.8846\n",
            "Epoch 5/40\n",
            "539/539 [==============================] - 2s 3ms/step - loss: 1.1489 - accuracy: 0.7968 - val_loss: 0.3892 - val_accuracy: 0.8557\n",
            "Epoch 6/40\n",
            "539/539 [==============================] - 2s 3ms/step - loss: 0.7903 - accuracy: 0.8009 - val_loss: 0.2947 - val_accuracy: 0.8509\n",
            "Epoch 7/40\n",
            "539/539 [==============================] - 1s 3ms/step - loss: 0.5776 - accuracy: 0.8225 - val_loss: 0.2597 - val_accuracy: 0.8648\n",
            "Epoch 8/40\n",
            "539/539 [==============================] - 1s 3ms/step - loss: 0.6796 - accuracy: 0.8270 - val_loss: 0.2586 - val_accuracy: 0.8706\n",
            "Epoch 9/40\n",
            "539/539 [==============================] - 1s 3ms/step - loss: 0.5747 - accuracy: 0.8254 - val_loss: 0.2394 - val_accuracy: 0.8437\n",
            "Epoch 10/40\n",
            "539/539 [==============================] - 2s 3ms/step - loss: 0.5021 - accuracy: 0.8110 - val_loss: 0.1896 - val_accuracy: 0.8692\n",
            "Epoch 11/40\n",
            "539/539 [==============================] - 1s 3ms/step - loss: 0.3660 - accuracy: 0.8411 - val_loss: 0.2191 - val_accuracy: 0.8778\n",
            "Epoch 12/40\n",
            "539/539 [==============================] - 2s 3ms/step - loss: 0.3710 - accuracy: 0.8375 - val_loss: 0.1855 - val_accuracy: 0.8688\n",
            "Epoch 13/40\n",
            "539/539 [==============================] - 2s 3ms/step - loss: 0.3357 - accuracy: 0.8434 - val_loss: 0.1871 - val_accuracy: 0.8876\n",
            "Epoch 14/40\n",
            "539/539 [==============================] - 2s 3ms/step - loss: 0.3686 - accuracy: 0.8385 - val_loss: 0.1791 - val_accuracy: 0.8736\n",
            "Epoch 15/40\n",
            "539/539 [==============================] - 1s 3ms/step - loss: 0.3542 - accuracy: 0.8503 - val_loss: 0.1906 - val_accuracy: 0.8490\n",
            "Epoch 16/40\n",
            "539/539 [==============================] - 1s 3ms/step - loss: 0.3102 - accuracy: 0.8413 - val_loss: 0.1344 - val_accuracy: 0.9473\n",
            "Epoch 17/40\n",
            "539/539 [==============================] - 2s 3ms/step - loss: 0.3440 - accuracy: 0.8374 - val_loss: 0.3522 - val_accuracy: 0.9498\n",
            "Epoch 18/40\n",
            "539/539 [==============================] - 1s 3ms/step - loss: 0.3903 - accuracy: 0.7997 - val_loss: 0.2054 - val_accuracy: 0.9134\n",
            "Epoch 19/40\n",
            "539/539 [==============================] - 1s 3ms/step - loss: 0.3453 - accuracy: 0.8542 - val_loss: 0.2237 - val_accuracy: 0.9440\n",
            "Epoch 20/40\n",
            "539/539 [==============================] - 1s 3ms/step - loss: 0.2990 - accuracy: 0.8511 - val_loss: 0.1560 - val_accuracy: 0.9069\n",
            "Epoch 21/40\n",
            "539/539 [==============================] - 2s 3ms/step - loss: 0.2579 - accuracy: 0.8697 - val_loss: 0.0981 - val_accuracy: 0.9633\n",
            "Epoch 22/40\n",
            "539/539 [==============================] - 2s 3ms/step - loss: 0.2518 - accuracy: 0.8982 - val_loss: 0.1238 - val_accuracy: 0.9731\n",
            "Epoch 23/40\n",
            "539/539 [==============================] - 2s 3ms/step - loss: 0.3975 - accuracy: 0.8606 - val_loss: 0.1564 - val_accuracy: 0.8792\n",
            "Epoch 24/40\n",
            "539/539 [==============================] - 2s 3ms/step - loss: 0.2400 - accuracy: 0.8832 - val_loss: 0.1154 - val_accuracy: 0.9663\n",
            "Epoch 25/40\n",
            "539/539 [==============================] - 2s 3ms/step - loss: 0.3560 - accuracy: 0.8416 - val_loss: 0.2790 - val_accuracy: 0.7916\n",
            "Epoch 26/40\n",
            "539/539 [==============================] - 2s 3ms/step - loss: 0.2745 - accuracy: 0.8517 - val_loss: 0.0962 - val_accuracy: 0.9333\n",
            "Epoch 27/40\n",
            "539/539 [==============================] - 1s 3ms/step - loss: 0.2585 - accuracy: 0.8803 - val_loss: 0.2272 - val_accuracy: 0.8509\n",
            "Epoch 28/40\n",
            "539/539 [==============================] - 2s 3ms/step - loss: 0.3565 - accuracy: 0.8350 - val_loss: 0.1882 - val_accuracy: 0.8077\n",
            "Epoch 29/40\n",
            "539/539 [==============================] - 2s 3ms/step - loss: 0.2455 - accuracy: 0.8762 - val_loss: 0.2080 - val_accuracy: 0.9696\n",
            "Epoch 30/40\n",
            "539/539 [==============================] - 2s 3ms/step - loss: 0.2276 - accuracy: 0.9099 - val_loss: 0.1416 - val_accuracy: 0.9489\n",
            "Epoch 31/40\n",
            "539/539 [==============================] - 1s 3ms/step - loss: 0.1886 - accuracy: 0.9189 - val_loss: 0.0801 - val_accuracy: 0.9807\n",
            "Epoch 32/40\n",
            "539/539 [==============================] - 1s 3ms/step - loss: 0.1947 - accuracy: 0.9142 - val_loss: 0.0727 - val_accuracy: 0.9631\n",
            "Epoch 33/40\n",
            "539/539 [==============================] - 1s 3ms/step - loss: 0.2352 - accuracy: 0.9016 - val_loss: 0.1219 - val_accuracy: 0.9491\n",
            "Epoch 34/40\n",
            "539/539 [==============================] - 1s 3ms/step - loss: 0.3251 - accuracy: 0.8755 - val_loss: 0.2095 - val_accuracy: 0.9196\n",
            "Epoch 35/40\n",
            "539/539 [==============================] - 1s 3ms/step - loss: 0.2418 - accuracy: 0.8881 - val_loss: 0.0916 - val_accuracy: 0.9480\n",
            "Epoch 36/40\n",
            "539/539 [==============================] - 1s 3ms/step - loss: 0.2843 - accuracy: 0.8955 - val_loss: 0.2077 - val_accuracy: 0.9443\n",
            "Epoch 37/40\n",
            "539/539 [==============================] - 1s 3ms/step - loss: 0.2323 - accuracy: 0.8976 - val_loss: 0.1659 - val_accuracy: 0.9733\n",
            "Epoch 38/40\n",
            "539/539 [==============================] - 1s 3ms/step - loss: 0.1818 - accuracy: 0.9196 - val_loss: 0.0718 - val_accuracy: 0.9584\n",
            "Epoch 39/40\n",
            "539/539 [==============================] - 2s 3ms/step - loss: 0.1800 - accuracy: 0.9153 - val_loss: 0.1209 - val_accuracy: 0.9803\n",
            "Epoch 40/40\n",
            "539/539 [==============================] - 2s 3ms/step - loss: 0.2142 - accuracy: 0.9035 - val_loss: 0.1118 - val_accuracy: 0.9575\n",
            "169/169 [==============================] - 0s 2ms/step - loss: 0.1372 - accuracy: 0.9496\n"
          ],
          "name": "stdout"
        },
        {
          "output_type": "execute_result",
          "data": {
            "text/plain": [
              "[0.13720868527889252, 0.9496375918388367]"
            ]
          },
          "metadata": {
            "tags": []
          },
          "execution_count": 44
        }
      ]
    },
    {
      "cell_type": "code",
      "metadata": {
        "id": "dv7UIOpPBtSM"
      },
      "source": [
        "classes2_list = classes.tolist()\n",
        "model_keras_ANN = []\n",
        "for i in classes2_list:\n",
        "    model_keras_ANN.append(round(i[0]))"
      ],
      "execution_count": 45,
      "outputs": []
    },
    {
      "cell_type": "code",
      "metadata": {
        "colab": {
          "base_uri": "https://localhost:8080/"
        },
        "id": "AsPPkqE3BtUd",
        "outputId": "573790e0-73d8-4e03-95e3-09a8fbe0eccc"
      },
      "source": [
        "#report\n",
        "from sklearn.metrics import classification_report\n",
        "print(classification_report(Y_test, Y_pred_ANN, digits=4))"
      ],
      "execution_count": 53,
      "outputs": [
        {
          "output_type": "stream",
          "text": [
            "              precision    recall  f1-score   support\n",
            "\n",
            "           0     0.9877    0.8715    0.9260      2677\n",
            "           1     0.8861    0.9893    0.9348      2704\n",
            "\n",
            "    accuracy                         0.9307      5381\n",
            "   macro avg     0.9369    0.9304    0.9304      5381\n",
            "weighted avg     0.9366    0.9307    0.9304      5381\n",
            "\n"
          ],
          "name": "stdout"
        }
      ]
    },
    {
      "cell_type": "code",
      "metadata": {
        "colab": {
          "base_uri": "https://localhost:8080/"
        },
        "id": "3hbKqy1xgrI4",
        "outputId": "afb13ce5-ed03-40c5-d046-14e26371ae5c"
      },
      "source": [
        "test_loss, test_acc = model.evaluate(X_test, Y_test, batch_size=32)\n",
        "\n",
        "print('\\n테스트 정확도:', test_acc)"
      ],
      "execution_count": 62,
      "outputs": [
        {
          "output_type": "stream",
          "text": [
            "169/169 [==============================] - 0s 2ms/step - loss: 0.1372 - accuracy: 0.9496\n",
            "\n",
            "테스트 정확도: 0.9496375918388367\n"
          ],
          "name": "stdout"
        }
      ]
    },
    {
      "cell_type": "code",
      "metadata": {
        "colab": {
          "base_uri": "https://localhost:8080/",
          "height": 264
        },
        "id": "rqChaPopBtWe",
        "outputId": "7077490d-2910-4dbc-cbd5-88716e037392"
      },
      "source": [
        "import matplotlib.pyplot as plt\n",
        "%matplotlib inline\n",
        "from keras.models import Sequential\n",
        "from keras.layers import Dense\n",
        "from keras.optimizers import Adam\n",
        "\n",
        "plt.figure(figsize=(5,4))\n",
        "plt.plot(history.history['loss'])\n",
        "plt.plot(history.history['val_loss'])\n",
        "# plt.plot(hist.history['acc'])\n",
        "# plt.plot(hist.history['val_acc'])\n",
        "plt.legend(['loss','val_loss', 'acc','val_acc'])\n",
        "plt.grid()\n",
        "plt.show()"
      ],
      "execution_count": 59,
      "outputs": [
        {
          "output_type": "display_data",
          "data": {
            "image/png": "[encoded data removed]",
            "text/plain": [
              "<Figure size 360x288 with 1 Axes>"
            ]
          },
          "metadata": {
            "tags": [],
            "needs_background": "light"
          }
        }
      ]
    },
    {
      "cell_type": "code",
      "metadata": {
        "colab": {
          "base_uri": "https://localhost:8080/"
        },
        "id": "PU3H6qgTgjAR",
        "outputId": "8f09acf1-83c9-4660-fcdf-2822adf5a575"
      },
      "source": [
        "test_loss, test_acc = model.evaluate(X_test, Y_test, batch_size=32)\n",
        "\n",
        "print('\\n테스트 정확도:', test_acc)"
      ],
      "execution_count": 61,
      "outputs": [
        {
          "output_type": "stream",
          "text": [
            "169/169 [==============================] - 0s 2ms/step - loss: 0.1372 - accuracy: 0.9496\n",
            "\n",
            "테스트 정확도: 0.9496375918388367\n"
          ],
          "name": "stdout"
        }
      ]
    },
    {
      "cell_type": "code",
      "metadata": {
        "id": "2LVNEzOwiEJ0"
      },
      "source": [
        ""
      ],
      "execution_count": null,
      "outputs": []
    },
    {
      "cell_type": "markdown",
      "metadata": {
        "id": "pamE0vz4hMHu"
      },
      "source": [
        "# 임의 경기 예측"
      ]
    },
    {
      "cell_type": "code",
      "metadata": {
        "id": "lQxZ_nuahLZ8"
      },
      "source": [
        "# 블루팀이 이긴 경기 데이터\n",
        "predictions = model.predict([[60243,41072,19,44218,37136,8,1]] )"
      ],
      "execution_count": 105,
      "outputs": []
    },
    {
      "cell_type": "code",
      "metadata": {
        "colab": {
          "base_uri": "https://localhost:8080/"
        },
        "id": "6imvQXZsh-Jr",
        "outputId": "2885b958-802d-4b9e-d44d-3e354986f730"
      },
      "source": [
        "predictions[0]"
      ],
      "execution_count": 107,
      "outputs": [
        {
          "output_type": "execute_result",
          "data": {
            "text/plain": [
              "array([0.9943076], dtype=float32)"
            ]
          },
          "metadata": {
            "tags": []
          },
          "execution_count": 107
        }
      ]
    },
    {
      "cell_type": "markdown",
      "metadata": {
        "id": "H803qW-MkTVQ"
      },
      "source": [
        "블루팀이 이겻을 것으로 예측 // 1에 가깝기 때문에"
      ]
    }
  ]
}